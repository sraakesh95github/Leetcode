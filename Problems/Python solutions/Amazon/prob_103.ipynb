{
 "cells": [
  {
   "cell_type": "markdown",
   "metadata": {},
   "source": [
    "## ZigZag traversal"
   ]
  },
  {
   "cell_type": "code",
   "execution_count": 45,
   "metadata": {},
   "outputs": [],
   "source": [
    "# Definition for a binary tree node.\n",
    "class TreeNode:\n",
    "    def __init__(self, val=0, left=None, right=None):\n",
    "        self.val = val\n",
    "        self.left = left\n",
    "        self.right = right\n",
    "        \n",
    "class Solution:\n",
    "    def zigzagLevelOrder(self, root):\n",
    "        height = self.max_depth(root)\n",
    "        final_level_list = []\n",
    "        for d in range(height):\n",
    "            level_list = []\n",
    "            if(d%2 == 0):\n",
    "                level_list = self.zigzagTraverse(root, d, False, level_list)\n",
    "            else:\n",
    "                level_list = self.zigzagTraverse(root, d, True, level_list)\n",
    "            final_level_list.append(level_list)\n",
    "        return final_level_list\n",
    "\n",
    "    def zigzagTraverse(self, root, level, reversed, level_array):\n",
    "        if(root is None):\n",
    "            return 0\n",
    "        else:\n",
    "            if(root.val is not None):\n",
    "                if(level == 0):\n",
    "#                     print(root.val)\n",
    "                    level_array.append(root.val)\n",
    "#                     print(level_array)\n",
    "                else:\n",
    "                    if(reversed):\n",
    "                        self.zigzagTraverse(root.right, level - 1, reversed,level_array)\n",
    "                        self.zigzagTraverse(root.left, level - 1, reversed, level_array)\n",
    "                    else:\n",
    "                        self.zigzagTraverse(root.left, level - 1, reversed, level_array)\n",
    "                        self.zigzagTraverse(root.right, level - 1, reversed, level_array)\n",
    "        return level_array\n",
    "    \n",
    "    def inOrderTraverse(self, root):\n",
    "        \n",
    "        if(root):\n",
    "            print(root.val)\n",
    "            self.inOrderTraverse(root.left)\n",
    "            self.inOrderTraverse(root.right)\n",
    "            \n",
    "    def inOrderTraverse(self, root):\n",
    "        \n",
    "        if(root):\n",
    "            self.inOrderTraverse(root.left)\n",
    "            self.inOrderTraverse(root.right)\n",
    "            print(root.val)\n",
    "            \n",
    "    def Traverse(self, root):\n",
    "        \n",
    "        if(root):\n",
    "            self.Traverse(root.left)\n",
    "            print(root.val)\n",
    "            self.Traverse(root.right)\n",
    "    \n",
    "    # Perform a level order traversal\n",
    "    def levelOrder(self, root):\n",
    "        d = self.max_depth(root)\n",
    "        for i in range(d):\n",
    "            self.levelTraverse(root, i)\n",
    "            \n",
    "    # Traverse along the various levels of the tree\n",
    "    def levelTraverse(self, root, level):\n",
    "        if(root is None):\n",
    "            return 0\n",
    "        else:\n",
    "            if(root.val is not None):\n",
    "                if(level == 0):\n",
    "                    print(root.val)\n",
    "                else:\n",
    "                    self.levelTraverse(root.left, level - 1)\n",
    "                    self.levelTraverse(root.right, level - 1)\n",
    "    \n",
    "    # Get the height of the tree\n",
    "    def max_depth(self, root):\n",
    "        if(root is None):\n",
    "            return 0;\n",
    "        if(root.val is not None):\n",
    "            max_val_left = self.max_depth(root.left)\n",
    "            max_val_right = self.max_depth(root.right)\n",
    "            depth = max(max_val_left, max_val_right) + 1\n",
    "            return depth\n",
    "        else:\n",
    "            return 0\n",
    "            "
   ]
  },
  {
   "cell_type": "code",
   "execution_count": 46,
   "metadata": {},
   "outputs": [],
   "source": [
    "def convertToTree(arr):\n",
    "    treenode_list = []\n",
    "    for ele in arr:\n",
    "        treenode_list.append(TreeNode(ele))\n",
    "        \n",
    "    children = treenode_list[::-1] # Reversed array elements\n",
    "    root = children.pop()\n",
    "    \n",
    "    for node in treenode_list:\n",
    "        if node:\n",
    "            if children: node.left = children.pop()\n",
    "            if children: node.right = children.pop()\n",
    "    \n",
    "    return root"
   ]
  },
  {
   "cell_type": "code",
   "execution_count": 47,
   "metadata": {},
   "outputs": [],
   "source": [
    "tree_list = [1, 2, 3, 4, 5, 6, 7, None, None, 8, None, 9, None, None, None, None, None, None, None, None, None, None, None, 10]\n",
    "root2 = convertToTree(tree_list)"
   ]
  },
  {
   "cell_type": "markdown",
   "metadata": {},
   "source": [
    "## Level Order Traversal"
   ]
  },
  {
   "cell_type": "code",
   "execution_count": 48,
   "metadata": {},
   "outputs": [
    {
     "name": "stdout",
     "output_type": "stream",
     "text": [
      "1\n",
      "2\n",
      "3\n",
      "4\n",
      "5\n",
      "6\n",
      "7\n",
      "8\n",
      "9\n",
      "10\n"
     ]
    }
   ],
   "source": [
    "a = Solution()\n",
    "a.levelOrder(root2)"
   ]
  },
  {
   "cell_type": "markdown",
   "metadata": {},
   "source": [
    "## ZigZag Level Order Traversal"
   ]
  },
  {
   "cell_type": "code",
   "execution_count": 49,
   "metadata": {},
   "outputs": [
    {
     "name": "stdout",
     "output_type": "stream",
     "text": [
      "[[1], [3, 2], [4, 5, 6, 7], [9, 8], [10]]\n"
     ]
    }
   ],
   "source": [
    "a = Solution()\n",
    "print(a.zigzagLevelOrder(root2))"
   ]
  },
  {
   "cell_type": "code",
   "execution_count": null,
   "metadata": {},
   "outputs": [],
   "source": []
  }
 ],
 "metadata": {
  "kernelspec": {
   "display_name": "Python 3",
   "language": "python",
   "name": "python3"
  },
  "language_info": {
   "codemirror_mode": {
    "name": "ipython",
    "version": 3
   },
   "file_extension": ".py",
   "mimetype": "text/x-python",
   "name": "python",
   "nbconvert_exporter": "python",
   "pygments_lexer": "ipython3",
   "version": "3.8.3"
  }
 },
 "nbformat": 4,
 "nbformat_minor": 4
}
