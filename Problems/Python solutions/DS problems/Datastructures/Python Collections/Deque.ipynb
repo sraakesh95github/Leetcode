{
 "cells": [
  {
   "cell_type": "markdown",
   "metadata": {},
   "source": [
    "## Double Ended Queue\n",
    "#### Definition: Add or remove elements from both ends very efficiently\n",
    "<font color=red>Note that all the operations specified here are in-place</font>"
   ]
  },
  {
   "cell_type": "code",
   "execution_count": 1,
   "metadata": {},
   "outputs": [],
   "source": [
    "from collections import deque"
   ]
  },
  {
   "cell_type": "code",
   "execution_count": 2,
   "metadata": {},
   "outputs": [
    {
     "name": "stdout",
     "output_type": "stream",
     "text": [
      "deque([1, 2])\n"
     ]
    }
   ],
   "source": [
    "d = deque()\n",
    "\n",
    "# Append elements into the deque\n",
    "d.append(1)\n",
    "d.append(2)\n",
    "print(d)"
   ]
  },
  {
   "cell_type": "markdown",
   "metadata": {},
   "source": [
    "#### a. appendleft"
   ]
  },
  {
   "cell_type": "code",
   "execution_count": 4,
   "metadata": {},
   "outputs": [
    {
     "name": "stdout",
     "output_type": "stream",
     "text": [
      "deque([3, 3, 1, 2])\n"
     ]
    }
   ],
   "source": [
    "d.appendleft(3)\n",
    "print(d)"
   ]
  },
  {
   "cell_type": "markdown",
   "metadata": {},
   "source": [
    "#### b. pop"
   ]
  },
  {
   "cell_type": "code",
   "execution_count": 7,
   "metadata": {},
   "outputs": [
    {
     "name": "stdout",
     "output_type": "stream",
     "text": [
      "deque([3, 3, 1])\n"
     ]
    }
   ],
   "source": [
    "d.pop()\n",
    "print(d)"
   ]
  },
  {
   "cell_type": "markdown",
   "metadata": {},
   "source": [
    "#### c. poplest"
   ]
  },
  {
   "cell_type": "code",
   "execution_count": 8,
   "metadata": {},
   "outputs": [
    {
     "name": "stdout",
     "output_type": "stream",
     "text": [
      "deque([3, 1])\n"
     ]
    }
   ],
   "source": [
    "d.popleft()\n",
    "print(d)"
   ]
  },
  {
   "cell_type": "markdown",
   "metadata": {},
   "source": [
    "#### d. clear"
   ]
  },
  {
   "cell_type": "code",
   "execution_count": 10,
   "metadata": {},
   "outputs": [
    {
     "name": "stdout",
     "output_type": "stream",
     "text": [
      "deque([])\n"
     ]
    }
   ],
   "source": [
    "d.clear()\n",
    "print(d)"
   ]
  },
  {
   "cell_type": "markdown",
   "metadata": {},
   "source": [
    "#### e. extend"
   ]
  },
  {
   "cell_type": "code",
   "execution_count": 12,
   "metadata": {},
   "outputs": [
    {
     "name": "stdout",
     "output_type": "stream",
     "text": [
      "deque([4, 7, 5, 6, 9])\n"
     ]
    }
   ],
   "source": [
    "tempList = [4, 7, 5, 6, 9]\n",
    "d.extend(tempList)\n",
    "print(d)"
   ]
  },
  {
   "cell_type": "markdown",
   "metadata": {},
   "source": [
    "#### f. extendleft\n",
    "<strong><font color=red> Note: While extending on the left, it is extended in the reverse order </font><strong>"
   ]
  },
  {
   "cell_type": "code",
   "execution_count": 13,
   "metadata": {},
   "outputs": [
    {
     "name": "stdout",
     "output_type": "stream",
     "text": [
      "deque([23, 12, 14, 11, 4, 7, 5, 6, 9])\n"
     ]
    }
   ],
   "source": [
    "d.extendleft([11, 14, 12, 23])\n",
    "print(d)"
   ]
  },
  {
   "cell_type": "markdown",
   "metadata": {},
   "source": [
    "#### g. rotate"
   ]
  },
  {
   "cell_type": "code",
   "execution_count": 16,
   "metadata": {},
   "outputs": [
    {
     "name": "stdout",
     "output_type": "stream",
     "text": [
      "Rotating by 1 element...\n",
      "deque([5, 6, 9, 23, 12, 14, 11, 4, 7])\n",
      "Rotating by 2 elemenets...\n",
      "deque([4, 7, 5, 6, 9, 23, 12, 14, 11])\n"
     ]
    }
   ],
   "source": [
    "print(\"Rotating by 1 element...\")\n",
    "d.rotate(1)\n",
    "print(d)\n",
    "\n",
    "print(\"Rotating by 2 elemenets...\")\n",
    "d.rotate(2)\n",
    "print(d)"
   ]
  },
  {
   "cell_type": "markdown",
   "metadata": {},
   "source": [
    "#### h. rotate to the left"
   ]
  },
  {
   "cell_type": "code",
   "execution_count": 19,
   "metadata": {},
   "outputs": [
    {
     "name": "stdout",
     "output_type": "stream",
     "text": [
      "Queue before rotation: deque([7, 5, 6, 9, 23, 12, 14, 11, 4])\n",
      "Queue after rotation: deque([5, 6, 9, 23, 12, 14, 11, 4, 7])\n"
     ]
    }
   ],
   "source": [
    "print(\"Queue before rotation: \", end=\"\")\n",
    "print(d)\n",
    "print(\"Queue after rotation: \", end=\"\")\n",
    "d.rotate(-1)\n",
    "print(d)"
   ]
  },
  {
   "cell_type": "code",
   "execution_count": null,
   "metadata": {},
   "outputs": [],
   "source": []
  }
 ],
 "metadata": {
  "kernelspec": {
   "display_name": "Python 3",
   "language": "python",
   "name": "python3"
  },
  "language_info": {
   "codemirror_mode": {
    "name": "ipython",
    "version": 3
   },
   "file_extension": ".py",
   "mimetype": "text/x-python",
   "name": "python",
   "nbconvert_exporter": "python",
   "pygments_lexer": "ipython3",
   "version": "3.7.6"
  }
 },
 "nbformat": 4,
 "nbformat_minor": 4
}
