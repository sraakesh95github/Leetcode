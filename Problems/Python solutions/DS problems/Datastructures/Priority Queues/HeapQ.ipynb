{
 "cells": [
  {
   "cell_type": "markdown",
   "metadata": {},
   "source": [
    "### Priority Queue"
   ]
  },
  {
   "cell_type": "markdown",
   "metadata": {},
   "source": [
    "#### Using in-built python prority heap datastructure"
   ]
  },
  {
   "cell_type": "code",
   "execution_count": 11,
   "metadata": {},
   "outputs": [
    {
     "name": "stdout",
     "output_type": "stream",
     "text": [
      "The created heap is: [1, 2, 6, 5, 9]\n",
      "The heap with the pushed element is: [1, 2, 4, 5, 9, 6]\n",
      "The popped and the smallest element from the heap: 1\n"
     ]
    }
   ],
   "source": [
    "import heapq\n",
    "\n",
    "li=[5, 1, 6, 2, 9]\n",
    "\n",
    "#Using heapify to convert the list into a heap\n",
    "heapq.heapify(li)\n",
    "\n",
    "# Display the created heap as a list\n",
    "print(\"The created heap is: \", end=\"\")\n",
    "print(list(li))\n",
    "\n",
    "#Push an element into the heap\n",
    "heapq.heappush(li, 4)\n",
    "print(\"The heap with the pushed element is: \", end=\"\")\n",
    "print(list(li))\n",
    "\n",
    "#Pop operation of the heap\n",
    "print(\"The popped and the smallest element from the heap: \", end=\"\")\n",
    "print(heapq.heappop(li))"
   ]
  },
  {
   "cell_type": "code",
   "execution_count": 12,
   "metadata": {},
   "outputs": [
    {
     "name": "stdout",
     "output_type": "stream",
     "text": [
      "Queue before pushpop: [2, 5, 4, 6, 9]\n",
      "2\n",
      "List after pushpop: [3, 5, 4, 6, 9]\n"
     ]
    }
   ],
   "source": [
    "#Pushpop operation\n",
    "# This pushes the element into the priority queue first and pops out the min element\n",
    "print(\"Queue before pushpop: \",end=\"\")\n",
    "print(list(li))\n",
    "print(heapq.heappushpop(li, 3))\n",
    "print(\"List after pushpop: \", end=\"\")\n",
    "print(list(li))"
   ]
  },
  {
   "cell_type": "code",
   "execution_count": 14,
   "metadata": {},
   "outputs": [
    {
     "name": "stdout",
     "output_type": "stream",
     "text": [
      "Queue before replace: [3, 5, 4, 6, 9]\n",
      "3\n",
      "Queue after replace: [1, 5, 4, 6, 9]\n"
     ]
    }
   ],
   "source": [
    "#Heap Replace\n",
    "# Here the element is first poped from the heap first and then new element is pushed\n",
    "print(\"Queue before replace: \", end=\"\")\n",
    "print(list(li))\n",
    "print(heapq.heapreplace(li, 1))\n",
    "print(\"Queue after replace: \", end=\"\")\n",
    "print(list(li))"
   ]
  },
  {
   "cell_type": "markdown",
   "metadata": {},
   "source": [
    "#### Get n largest elements from the heap"
   ]
  },
  {
   "cell_type": "code",
   "execution_count": 19,
   "metadata": {},
   "outputs": [
    {
     "name": "stdout",
     "output_type": "stream",
     "text": [
      "Queue: [9, 6, 5]\n"
     ]
    }
   ],
   "source": [
    "print(\"Queue: \", end=\"\")\n",
    "print(heapq.nlargest(3, li))"
   ]
  },
  {
   "cell_type": "markdown",
   "metadata": {},
   "source": [
    "#### Get n smallest elements from heap"
   ]
  },
  {
   "cell_type": "code",
   "execution_count": 20,
   "metadata": {},
   "outputs": [
    {
     "name": "stdout",
     "output_type": "stream",
     "text": [
      "Queue: [1, 4, 5]\n"
     ]
    }
   ],
   "source": [
    "print(\"Queue: \", end=\"\")\n",
    "print(heapq.nsmallest(3, li))"
   ]
  },
  {
   "cell_type": "code",
   "execution_count": null,
   "metadata": {},
   "outputs": [],
   "source": []
  }
 ],
 "metadata": {
  "kernelspec": {
   "display_name": "Python 3",
   "language": "python",
   "name": "python3"
  },
  "language_info": {
   "codemirror_mode": {
    "name": "ipython",
    "version": 3
   },
   "file_extension": ".py",
   "mimetype": "text/x-python",
   "name": "python",
   "nbconvert_exporter": "python",
   "pygments_lexer": "ipython3",
   "version": "3.7.6"
  }
 },
 "nbformat": 4,
 "nbformat_minor": 4
}
