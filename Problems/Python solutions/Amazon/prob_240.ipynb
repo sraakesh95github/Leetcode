{
 "cells": [
  {
   "cell_type": "code",
   "execution_count": 9,
   "metadata": {},
   "outputs": [],
   "source": [
    "def binarySearch(List, key):\n",
    "    i = 0\n",
    "    j = len(List)-1\n",
    "    while(j >= i):\n",
    "        mid = int((i+j) / 2)\n",
    "        if(List[mid] == key):\n",
    "            return True\n",
    "        if(List[mid] > key):\n",
    "            j = mid-1\n",
    "        else:\n",
    "            i = mid+1\n",
    "    return i"
   ]
  },
  {
   "cell_type": "code",
   "execution_count": 10,
   "metadata": {},
   "outputs": [
    {
     "name": "stdout",
     "output_type": "stream",
     "text": [
      "4\n"
     ]
    }
   ],
   "source": [
    "List = [3, 6, 7, 12, 23, 26, 37]\n",
    "# List = [1]\n",
    "print(binarySearch(List, 15))"
   ]
  },
  {
   "cell_type": "code",
   "execution_count": 44,
   "metadata": {},
   "outputs": [],
   "source": [
    "class Solution:\n",
    "    def searchMatrix(self, matrix, target):\n",
    "        \n",
    "        minCol = 0\n",
    "        nextList = []\n",
    "        \n",
    "        # Define a binary search algorithm that returns the index of the\n",
    "        # next greater number of the key is not found\n",
    "        def binarySearch(List, key):\n",
    "            i = 0\n",
    "            j = len(List)-1\n",
    "            while(j >= i):\n",
    "                mid = int((i+j) / 2)\n",
    "                if(List[mid] == key):\n",
    "                    return (True, mid)\n",
    "                if(List[mid] > key):\n",
    "                    j = mid-1\n",
    "                else:\n",
    "                    i = mid+1\n",
    "            return (False, i)\n",
    "        if(len(matrix) != 0):\n",
    "            \n",
    "            nextList = matrix[0]\n",
    "            \n",
    "            # Go row-wise\n",
    "            for i in range(len(matrix)):\n",
    "                if(nextList[0] > target):\n",
    "                    return False\n",
    "                else:\n",
    "                    if(binarySearch(nextList, target)[0]):\n",
    "                        return True\n",
    "                    else:\n",
    "                        if(i < len(matrix)-1):\n",
    "#                             print(\"Next column min index: \" + str(binarySearch(nextList, target)[1]))\n",
    "                            nextList = matrix[i+1][0:binarySearch(nextList, target)[1]]\n",
    "        return False"
   ]
  },
  {
   "cell_type": "code",
   "execution_count": 45,
   "metadata": {},
   "outputs": [
    {
     "name": "stdout",
     "output_type": "stream",
     "text": [
      "Next column min index: 5\n",
      "Next column min index: 5\n",
      "Next column min index: 5\n",
      "Next column min index: 5\n",
      "False\n"
     ]
    }
   ],
   "source": [
    "matrix = [[1,4,7,11,15],[2,5,8,12,19],[3,6,9,16,22],[10,13,14,17,24],[18,21,23,26,30]]\n",
    "target = 27\n",
    "\n",
    "a = Solution()\n",
    "print(a.searchMatrix(matrix, target))"
   ]
  },
  {
   "cell_type": "markdown",
   "metadata": {},
   "source": [
    "## Divide and Conquer"
   ]
  },
  {
   "cell_type": "code",
   "execution_count": 59,
   "metadata": {},
   "outputs": [],
   "source": [
    "class Solution:\n",
    "    def searchMatrixDNC(self, matrix, target):\n",
    "        \n",
    "        self.printMatrix(matrix)\n",
    "        \n",
    "        mid = int(len(matrix[0]) / 2)\n",
    "        for row in range(len(matrix)):\n",
    "            ele_top = matrix[row-1][mid]\n",
    "            ele_bottom = matrix[row][mid]\n",
    "            if(ele_bottom == target):\n",
    "                return True\n",
    "            if(ele_top < target and ele_bottom > target):\n",
    "                if(self.searchMatrixDNC(matrix[0:row][mid+1:], target)):\n",
    "                    return True\n",
    "                if(self.searchMatrixDNC(matrix[row:][0:mid], target)):\n",
    "                    return True\n",
    "                else: return False\n",
    "        return False  \n",
    "    \n",
    "    def printMatrix(self, matrix):\n",
    "            print(\"\\n\\n\")\n",
    "            for row in range(len(matrix)):\n",
    "                print(\"\\n\")\n",
    "                for col in range(len(matrix[0])):\n",
    "                    print(matrix[row][col], end=\"\\t\")"
   ]
  },
  {
   "cell_type": "code",
   "execution_count": 61,
   "metadata": {},
   "outputs": [
    {
     "name": "stdout",
     "output_type": "stream",
     "text": [
      "\n",
      "\n",
      "\n",
      "\n",
      "\n",
      "1\t4\t7\t11\t15\t\n",
      "\n",
      "2\t5\t8\t12\t19\t\n",
      "\n",
      "3\t6\t9\t16\t22\t\n",
      "\n",
      "10\t13\t14\t17\t24\t\n",
      "\n",
      "18\t21\t23\t26\t30\t\n",
      "\n",
      "\n",
      "\n",
      "\n",
      "10\t13\t14\t17\t24\t\n",
      "\n",
      "\n",
      "\n",
      "\n",
      "18\t21\t23\t26\t30\tFalse\n"
     ]
    }
   ],
   "source": [
    "matrix = [[1,4,7,11,15],[2,5,8,12,19],[3,6,9,16,22],[10,13,14,17,24],[18,21,23,26,30]]\n",
    "target = 21\n",
    "\n",
    "a = Solution()\n",
    "print(a.searchMatrixDNC(matrix, target))"
   ]
  },
  {
   "cell_type": "code",
   "execution_count": 68,
   "metadata": {},
   "outputs": [
    {
     "name": "stdout",
     "output_type": "stream",
     "text": [
      "[array([4, 6]), array([3, 5])]\n"
     ]
    }
   ],
   "source": [
    "import numpy as np\n",
    "\n",
    "matrix = [[2, 4, 6], [1, 3, 5], [3, 5, 7]]\n",
    "\n",
    "mat_arr = np.array(matrix)\n",
    "final_list = list(mat_arr[0:2,1:3])\n",
    "\n",
    "print(final_list)"
   ]
  },
  {
   "cell_type": "code",
   "execution_count": null,
   "metadata": {},
   "outputs": [],
   "source": []
  }
 ],
 "metadata": {
  "kernelspec": {
   "display_name": "Python 3",
   "language": "python",
   "name": "python3"
  },
  "language_info": {
   "codemirror_mode": {
    "name": "ipython",
    "version": 3
   },
   "file_extension": ".py",
   "mimetype": "text/x-python",
   "name": "python",
   "nbconvert_exporter": "python",
   "pygments_lexer": "ipython3",
   "version": "3.8.3"
  }
 },
 "nbformat": 4,
 "nbformat_minor": 4
}
