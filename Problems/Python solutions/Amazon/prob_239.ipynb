{
 "cells": [
  {
   "cell_type": "markdown",
   "metadata": {},
   "source": [
    "## Max sliding window"
   ]
  },
  {
   "cell_type": "markdown",
   "metadata": {},
   "source": [
    "### BruteForce"
   ]
  },
  {
   "cell_type": "code",
   "execution_count": 32,
   "metadata": {},
   "outputs": [],
   "source": [
    "class Solution:\n",
    "    def maxSlidingWindow(self, nums, k):\n",
    "        num_len = len(nums)\n",
    "        window = [i for i in range(num_len)]\n",
    "        max_nums = [0] * (num_len - k + 1)\n",
    "        checkEntireRange = True\n",
    "        currMaxIndex = 0\n",
    "        \n",
    "        if(k>1):\n",
    "            for i in range(0, num_len - k + 1):\n",
    "                if(checkEntireRange):\n",
    "                    currMax = max(nums[i:i+k])\n",
    "                    if(nums[i] != currMax):\n",
    "                        checkEntireRange = False\n",
    "                    max_nums[i] = currMax\n",
    "                else:\n",
    "                    currMax = max(currMax, nums[i+k-1])\n",
    "                    max_nums[i] = currMax\n",
    "                    if(currMax == nums[i]):\n",
    "                        checkEntireRange = True\n",
    "        else:\n",
    "            return nums\n",
    "        \n",
    "        return max_nums"
   ]
  },
  {
   "cell_type": "code",
   "execution_count": 33,
   "metadata": {},
   "outputs": [
    {
     "data": {
      "text/plain": [
       "[9, 9, 10, 10, 10, 10, 10, 10, 10, 9, 9, 9, 8, 8]"
      ]
     },
     "execution_count": 33,
     "metadata": {},
     "output_type": "execute_result"
    }
   ],
   "source": [
    "# nums = [1,3,-1,-3,5,3,6,7]\n",
    "# nums = [9, 11]\n",
    "nums = [-6,-10,-7,-1,-9,9,-8,-4,10,-5,2,9,0,-7,7,4,-2,-10,8,7]\n",
    "# k = 3\n",
    "# k = 2\n",
    "k=7\n",
    "\n",
    "a = Solution()\n",
    "a.maxSlidingWindow(nums, k)"
   ]
  },
  {
   "cell_type": "code",
   "execution_count": 10,
   "metadata": {},
   "outputs": [
    {
     "name": "stdout",
     "output_type": "stream",
     "text": [
      "[3, 5, 8, 3]\n"
     ]
    }
   ],
   "source": [
    "List = [3, 1, 7, 3, 5, 8, 3]\n",
    "del List[1:4]\n",
    "\n",
    "print(List)"
   ]
  },
  {
   "cell_type": "markdown",
   "metadata": {},
   "source": [
    "## Dynamic programming"
   ]
  },
  {
   "cell_type": "code",
   "execution_count": 86,
   "metadata": {},
   "outputs": [],
   "source": [
    "class Solution:\n",
    "    def maxSlidingWindow(self, nums, k):\n",
    "        numLen = len(nums)\n",
    "#         numBlocks = numLen / k\n",
    "        left = [0] * numLen\n",
    "        right = [0] * numLen \n",
    "        numBlockEle = k\n",
    "        outputMax = [0] * (numLen - k + 1)\n",
    "        \n",
    "        for index in range(0, numLen, k):\n",
    "            i = index\n",
    "            max_index_left = index\n",
    "            max_index_right = index + k - 1\n",
    "            if(i+k>numLen):\n",
    "#                 print(i)\n",
    "                numBlockEle = numLen % k\n",
    "#                 print(numBlockEle)\n",
    "                \n",
    "            max_index_left = index\n",
    "            max_index_right = index + numBlockEle - 1\n",
    "                \n",
    "            # Iteration for filling up the left array\n",
    "            for j in range(numBlockEle):\n",
    "                if(i+j%k == 0):\n",
    "#                     print(\"Entered the if % case...\")\n",
    "                    left[i+j] = nums[i]\n",
    "                    right[i+numBlockEle-1] = nums[i+numBlockEle-1]\n",
    "                else:\n",
    "                    if(nums[i+j] > nums[max_index_left]):\n",
    "                        left[i+j] = nums[i+j] \n",
    "                        max_index_left = i+j\n",
    "                    else:\n",
    "#                         print(\"Left else case...\")\n",
    "                        left[i+j] = nums[max_index_left]\n",
    "                    \n",
    "#                     print(\"Enter the right case...\")\n",
    "                    if(nums[i+numBlockEle-j-1] > nums[max_index_right]):\n",
    "#                         print(\"Entered this case...\")\n",
    "                        right[i+numBlockEle-j-1] = nums[i+numBlockEle-j-1]\n",
    "                        max_index_right = i+numBlockEle-j-1\n",
    "                    else:\n",
    "#                         print(\"Entered this case...\")\n",
    "                        right[i+numBlockEle-j-1] = nums[max_index_right]\n",
    "            \n",
    "            for l in range(numLen - k + 1):\n",
    "#                 print(left[l+k-1])\n",
    "#                 print(right[l])\n",
    "                if(left[l+k-1] > right[l]):\n",
    "                    outputMax[l] = left[l+k-1]\n",
    "                else:\n",
    "                    outputMax[l] = right[l]\n",
    "            \n",
    "        print(\"Left array: \" + str(left))\n",
    "        print(\"Right array: \" + str(right))\n",
    "        return outputMax"
   ]
  },
  {
   "cell_type": "code",
   "execution_count": 87,
   "metadata": {},
   "outputs": [
    {
     "name": "stdout",
     "output_type": "stream",
     "text": [
      "Left array: [1, 3, 3, 3, 5, 5, 6, 7]\n",
      "Right array: [3, 3, -1, -3, 7, 7, 7, 7]\n"
     ]
    },
    {
     "data": {
      "text/plain": [
       "[3, 5, 5, 6, 7]"
      ]
     },
     "execution_count": 87,
     "metadata": {},
     "output_type": "execute_result"
    }
   ],
   "source": [
    "nums = [1,3,-1,-3,5,3,6,7]\n",
    "# nums = [9, 11]\n",
    "# nums = [-6,-10,-7,-1,-9,9,-8,-4,10,-5,2,9,0,-7,7,4,-2,-10,8,7]\n",
    "k = 4\n",
    "# k = 2\n",
    "# k=7\n",
    "\n",
    "a = Solution()\n",
    "a.maxSlidingWindow(nums, k)"
   ]
  },
  {
   "cell_type": "code",
   "execution_count": 71,
   "metadata": {},
   "outputs": [
    {
     "data": {
      "text/plain": [
       "1"
      ]
     },
     "execution_count": 71,
     "metadata": {},
     "output_type": "execute_result"
    }
   ],
   "source": [
    "1%4"
   ]
  },
  {
   "cell_type": "code",
   "execution_count": 91,
   "metadata": {},
   "outputs": [],
   "source": [
    "def binarySearch(List, key):\n",
    "    i = 0\n",
    "    j = len(List)-1\n",
    "    while(j >= i):\n",
    "        mid = int((i+j) / 2)\n",
    "        if(List[mid] == key):\n",
    "            return True\n",
    "        if(List[mid] > key):\n",
    "            j = mid-1\n",
    "        else:\n",
    "            i = mid+1\n",
    "    return False"
   ]
  },
  {
   "cell_type": "code",
   "execution_count": 98,
   "metadata": {},
   "outputs": [
    {
     "name": "stdout",
     "output_type": "stream",
     "text": [
      "True\n"
     ]
    }
   ],
   "source": [
    "List = [3, 6, 7, 12, 23, 26, 37]\n",
    "List = [1]\n",
    "print(binarySearch(List, 1))"
   ]
  },
  {
   "cell_type": "code",
   "execution_count": null,
   "metadata": {},
   "outputs": [],
   "source": []
  }
 ],
 "metadata": {
  "kernelspec": {
   "display_name": "Python 3",
   "language": "python",
   "name": "python3"
  },
  "language_info": {
   "codemirror_mode": {
    "name": "ipython",
    "version": 3
   },
   "file_extension": ".py",
   "mimetype": "text/x-python",
   "name": "python",
   "nbconvert_exporter": "python",
   "pygments_lexer": "ipython3",
   "version": "3.8.3"
  }
 },
 "nbformat": 4,
 "nbformat_minor": 4
}
