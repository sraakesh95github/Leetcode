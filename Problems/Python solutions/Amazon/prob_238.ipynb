{
 "cells": [
  {
   "cell_type": "markdown",
   "metadata": {},
   "source": [
    "## Product without self"
   ]
  },
  {
   "cell_type": "code",
   "execution_count": 10,
   "metadata": {},
   "outputs": [],
   "source": [
    "class Solution:\n",
    "    def productExceptSelf(self, nums):\n",
    "        length = len(nums)\n",
    "        left_array = [1] * length\n",
    "        right_array = [1] * length\n",
    "        output_array = [1] * length\n",
    "        \n",
    "#         print(left_array)\n",
    "        \n",
    "        for index in range(len(nums)-1):\n",
    "            left_array[index + 1] = nums[index]*left_array[index]\n",
    "            \n",
    "        for index in range(len(nums)-1, 0, -1):\n",
    "            right_array[index - 1] = nums[index] * right_array[index]\n",
    "            \n",
    "            \n",
    "#         print(\"Left array: \" + str(left_array))\n",
    "#         print(\"Right array: \" + str(right_array))\n",
    "        \n",
    "        for index in range(len(nums)):\n",
    "            output_array[index] = left_array[index] * right_array[index]\n",
    "            \n",
    "        return output_array"
   ]
  },
  {
   "cell_type": "code",
   "execution_count": 11,
   "metadata": {},
   "outputs": [
    {
     "name": "stdout",
     "output_type": "stream",
     "text": [
      "Left array: [1, 1, 2, 6]\n",
      "Right array: [24, 12, 4, 1]\n"
     ]
    },
    {
     "data": {
      "text/plain": [
       "[24, 12, 8, 6]"
      ]
     },
     "execution_count": 11,
     "metadata": {},
     "output_type": "execute_result"
    }
   ],
   "source": [
    "nums = [1,2,3,4]\n",
    "\n",
    "a = Solution()\n",
    "a.productExceptSelf(nums)"
   ]
  },
  {
   "cell_type": "markdown",
   "metadata": {},
   "source": [
    "## With space complexity O(1)"
   ]
  },
  {
   "cell_type": "code",
   "execution_count": null,
   "metadata": {},
   "outputs": [],
   "source": []
  }
 ],
 "metadata": {
  "kernelspec": {
   "display_name": "Python 3",
   "language": "python",
   "name": "python3"
  },
  "language_info": {
   "codemirror_mode": {
    "name": "ipython",
    "version": 3
   },
   "file_extension": ".py",
   "mimetype": "text/x-python",
   "name": "python",
   "nbconvert_exporter": "python",
   "pygments_lexer": "ipython3",
   "version": "3.8.3"
  }
 },
 "nbformat": 4,
 "nbformat_minor": 4
}
