{
 "cells": [
  {
   "cell_type": "markdown",
   "metadata": {},
   "source": [
    "## Problem 6 - ZigZag String Conversion"
   ]
  },
  {
   "cell_type": "code",
   "execution_count": 31,
   "metadata": {},
   "outputs": [],
   "source": [
    "class Solution:\n",
    "    def convert(self, s, numRows):\n",
    "        index = 0\n",
    "        increment = (2*numRows)-2\n",
    "        decrement = 0\n",
    "        final_string = []\n",
    "        str_len = len(s)\n",
    "        \n",
    "        for i in range(numRows):\n",
    "            counter=0\n",
    "            j=(counter*increment)+i\n",
    "            while(j<str_len):\n",
    "#                 print(\"Main index(j): \" + str(j))\n",
    "                final_string.append(s[j])\n",
    "#                 print(\"Main index executed...\")\n",
    "                intermediate_count = ((counter+1)*increment)-decrement\n",
    "#                 print(\"Intermediate count: \" + str(intermediate_count))\n",
    "                if(intermediate_count > j and i!= 0 and i!=numRows-1 and intermediate_count < str_len):\n",
    "#                     print(\"Sub index executed...\")\n",
    "                    final_string.append(s[intermediate_count])\n",
    "                counter+=1\n",
    "                j=(counter*increment)+i\n",
    "            decrement = decrement + 1\n",
    "                        \n",
    "        return str(final_string)"
   ]
  },
  {
   "cell_type": "code",
   "execution_count": 32,
   "metadata": {},
   "outputs": [
    {
     "name": "stdout",
     "output_type": "stream",
     "text": [
      "['P', 'I', 'N', 'A', 'L', 'S', 'I', 'G', 'Y', 'A', 'H', 'R', 'P', 'I']\n"
     ]
    }
   ],
   "source": [
    "test = \"PAYPALISHIRING\"\n",
    "\n",
    "a = Solution()\n",
    "print(a.convert(test, 4))"
   ]
  },
  {
   "cell_type": "code",
   "execution_count": null,
   "metadata": {},
   "outputs": [],
   "source": []
  }
 ],
 "metadata": {
  "kernelspec": {
   "display_name": "Python 3",
   "language": "python",
   "name": "python3"
  },
  "language_info": {
   "codemirror_mode": {
    "name": "ipython",
    "version": 3
   },
   "file_extension": ".py",
   "mimetype": "text/x-python",
   "name": "python",
   "nbconvert_exporter": "python",
   "pygments_lexer": "ipython3",
   "version": "3.8.3"
  }
 },
 "nbformat": 4,
 "nbformat_minor": 4
}
