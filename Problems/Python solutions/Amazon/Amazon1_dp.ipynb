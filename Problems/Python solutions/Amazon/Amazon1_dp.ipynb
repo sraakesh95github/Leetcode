{
 "cells": [
  {
   "cell_type": "markdown",
   "metadata": {},
   "source": [
    "Given a matrix with r rows and c columns, find the maximum score of a path starting at [0, 0] and ending at [r-1, c-1]. The score of a path is the minimum value in that path. For example, the score of the path 8 → 4 → 5 → 9 is 4.\n",
    "\n",
    "Don't include the first or final entry. You can only move either down or right at any point in time.\n",
    "\n",
    "Example 1:\n",
    "\n",
    "Input:\n",
    "[[5, 1],\n",
    " [4, 5]]\n",
    "\n",
    "Output: 4\n",
    "Explanation:\n",
    "Possible paths:\n",
    "5 → 1 → 5 => min value is 1\n",
    "5 → 4 → 5 => min value is 4\n",
    "Return the max value among minimum values => max(4, 1) = 4.\n",
    "Example 2:\n",
    "\n",
    "Input:\n",
    "[[1, 2, 3]\n",
    " [4, 5, 1]]\n",
    "\n",
    "Output: 4\n",
    "Explanation:\n",
    "Possible paths:\n",
    "1-> 2 -> 3 -> 1\n",
    "1-> 2 -> 5 -> 1\n",
    "1-> 4 -> 5 -> 1\n",
    "So min of all the paths = [2, 2, 4]. Note that we don't include the first and final entry.\n",
    "Return the max of that, so 4."
   ]
  },
  {
   "cell_type": "code",
   "execution_count": 23,
   "metadata": {},
   "outputs": [],
   "source": [
    "def max_min_mat(mat):\n",
    "    \n",
    "    r = len(mat)\n",
    "    c = len(mat[0])\n",
    "    \n",
    "    dp = [[0  for i in range(c)] for j in range(r)]\n",
    "    \n",
    "    for i in range(r):\n",
    "        for j in range(c):\n",
    "            \n",
    "            if(i==0 and j==0):\n",
    "                dp[i][j] = mat[i][j]\n",
    "            \n",
    "            # Going through the columns\n",
    "            elif(i==0):\n",
    "                dp[i][j] = min(dp[i][j-1], mat[i][j])\n",
    "                \n",
    "            # Going through the rows\n",
    "            elif(j==0):\n",
    "                dp[i][j] = min(dp[i-1][j], mat[i][j])\n",
    "                \n",
    "            # last element\n",
    "            elif(i==r-1 and j==c-1):\n",
    "                dp[i][j] = max(dp[i-1][j], dp[i][j-1])\n",
    "                \n",
    "            else:\n",
    "#                 print(\"\\ndp[i][j-1]: \" + str(dp[i][j-1]))\n",
    "#                 print(\"dp[i-1][j]: \" + str(dp[i-1][j]))\n",
    "#                 print(\"mat[i][j]: \" + str(mat[i][j]))\n",
    "                dp[i][j] = max(min(dp[i-1][j], mat[i][j]), min(dp[i][j-1], mat[i][j]))\n",
    "#                 print(\"Current value: \" + str(dp[i][j]))\n",
    "    \n",
    "#     print(dp)\n",
    "    return dp[-1][-1]"
   ]
  },
  {
   "cell_type": "code",
   "execution_count": 24,
   "metadata": {},
   "outputs": [
    {
     "name": "stdout",
     "output_type": "stream",
     "text": [
      "3\n"
     ]
    }
   ],
   "source": [
    "mat = [[8, 2, 3], [5, 7, 2], [6, 3, 1]]\n",
    "print(max_min_mat(mat))"
   ]
  },
  {
   "cell_type": "code",
   "execution_count": null,
   "metadata": {},
   "outputs": [],
   "source": []
  }
 ],
 "metadata": {
  "kernelspec": {
   "display_name": "Python 3",
   "language": "python",
   "name": "python3"
  },
  "language_info": {
   "codemirror_mode": {
    "name": "ipython",
    "version": 3
   },
   "file_extension": ".py",
   "mimetype": "text/x-python",
   "name": "python",
   "nbconvert_exporter": "python",
   "pygments_lexer": "ipython3",
   "version": "3.7.6"
  }
 },
 "nbformat": 4,
 "nbformat_minor": 4
}
