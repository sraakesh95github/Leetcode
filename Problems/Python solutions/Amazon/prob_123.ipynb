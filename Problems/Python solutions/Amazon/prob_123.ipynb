{
 "cells": [
  {
   "cell_type": "markdown",
   "metadata": {},
   "source": [
    "## Best Time to Buy and Sell Stock III"
   ]
  },
  {
   "cell_type": "code",
   "execution_count": 17,
   "metadata": {},
   "outputs": [],
   "source": [
    "class Solution:\n",
    "    def maxProfit(self, prices):\n",
    "        length = len(prices)\n",
    "        max_profit = 0\n",
    "        \n",
    "        left_min = prices[0]\n",
    "        right_max = prices[-1]\n",
    "        \n",
    "        left_profits = [0] * length\n",
    "        right_profits = [0] * (length + 1)\n",
    "        \n",
    "        for l in range(1, length):\n",
    "            left_profits[l] = max(left_profits[l-1], prices[l] - left_min)\n",
    "            left_min = min(left_min, prices[l])\n",
    "            \n",
    "            r = length - 1 - l\n",
    "            \n",
    "            right_profits[r] = max(right_profits[r+1], right_max - prices[r])\n",
    "            right_max = max(right_max, prices[r])\n",
    "            \n",
    "        for i in range(0, length):\n",
    "            max_profit = max(max_profit, left_profits[i] + right_profits[i+1])\n",
    "                \n",
    "        return max_profit"
   ]
  },
  {
   "cell_type": "code",
   "execution_count": 18,
   "metadata": {},
   "outputs": [
    {
     "name": "stdout",
     "output_type": "stream",
     "text": [
      "6\n"
     ]
    }
   ],
   "source": [
    "lst = [3,3,5,0,0,3,1,4]\n",
    "\n",
    "a = Solution()\n",
    "b = a.maxProfit(lst)\n",
    "print(b)"
   ]
  },
  {
   "cell_type": "code",
   "execution_count": null,
   "metadata": {},
   "outputs": [],
   "source": []
  }
 ],
 "metadata": {
  "kernelspec": {
   "display_name": "Python 3",
   "language": "python",
   "name": "python3"
  },
  "language_info": {
   "codemirror_mode": {
    "name": "ipython",
    "version": 3
   },
   "file_extension": ".py",
   "mimetype": "text/x-python",
   "name": "python",
   "nbconvert_exporter": "python",
   "pygments_lexer": "ipython3",
   "version": "3.8.3"
  }
 },
 "nbformat": 4,
 "nbformat_minor": 4
}
