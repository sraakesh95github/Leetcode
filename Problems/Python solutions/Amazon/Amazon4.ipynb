{
 "cells": [
  {
   "cell_type": "markdown",
   "metadata": {},
   "source": [
    "#### Problem Statement\n",
    "##### 21. Merge Two Sorted Lists\n",
    "\n",
    "Add to List\n",
    "\n",
    "Merge two sorted linked lists and return it as a new sorted list. The new list should be made by splicing together the nodes of the first two lists.\n",
    "\n",
    "Example:\n",
    "\n",
    "Input: 1->2->4, 1->3->4\n",
    "Output: 1->1->2->3->4->4"
   ]
  },
  {
   "cell_type": "markdown",
   "metadata": {},
   "source": [
    "#### My Solution"
   ]
  },
  {
   "cell_type": "code",
   "execution_count": 37,
   "metadata": {},
   "outputs": [],
   "source": [
    "# Definition for singly-linked list.\n",
    "\n",
    "class ListNode:\n",
    "    def __init__(self, val=0, next=None):\n",
    "        self.val = val\n",
    "        self.next = next\n",
    "        \n",
    "class Solution:\n",
    "    def mergeTwoLists(self, l1, l2):\n",
    "        lst1 = self.linkedListToList(l1)\n",
    "        lst2 = self.linkedListToList(l2)\n",
    "        ind1 = 0\n",
    "        ind2 = 0\n",
    "        final_lst = []\n",
    "        for i in enumerate(lst1):\n",
    "            \n",
    "            while(ind1 < len(lst1) and ind2 < len(lst2)):\n",
    "            \n",
    "                if(lst1[ind1] <= lst2[ind2]):\n",
    "                    final_lst.append(lst1[ind1])\n",
    "                    ind1+=1\n",
    "                else:\n",
    "                    final_lst.append(lst2[ind2])\n",
    "                    ind2+=1\n",
    "        \n",
    "        if(ind1 == len(lst1)):\n",
    "            final_lst.extend(lst2[ind2:])\n",
    "        elif(ind2 == len(lst2)):\n",
    "            final_lst.extend(lst1[ind1:])\n",
    "#         print(final_lst)\n",
    "        \n",
    "        head = self.listToLinkedList(final_lst)\n",
    "        \n",
    "        return head\n",
    "        \n",
    "    def linkedListToList(self, linkedList):\n",
    "        lst = []\n",
    "        while(linkedList.next is not None):\n",
    "            lst.append(linkedList.val)\n",
    "            linkedList = linkedList.next\n",
    "        lst.append(linkedList.val)\n",
    "        return lst\n",
    "    \n",
    "    def listToLinkedList(self, lst):\n",
    "        \n",
    "        for (ind, i) in enumerate(lst):\n",
    "            if(ind==0):\n",
    "                head=ListNode(lst[0])\n",
    "                head.next = ListNode(lst[1])\n",
    "                node = head\n",
    "            if(ind<=len(lst)-1):\n",
    "                if(ind == 1):\n",
    "                    node.next=ListNode(lst[ind+1])\n",
    "                    node=node.next\n",
    "                else:\n",
    "                    print(i)\n",
    "                    node = ListNode(lst[ind])\n",
    "                    node.next = ListNode(lst[ind+1])\n",
    "                    node=node.next\n",
    "        return head"
   ]
  },
  {
   "cell_type": "code",
   "execution_count": 38,
   "metadata": {},
   "outputs": [
    {
     "name": "stdout",
     "output_type": "stream",
     "text": [
      "1\n",
      "2\n",
      "3\n",
      "4\n",
      "4\n"
     ]
    },
    {
     "ename": "IndexError",
     "evalue": "list index out of range",
     "output_type": "error",
     "traceback": [
      "\u001b[1;31m---------------------------------------------------------------------------\u001b[0m",
      "\u001b[1;31mIndexError\u001b[0m                                Traceback (most recent call last)",
      "\u001b[1;32m<ipython-input-38-75cf631dfaf1>\u001b[0m in \u001b[0;36m<module>\u001b[1;34m\u001b[0m\n\u001b[0;32m      2\u001b[0m \u001b[0ml2\u001b[0m \u001b[1;33m=\u001b[0m \u001b[0mListNode\u001b[0m\u001b[1;33m(\u001b[0m\u001b[1;36m2\u001b[0m\u001b[1;33m,\u001b[0m \u001b[0mListNode\u001b[0m\u001b[1;33m(\u001b[0m\u001b[1;36m3\u001b[0m\u001b[1;33m,\u001b[0m \u001b[0mListNode\u001b[0m\u001b[1;33m(\u001b[0m\u001b[1;36m4\u001b[0m\u001b[1;33m,\u001b[0m \u001b[1;32mNone\u001b[0m\u001b[1;33m)\u001b[0m\u001b[1;33m)\u001b[0m\u001b[1;33m)\u001b[0m\u001b[1;33m\u001b[0m\u001b[1;33m\u001b[0m\u001b[0m\n\u001b[0;32m      3\u001b[0m \u001b[0ma\u001b[0m \u001b[1;33m=\u001b[0m \u001b[0mSolution\u001b[0m\u001b[1;33m(\u001b[0m\u001b[1;33m)\u001b[0m\u001b[1;33m\u001b[0m\u001b[1;33m\u001b[0m\u001b[0m\n\u001b[1;32m----> 4\u001b[1;33m \u001b[0mhead\u001b[0m \u001b[1;33m=\u001b[0m \u001b[1;33m(\u001b[0m\u001b[0ma\u001b[0m\u001b[1;33m.\u001b[0m\u001b[0mmergeTwoLists\u001b[0m\u001b[1;33m(\u001b[0m\u001b[0ml1\u001b[0m\u001b[1;33m,\u001b[0m \u001b[0ml2\u001b[0m\u001b[1;33m)\u001b[0m\u001b[1;33m)\u001b[0m\u001b[1;33m\u001b[0m\u001b[1;33m\u001b[0m\u001b[0m\n\u001b[0m\u001b[0;32m      5\u001b[0m \u001b[0mprint\u001b[0m\u001b[1;33m(\u001b[0m\u001b[0mhead\u001b[0m\u001b[1;33m.\u001b[0m\u001b[0mnext\u001b[0m\u001b[1;33m)\u001b[0m\u001b[1;33m\u001b[0m\u001b[1;33m\u001b[0m\u001b[0m\n\u001b[0;32m      6\u001b[0m \u001b[1;32mwhile\u001b[0m\u001b[1;33m(\u001b[0m\u001b[0mhead\u001b[0m\u001b[1;33m.\u001b[0m\u001b[0mnext\u001b[0m \u001b[1;32mis\u001b[0m \u001b[1;32mnot\u001b[0m \u001b[1;32mNone\u001b[0m\u001b[1;33m)\u001b[0m\u001b[1;33m:\u001b[0m\u001b[1;33m\u001b[0m\u001b[1;33m\u001b[0m\u001b[0m\n",
      "\u001b[1;32m<ipython-input-37-b53235330d90>\u001b[0m in \u001b[0;36mmergeTwoLists\u001b[1;34m(self, l1, l2)\u001b[0m\n\u001b[0;32m     30\u001b[0m \u001b[1;31m#         print(final_lst)\u001b[0m\u001b[1;33m\u001b[0m\u001b[1;33m\u001b[0m\u001b[1;33m\u001b[0m\u001b[0m\n\u001b[0;32m     31\u001b[0m \u001b[1;33m\u001b[0m\u001b[0m\n\u001b[1;32m---> 32\u001b[1;33m         \u001b[0mhead\u001b[0m \u001b[1;33m=\u001b[0m \u001b[0mself\u001b[0m\u001b[1;33m.\u001b[0m\u001b[0mlistToLinkedList\u001b[0m\u001b[1;33m(\u001b[0m\u001b[0mfinal_lst\u001b[0m\u001b[1;33m)\u001b[0m\u001b[1;33m\u001b[0m\u001b[1;33m\u001b[0m\u001b[0m\n\u001b[0m\u001b[0;32m     33\u001b[0m \u001b[1;33m\u001b[0m\u001b[0m\n\u001b[0;32m     34\u001b[0m         \u001b[1;32mreturn\u001b[0m \u001b[0mhead\u001b[0m\u001b[1;33m\u001b[0m\u001b[1;33m\u001b[0m\u001b[0m\n",
      "\u001b[1;32m<ipython-input-37-b53235330d90>\u001b[0m in \u001b[0;36mlistToLinkedList\u001b[1;34m(self, lst)\u001b[0m\n\u001b[0;32m     56\u001b[0m                     \u001b[0mprint\u001b[0m\u001b[1;33m(\u001b[0m\u001b[0mi\u001b[0m\u001b[1;33m)\u001b[0m\u001b[1;33m\u001b[0m\u001b[1;33m\u001b[0m\u001b[0m\n\u001b[0;32m     57\u001b[0m                     \u001b[0mnode\u001b[0m \u001b[1;33m=\u001b[0m \u001b[0mListNode\u001b[0m\u001b[1;33m(\u001b[0m\u001b[0mlst\u001b[0m\u001b[1;33m[\u001b[0m\u001b[0mind\u001b[0m\u001b[1;33m]\u001b[0m\u001b[1;33m)\u001b[0m\u001b[1;33m\u001b[0m\u001b[1;33m\u001b[0m\u001b[0m\n\u001b[1;32m---> 58\u001b[1;33m                     \u001b[0mnode\u001b[0m\u001b[1;33m.\u001b[0m\u001b[0mnext\u001b[0m \u001b[1;33m=\u001b[0m \u001b[0mListNode\u001b[0m\u001b[1;33m(\u001b[0m\u001b[0mlst\u001b[0m\u001b[1;33m[\u001b[0m\u001b[0mind\u001b[0m\u001b[1;33m+\u001b[0m\u001b[1;36m1\u001b[0m\u001b[1;33m]\u001b[0m\u001b[1;33m)\u001b[0m\u001b[1;33m\u001b[0m\u001b[1;33m\u001b[0m\u001b[0m\n\u001b[0m\u001b[0;32m     59\u001b[0m                     \u001b[0mnode\u001b[0m\u001b[1;33m=\u001b[0m\u001b[0mnode\u001b[0m\u001b[1;33m.\u001b[0m\u001b[0mnext\u001b[0m\u001b[1;33m\u001b[0m\u001b[1;33m\u001b[0m\u001b[0m\n\u001b[0;32m     60\u001b[0m         \u001b[1;32mreturn\u001b[0m \u001b[0mhead\u001b[0m\u001b[1;33m\u001b[0m\u001b[1;33m\u001b[0m\u001b[0m\n",
      "\u001b[1;31mIndexError\u001b[0m: list index out of range"
     ]
    }
   ],
   "source": [
    "l1 = ListNode(1, ListNode(2, ListNode(4, None)))\n",
    "l2 = ListNode(2, ListNode(3, ListNode(4, None)))\n",
    "a = Solution()\n",
    "head = (a.mergeTwoLists(l1, l2))\n",
    "print(head.next)\n",
    "while(head.next is not None):\n",
    "    print(head.val)\n",
    "    head=head.next\n",
    "print(head.val)"
   ]
  },
  {
   "cell_type": "markdown",
   "metadata": {},
   "source": [
    "### 2. Leetcode solution (Recursion)\n",
    "Link: https://leetcode.com/problems/merge-two-sorted-lists/solution/"
   ]
  },
  {
   "cell_type": "code",
   "execution_count": 2,
   "metadata": {},
   "outputs": [],
   "source": [
    "# Definition for singly-linked list.\n",
    "class ListNode:\n",
    "    def __init__(self, val=0, next=None):\n",
    "        self.val = val\n",
    "        self.next = next\n",
    "        \n",
    "class Solution:\n",
    "    def mergeTwoLists(self, l1, l2):\n",
    "        if(l1 is None):\n",
    "            return l2\n",
    "        elif(l2 is None):\n",
    "            return l1\n",
    "        elif(l1.val < l2.val):\n",
    "            l1.next = self.mergeTwoLists(l1.next, l2)\n",
    "            return l1\n",
    "        else:\n",
    "            l2.next = self.mergeTwoLists(l1, l2.next)\n",
    "            return l2"
   ]
  },
  {
   "cell_type": "code",
   "execution_count": 3,
   "metadata": {},
   "outputs": [
    {
     "name": "stdout",
     "output_type": "stream",
     "text": [
      "1\n",
      "2\n",
      "2\n",
      "3\n",
      "4\n",
      "4\n"
     ]
    }
   ],
   "source": [
    "a = Solution()\n",
    "l1 = ListNode(1, ListNode(2, ListNode(4, None)))\n",
    "l2 = ListNode(2, ListNode(3, ListNode(4, None)))\n",
    "head = a.mergeTwoLists(l1, l2)\n",
    "while(head is not None):\n",
    "    print(head.val)\n",
    "    head = head.next"
   ]
  },
  {
   "cell_type": "markdown",
   "metadata": {},
   "source": [
    "### 3. Iteration Based Approach (Leetcode Solution)\n",
    "Link: https://leetcode.com/problems/merge-two-sorted-lists/solution/"
   ]
  },
  {
   "cell_type": "code",
   "execution_count": 7,
   "metadata": {},
   "outputs": [],
   "source": [
    "# Definition for singly-linked list.\n",
    "class ListNode:\n",
    "    def __init__(self, val=0, next=None):\n",
    "        self.val = val\n",
    "        self.next = next\n",
    "        \n",
    "class Solution:\n",
    "    def mergeTwoLists(self, l1, l2):\n",
    "        head = ListNode(-1)\n",
    "        prev = head\n",
    "        while(l1 is not None and l2 is not None):\n",
    "            if(l1.val <= l2.val):\n",
    "                prev.next = l1\n",
    "                l1=l1.next\n",
    "#                 print(l1.val)\n",
    "            else:\n",
    "                prev.next = l2\n",
    "                l2=l2.next\n",
    "            prev = prev.next\n",
    "        if(l1 is None):\n",
    "            prev.next = l2\n",
    "        else:\n",
    "            prev.next = l1\n",
    "        \n",
    "        return head.next"
   ]
  },
  {
   "cell_type": "code",
   "execution_count": 8,
   "metadata": {},
   "outputs": [
    {
     "name": "stdout",
     "output_type": "stream",
     "text": [
      "1\n",
      "2\n",
      "2\n",
      "3\n",
      "4\n",
      "4\n"
     ]
    }
   ],
   "source": [
    "l1 = ListNode(1, ListNode(2, ListNode(4, None)))\n",
    "l2 = ListNode(2, ListNode(3, ListNode(4, None)))\n",
    "a = Solution()\n",
    "head = a.mergeTwoLists(l1, l2)\n",
    "while(head is not None):\n",
    "    print(head.val)\n",
    "    head=head.next"
   ]
  },
  {
   "cell_type": "code",
   "execution_count": null,
   "metadata": {},
   "outputs": [],
   "source": []
  }
 ],
 "metadata": {
  "kernelspec": {
   "display_name": "Python 3",
   "language": "python",
   "name": "python3"
  },
  "language_info": {
   "codemirror_mode": {
    "name": "ipython",
    "version": 3
   },
   "file_extension": ".py",
   "mimetype": "text/x-python",
   "name": "python",
   "nbconvert_exporter": "python",
   "pygments_lexer": "ipython3",
   "version": "3.8.3"
  }
 },
 "nbformat": 4,
 "nbformat_minor": 4
}
