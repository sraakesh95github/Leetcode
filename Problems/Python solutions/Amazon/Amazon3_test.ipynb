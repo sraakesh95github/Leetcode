{
 "cells": [
  {
   "cell_type": "markdown",
   "metadata": {},
   "source": [
    "#### Amazon problem 3\n",
    "Given a string s, find the longest palindromic substring in s. You may assume that the maximum length of s is 1000.\n",
    "\n",
    "Example 1:\n",
    "\n",
    "Input: \"babad\"\n",
    "Output: \"bab\"\n",
    "Note: \"aba\" is also a valid answer.\n",
    "Example 2:\n",
    "\n",
    "Input: \"cbbd\"\n",
    "Output: \"bb\""
   ]
  },
  {
   "cell_type": "markdown",
   "metadata": {},
   "source": [
    "<b>My implementation (Solution 1):</b>\n",
    "Timing: O(n^2)"
   ]
  },
  {
   "cell_type": "code",
   "execution_count": 31,
   "metadata": {},
   "outputs": [],
   "source": [
    "class Solution:\n",
    "    def longestPalindrome(self, s: str) -> str:\n",
    "        \n",
    "        iter_sub_len = 1\n",
    "        iter_len = len(s) - 1\n",
    "        string_range = len(s)\n",
    "        start_index = 0\n",
    "        end_index = len(s)\n",
    "        temp_lst = []\n",
    "        temp_str = ''\n",
    "        \n",
    "        if(s!=\"\"):\n",
    "            for i in range(iter_len):\n",
    "                for j in range(iter_sub_len):\n",
    "                    subString = s[start_index:end_index]\n",
    "                    if(self.isPalindrome(subString)):\n",
    "                        return subString\n",
    "                    start_index+=1\n",
    "                    end_index+=1\n",
    "                start_index = 0\n",
    "                string_range -= 1\n",
    "                end_index = start_index + string_range\n",
    "                iter_sub_len += 1\n",
    "            return s[0]\n",
    "        else:\n",
    "            return \"\"\n",
    "            \n",
    "        \n",
    "    def isPalindrome(self, s):\n",
    "        if(s == s[::-1]):\n",
    "            return True\n",
    "        else:\n",
    "            return False\n",
    "        "
   ]
  },
  {
   "cell_type": "code",
   "execution_count": 32,
   "metadata": {},
   "outputs": [
    {
     "name": "stdout",
     "output_type": "stream",
     "text": [
      "False\n"
     ]
    }
   ],
   "source": [
    "a = Solution()\n",
    "test = \"emadam\"\n",
    "print(a.isPalindrome(test))"
   ]
  },
  {
   "cell_type": "code",
   "execution_count": 34,
   "metadata": {},
   "outputs": [
    {
     "name": "stdout",
     "output_type": "stream",
     "text": [
      "\n"
     ]
    }
   ],
   "source": [
    "a = Solution()\n",
    "test = \"\"\n",
    "print(a.longestPalindrome(test))"
   ]
  },
  {
   "cell_type": "code",
   "execution_count": null,
   "metadata": {},
   "outputs": [],
   "source": []
  },
  {
   "cell_type": "code",
   "execution_count": null,
   "metadata": {},
   "outputs": [],
   "source": []
  }
 ],
 "metadata": {
  "kernelspec": {
   "display_name": "Python 3",
   "language": "python",
   "name": "python3"
  },
  "language_info": {
   "codemirror_mode": {
    "name": "ipython",
    "version": 3
   },
   "file_extension": ".py",
   "mimetype": "text/x-python",
   "name": "python",
   "nbconvert_exporter": "python",
   "pygments_lexer": "ipython3",
   "version": "3.7.6"
  }
 },
 "nbformat": 4,
 "nbformat_minor": 4
}
