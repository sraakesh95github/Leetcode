{
 "cells": [
  {
   "cell_type": "markdown",
   "metadata": {},
   "source": [
    "# Binary construction from inorder and preorder traversal data"
   ]
  },
  {
   "cell_type": "code",
   "execution_count": null,
   "metadata": {},
   "outputs": [],
   "source": [
    "# Definition for a binary tree node.\n",
    "# class TreeNode:\n",
    "#     def __init__(self, val=0, left=None, right=None):\n",
    "#         self.val = val\n",
    "#         self.left = left\n",
    "#         self.right = right\n",
    "class Solution:\n",
    "    def buildTree(self, preorder, inorder):\n",
    "        \n",
    "        if(preorder):\n",
    "            head = TreeNode(preorder[0])\n",
    "            def buildTreeSub(root, preorder, inorder):\n",
    "                element = root.val\n",
    "                root_index = inorder.index(element)\n",
    "                left_subtree_no_of_elements = root_index\n",
    "\n",
    "                # processing the left sub tree\n",
    "                if(left_subtree_no_of_elements != 0):\n",
    "                    root.left = TreeNode(preorder[0])\n",
    "                    buildTreeSub(root.left, preorder[1:left_subtree_no_of_elements], inorder[0:left_subtree_no_of_elements])\n",
    "\n",
    "                # processing the right sub tree\n",
    "                if(len(preorder) > 0):\n",
    "                    if(left_subtree_no_of_elements < len(preorder)):\n",
    "                        root.right = TreeNode(preorder[left_subtree_no_of_elements])\n",
    "                        buildTreeSub(root.right, preorder[left_subtree_no_of_elements+1:], inorder[left_subtree_no_of_elements+1:])\n",
    "\n",
    "            buildTreeSub(head, preorder[1:], inorder)\n",
    "            return head\n",
    "        \n",
    "        else:\n",
    "            return None"
   ]
  }
 ],
 "metadata": {
  "kernelspec": {
   "display_name": "Python 3",
   "language": "python",
   "name": "python3"
  },
  "language_info": {
   "codemirror_mode": {
    "name": "ipython",
    "version": 3
   },
   "file_extension": ".py",
   "mimetype": "text/x-python",
   "name": "python",
   "nbconvert_exporter": "python",
   "pygments_lexer": "ipython3",
   "version": "3.8.3"
  }
 },
 "nbformat": 4,
 "nbformat_minor": 4
}
