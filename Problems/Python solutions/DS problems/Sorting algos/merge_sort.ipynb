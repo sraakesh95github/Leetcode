{
 "cells": [
  {
   "cell_type": "markdown",
   "metadata": {},
   "source": [
    "### Merge Sort"
   ]
  },
  {
   "cell_type": "code",
   "execution_count": 12,
   "metadata": {},
   "outputs": [],
   "source": [
    "def merge(l1, l2):\n",
    "    l3 = []\n",
    "    l1_ptr = 0\n",
    "    l2_ptr = 0\n",
    "    len_l1 = len(l1)\n",
    "    len_l2 = len(l2)\n",
    "    for i in range(len_l1 + len_l2):\n",
    "        if(l1[l1_ptr] < l2[l2_ptr]):\n",
    "            l3.append(l1[l1_ptr])\n",
    "            l1_ptr += 1\n",
    "            if(l1_ptr == len_l1):\n",
    "                l3.extend(l2[l2_ptr:])\n",
    "                break\n",
    "        else:\n",
    "            l3.append(l2[l2_ptr])\n",
    "            l2_ptr += 1\n",
    "            if(l2_ptr == len_l2):\n",
    "                l3.extend(l1[l1_ptr:])\n",
    "                break\n",
    "    return l3\n",
    "\n",
    "def merge_sort(lst):\n",
    "    if(len(lst) < 2):\n",
    "        return lst[:]\n",
    "    else:\n",
    "        n = len(lst) // 2\n",
    "        return merge(merge_sort(lst[0:n]), merge_sort(lst[n:]))"
   ]
  },
  {
   "cell_type": "code",
   "execution_count": 13,
   "metadata": {},
   "outputs": [
    {
     "name": "stdout",
     "output_type": "stream",
     "text": [
      "[1, 2, 3, 4, 5, 6, 7, 8, 8, 9, 10, 11, 15, 16]\n"
     ]
    }
   ],
   "source": [
    "l1 = [2, 4, 6, 8, 11, 15, 16]\n",
    "l2 = [1, 3, 5, 7, 8, 9, 10]\n",
    "print(merge(l1, l2))"
   ]
  },
  {
   "cell_type": "code",
   "execution_count": 14,
   "metadata": {},
   "outputs": [
    {
     "name": "stdout",
     "output_type": "stream",
     "text": [
      "[1, 2, 3, 4, 5, 6, 7, 8, 8, 9, 10]\n"
     ]
    }
   ],
   "source": [
    "lst = [6, 8, 1, 4, 10, 7, 8, 9, 3, 2, 5]\n",
    "print(merge_sort(lst))"
   ]
  },
  {
   "cell_type": "code",
   "execution_count": null,
   "metadata": {},
   "outputs": [],
   "source": []
  }
 ],
 "metadata": {
  "kernelspec": {
   "display_name": "Python 3",
   "language": "python",
   "name": "python3"
  },
  "language_info": {
   "codemirror_mode": {
    "name": "ipython",
    "version": 3
   },
   "file_extension": ".py",
   "mimetype": "text/x-python",
   "name": "python",
   "nbconvert_exporter": "python",
   "pygments_lexer": "ipython3",
   "version": "3.7.6"
  }
 },
 "nbformat": 4,
 "nbformat_minor": 4
}
