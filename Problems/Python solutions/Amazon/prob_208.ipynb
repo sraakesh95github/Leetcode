{
 "cells": [
  {
   "cell_type": "markdown",
   "metadata": {},
   "source": [
    "## Trie Datastructure"
   ]
  },
  {
   "cell_type": "code",
   "execution_count": 50,
   "metadata": {},
   "outputs": [],
   "source": [
    "from collections import defaultdict\n",
    "\n",
    "class TrieNode:\n",
    "    \n",
    "    def __init__(self, isEnd=False):\n",
    "        self.trieDict = defaultdict(TrieNode)\n",
    "        self.isEnd = False\n",
    "\n",
    "class Trie:\n",
    "        \n",
    "    def __init__(self):\n",
    "        self.root = TrieNode()\n",
    "#         print(self.root.isEnd)\n",
    "        \n",
    "    def insertWord(self, Word):\n",
    "        node = self.root\n",
    "#         print(node.isEnd)\n",
    "        for letter in Word:\n",
    "            if(letter not in node.trieDict.keys()):\n",
    "                node.trieDict[letter] = TrieNode()\n",
    "            node = node.trieDict[letter]\n",
    "        node.isEnd = True\n",
    "        \n",
    "    def searchKey(self, key):\n",
    "        return self.searchKeySub(self.root, key, 0)\n",
    "        \n",
    "    def searchKeySub(self, node, key, index):\n",
    "        if(index < len(key)):\n",
    "            if(key[index] in node.trieDict.keys()):\n",
    "                return self.searchKeySub(node.trieDict[key[index]], key, index+1)\n",
    "            else:\n",
    "                return False\n",
    "        elif(index == len(key) and node.isEnd == True):\n",
    "            return True\n",
    "        else:\n",
    "            return False\n",
    "        \n",
    "    def startsWith(self, key):\n",
    "        return self.startsWithSub(self.root, key, 0)\n",
    "        \n",
    "    def startsWithSub(self, node, key, index):\n",
    "        if(index < len(key)):\n",
    "            if(key[index] in node.trieDict.keys()):\n",
    "                return self.startsWithSub(node.trieDict[key[index]], key, index+1)\n",
    "            else:\n",
    "                return False\n",
    "        else:\n",
    "            return True"
   ]
  },
  {
   "cell_type": "code",
   "execution_count": 52,
   "metadata": {},
   "outputs": [
    {
     "name": "stdout",
     "output_type": "stream",
     "text": [
      "True\n",
      "False\n"
     ]
    }
   ],
   "source": [
    "trie = Trie()\n",
    "trie.insertWord('abc')\n",
    "print(trie.searchKey('abc'))\n",
    "print(trie.startsWith('ac'))"
   ]
  },
  {
   "cell_type": "code",
   "execution_count": null,
   "metadata": {},
   "outputs": [],
   "source": []
  }
 ],
 "metadata": {
  "kernelspec": {
   "display_name": "Python 3",
   "language": "python",
   "name": "python3"
  },
  "language_info": {
   "codemirror_mode": {
    "name": "ipython",
    "version": 3
   },
   "file_extension": ".py",
   "mimetype": "text/x-python",
   "name": "python",
   "nbconvert_exporter": "python",
   "pygments_lexer": "ipython3",
   "version": "3.8.3"
  }
 },
 "nbformat": 4,
 "nbformat_minor": 4
}
