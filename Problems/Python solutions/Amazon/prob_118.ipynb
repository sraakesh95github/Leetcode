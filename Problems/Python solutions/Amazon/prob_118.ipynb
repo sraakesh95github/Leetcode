{
 "cells": [
  {
   "cell_type": "code",
   "execution_count": 71,
   "metadata": {},
   "outputs": [],
   "source": [
    "class Solution:\n",
    "    def getRow(self, rowIndex):\n",
    "        arr = [1]\n",
    "        newArr=[1]\n",
    "#         print(arr[0])\n",
    "        for i in range(rowIndex):\n",
    "            for j in range(i+2):\n",
    "#                 print(\"Iteration \" + str(j))\n",
    "#                 print(arr[j-1])\n",
    "                if(j-1 == -1):\n",
    "                    ele = arr[j]\n",
    "                    newArr[j] = ele\n",
    "                elif(j == i+1):\n",
    "                    ele = arr[j-1]\n",
    "                    newArr.append(ele)\n",
    "                else:\n",
    "                    ele = arr[j-1] + arr[j]\n",
    "                    newArr[j] = ele\n",
    "#                 print(\"Value of ele: \" + str(ele))\n",
    "#                 print(\"Value of j: \" + str(j))\n",
    "#                 print(\"Value of arr: \" + str(arr))\n",
    "#             print(\"Out of j loop...\")\n",
    "            arr = newArr[:]\n",
    "#             print(arr)\n",
    "            \n",
    "        return arr\n",
    "#         print(newArr)"
   ]
  },
  {
   "cell_type": "code",
   "execution_count": 72,
   "metadata": {},
   "outputs": [
    {
     "name": "stdout",
     "output_type": "stream",
     "text": [
      "[1, 3, 3, 1]\n"
     ]
    }
   ],
   "source": [
    "a = Solution()\n",
    "a.getRow(3)"
   ]
  },
  {
   "cell_type": "code",
   "execution_count": 44,
   "metadata": {},
   "outputs": [
    {
     "name": "stdout",
     "output_type": "stream",
     "text": [
      "0\n",
      "1\n"
     ]
    }
   ],
   "source": [
    "for i in range(2):\n",
    "    print(i)"
   ]
  },
  {
   "cell_type": "code",
   "execution_count": null,
   "metadata": {},
   "outputs": [],
   "source": []
  }
 ],
 "metadata": {
  "kernelspec": {
   "display_name": "Python 3",
   "language": "python",
   "name": "python3"
  },
  "language_info": {
   "codemirror_mode": {
    "name": "ipython",
    "version": 3
   },
   "file_extension": ".py",
   "mimetype": "text/x-python",
   "name": "python",
   "nbconvert_exporter": "python",
   "pygments_lexer": "ipython3",
   "version": "3.8.3"
  }
 },
 "nbformat": 4,
 "nbformat_minor": 4
}
