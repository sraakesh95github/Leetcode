{
 "cells": [
  {
   "cell_type": "code",
   "execution_count": 85,
   "metadata": {},
   "outputs": [],
   "source": [
    "lst =[7,1,5,3,6,4]\n",
    "\n",
    "def maxProfit(prices):\n",
    "    i=0\n",
    "    max_profit = 0\n",
    "    j=1\n",
    "    if(not (len(prices) == 0 or len(prices) == 1)):\n",
    "        for index in range(len(prices)):\n",
    "            if(prices[j] < prices[j-1]):\n",
    "                max_profit = max_profit + (prices[j-1] - prices[i])\n",
    "                i=j\n",
    "                j=i+1\n",
    "                if(j == len(prices)):\n",
    "                    break\n",
    "            else:\n",
    "                j=j+1\n",
    "                if(j == len(prices)):\n",
    "                    max_profit = max_profit + (prices[j-1] - prices[i])\n",
    "                    break\n",
    "    return max_profit"
   ]
  },
  {
   "cell_type": "code",
   "execution_count": 86,
   "metadata": {},
   "outputs": [
    {
     "name": "stdout",
     "output_type": "stream",
     "text": [
      "7\n"
     ]
    }
   ],
   "source": [
    "print(maxProfit(lst))"
   ]
  },
  {
   "cell_type": "code",
   "execution_count": null,
   "metadata": {},
   "outputs": [],
   "source": []
  }
 ],
 "metadata": {
  "kernelspec": {
   "display_name": "Python 3",
   "language": "python",
   "name": "python3"
  },
  "language_info": {
   "codemirror_mode": {
    "name": "ipython",
    "version": 3
   },
   "file_extension": ".py",
   "mimetype": "text/x-python",
   "name": "python",
   "nbconvert_exporter": "python",
   "pygments_lexer": "ipython3",
   "version": "3.8.3"
  }
 },
 "nbformat": 4,
 "nbformat_minor": 4
}
