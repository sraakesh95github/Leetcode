{
 "cells": [
  {
   "cell_type": "markdown",
   "metadata": {},
   "source": [
    "### Problem 8 (121)\n",
    "Say you have an array for which the ith element is the price of a given stock on day i.\n",
    "\n",
    "If you were only permitted to complete at most one transaction (i.e., buy one and sell one share of the stock), design an algorithm to find the maximum profit.\n",
    "\n",
    "Note that you cannot sell a stock before you buy one.\n",
    "\n",
    "Example 1:\n",
    "\n",
    "Input: [7,1,5,3,6,4]\n",
    "Output: 5\n",
    "Explanation: Buy on day 2 (price = 1) and sell on day 5 (price = 6), profit = 6-1 = 5.\n",
    "             Not 7-1 = 6, as selling price needs to be larger than buying price.\n",
    "Example 2:\n",
    "\n",
    "Input: [7,6,4,3,1]\n",
    "Output: 0\n",
    "Explanation: In this case, no transaction is done, i.e. max profit = 0."
   ]
  },
  {
   "cell_type": "markdown",
   "metadata": {},
   "source": [
    "#### My Solution (Brute Force) \n",
    "<h5> Time Complexity: O(n^2)) </h5>\n",
    "<h5> <font color=red> Time limit exceeded </font> </h5>"
   ]
  },
  {
   "cell_type": "code",
   "execution_count": 13,
   "metadata": {},
   "outputs": [],
   "source": [
    "class Solution:\n",
    "    def maxProfit(self, prices):\n",
    "        start_index = 0\n",
    "        moving_index = start_index + 1\n",
    "        final_list = []\n",
    "\n",
    "        for i in range(len(prices)-1):\n",
    "            for j in range(len(prices) - i - 1):\n",
    "                if(prices[moving_index] > prices[start_index]):\n",
    "                    final_list.append(prices[moving_index] - prices[start_index])\n",
    "                moving_index += 1\n",
    "            start_index += 1\n",
    "            moving_index = start_index + 1\n",
    "        if(len(final_list) == 0):\n",
    "            return 0\n",
    "        else:\n",
    "            return max(final_list)"
   ]
  },
  {
   "cell_type": "code",
   "execution_count": 14,
   "metadata": {},
   "outputs": [
    {
     "name": "stdout",
     "output_type": "stream",
     "text": [
      "0\n"
     ]
    }
   ],
   "source": [
    "a = Solution()\n",
    "prices = [7, 6, 4, 3, 1]\n",
    "print(a.maxProfit(prices))"
   ]
  },
  {
   "cell_type": "markdown",
   "metadata": {},
   "source": [
    "#### Leetcode Solution (Singel Pass) ; Substitution\n",
    "<h5> Time Complexity: O(n) </h5>"
   ]
  },
  {
   "cell_type": "code",
   "execution_count": 27,
   "metadata": {},
   "outputs": [],
   "source": [
    "import sys\n",
    "\n",
    "class Solution:\n",
    "    def maxProfit(self, prices):\n",
    "        \n",
    "        maxProfit = 0\n",
    "        minPrice = sys.maxsize\n",
    "        \n",
    "        for i in range(len(prices)):\n",
    "            if(prices[i] < minPrice):\n",
    "                minPrice = prices[i]\n",
    "            elif(prices[i] - minPrice > maxProfit):\n",
    "                maxProfit = prices[i] - minPrice\n",
    "        return maxProfit"
   ]
  },
  {
   "cell_type": "code",
   "execution_count": 28,
   "metadata": {},
   "outputs": [
    {
     "name": "stdout",
     "output_type": "stream",
     "text": [
      "0\n"
     ]
    }
   ],
   "source": [
    "a = Solution()\n",
    "prices1 = [7, 1, 5, 3, 6, 4]\n",
    "prices2 = [7, 6, 4, 3, 1]\n",
    "prices3 = []\n",
    "print(a.maxProfit(prices3))"
   ]
  },
  {
   "cell_type": "code",
   "execution_count": null,
   "metadata": {},
   "outputs": [],
   "source": []
  },
  {
   "cell_type": "code",
   "execution_count": null,
   "metadata": {},
   "outputs": [],
   "source": []
  }
 ],
 "metadata": {
  "kernelspec": {
   "display_name": "Python 3",
   "language": "python",
   "name": "python3"
  },
  "language_info": {
   "codemirror_mode": {
    "name": "ipython",
    "version": 3
   },
   "file_extension": ".py",
   "mimetype": "text/x-python",
   "name": "python",
   "nbconvert_exporter": "python",
   "pygments_lexer": "ipython3",
   "version": "3.7.6"
  }
 },
 "nbformat": 4,
 "nbformat_minor": 4
}
