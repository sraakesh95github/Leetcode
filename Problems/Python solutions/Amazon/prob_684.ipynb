{
 "cells": [
  {
   "cell_type": "markdown",
   "metadata": {},
   "source": [
    "## Redundant connection"
   ]
  },
  {
   "cell_type": "code",
   "execution_count": 5,
   "metadata": {},
   "outputs": [],
   "source": [
    "from collections import defaultdict\n",
    "\n",
    "class Solution:\n",
    "    \n",
    "    def findRedundantConnection(self, edges):\n",
    "        graph = defaultdict(list)\n",
    "        \n",
    "        def dfs(source, target):\n",
    "            if source not in seen:\n",
    "                seen.add(source)\n",
    "                if(source == target):\n",
    "                    return True\n",
    "                return any(dfs(neighbor, target) for neighbor in graph[source])\n",
    "            \n",
    "        for u, v in edges:\n",
    "            seen = set()\n",
    "            if(u in graph and v in graph and dfs(u, v)):\n",
    "                return u, v\n",
    "            graph[u].append(v)\n",
    "            graph[v].append(u)"
   ]
  },
  {
   "cell_type": "code",
   "execution_count": 6,
   "metadata": {},
   "outputs": [
    {
     "name": "stdout",
     "output_type": "stream",
     "text": [
      "(1, 4)\n"
     ]
    }
   ],
   "source": [
    "Lst = [[1,2], [2,3], [3,4], [1,4], [1,5]]\n",
    "\n",
    "a = Solution()\n",
    "print(a.findRedundantConnection(Lst))"
   ]
  },
  {
   "cell_type": "code",
   "execution_count": null,
   "metadata": {},
   "outputs": [],
   "source": []
  }
 ],
 "metadata": {
  "kernelspec": {
   "display_name": "Python 3",
   "language": "python",
   "name": "python3"
  },
  "language_info": {
   "codemirror_mode": {
    "name": "ipython",
    "version": 3
   },
   "file_extension": ".py",
   "mimetype": "text/x-python",
   "name": "python",
   "nbconvert_exporter": "python",
   "pygments_lexer": "ipython3",
   "version": "3.8.3"
  }
 },
 "nbformat": 4,
 "nbformat_minor": 4
}
