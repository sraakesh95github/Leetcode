{
 "cells": [
  {
   "cell_type": "markdown",
   "metadata": {},
   "source": [
    "## ZigZag pattern\n",
    "<a href=\"https://leetcode.com/problems/zigzag-conversion/solution/\">prob link</a>"
   ]
  },
  {
   "cell_type": "code",
   "execution_count": 37,
   "metadata": {},
   "outputs": [],
   "source": [
    "class Solution:\n",
    "    def convert(self, s, numRows):\n",
    "        itr = min(numRows, len(s))\n",
    "        count = 0\n",
    "        rows = [[] for i in range(itr)]\n",
    "        \n",
    "        if(numRows == 1):\n",
    "            return s\n",
    "        \n",
    "        # True represents down direction, Talse represents up direction\n",
    "        direction = True\n",
    "        while(count < len(s)):\n",
    "\n",
    "            if(direction):\n",
    "                for i in range(itr):\n",
    "                    if(rows[i]):\n",
    "                        rows[i].extend(s[count])\n",
    "                    else:\n",
    "                        rows[i].append(s[count])\n",
    "                    count += 1\n",
    "                    if(count >= len(s)):\n",
    "                        break\n",
    "                direction = False\n",
    "            else:\n",
    "                for i in range(itr-2, 0, -1):\n",
    "                    rows[i].append(s[count])\n",
    "                    count+=1\n",
    "                    if(count >= len(s)):\n",
    "                        break\n",
    "                direction = True\n",
    "        \n",
    "        result = []\n",
    "        for i in rows:\n",
    "            result.extend(i)\n",
    "        \n",
    "        return \"\".join(result)"
   ]
  },
  {
   "cell_type": "code",
   "execution_count": 40,
   "metadata": {},
   "outputs": [
    {
     "name": "stdout",
     "output_type": "stream",
     "text": [
      "pinalsigyahrpi\n"
     ]
    }
   ],
   "source": [
    "a = Solution()\n",
    "\n",
    "s = 'paypalishiring'\n",
    "numRows = 4\n",
    "\n",
    "test = a.convert(s, numRows)\n",
    "\n",
    "print(a.convert(s, numRows))"
   ]
  },
  {
   "cell_type": "code",
   "execution_count": 41,
   "metadata": {},
   "outputs": [
    {
     "ename": "IndexError",
     "evalue": "list index out of range",
     "output_type": "error",
     "traceback": [
      "\u001b[1;31m---------------------------------------------------------------------------\u001b[0m",
      "\u001b[1;31mIndexError\u001b[0m                                Traceback (most recent call last)",
      "\u001b[1;32m<ipython-input-41-b7783518decf>\u001b[0m in \u001b[0;36m<module>\u001b[1;34m\u001b[0m\n\u001b[0;32m      1\u001b[0m \u001b[0mrows\u001b[0m \u001b[1;33m=\u001b[0m \u001b[1;33m[\u001b[0m\u001b[1;33m[\u001b[0m\u001b[1;33m]\u001b[0m \u001b[1;32mfor\u001b[0m \u001b[0mi\u001b[0m \u001b[1;32min\u001b[0m \u001b[0mrange\u001b[0m\u001b[1;33m(\u001b[0m\u001b[1;36m2\u001b[0m\u001b[1;33m)\u001b[0m\u001b[1;33m]\u001b[0m\u001b[1;33m\u001b[0m\u001b[1;33m\u001b[0m\u001b[0m\n\u001b[0;32m      2\u001b[0m \u001b[1;33m\u001b[0m\u001b[0m\n\u001b[1;32m----> 3\u001b[1;33m \u001b[1;32mif\u001b[0m\u001b[1;33m(\u001b[0m\u001b[0mrows\u001b[0m\u001b[1;33m[\u001b[0m\u001b[1;36m3\u001b[0m\u001b[1;33m]\u001b[0m\u001b[1;33m)\u001b[0m\u001b[1;33m:\u001b[0m\u001b[1;33m\u001b[0m\u001b[1;33m\u001b[0m\u001b[0m\n\u001b[0m\u001b[0;32m      4\u001b[0m     \u001b[0mprint\u001b[0m\u001b[1;33m(\u001b[0m\u001b[1;34m\"Row defined...\"\u001b[0m\u001b[1;33m)\u001b[0m\u001b[1;33m\u001b[0m\u001b[1;33m\u001b[0m\u001b[0m\n\u001b[0;32m      5\u001b[0m \u001b[1;32melse\u001b[0m\u001b[1;33m:\u001b[0m \u001b[0mprint\u001b[0m\u001b[1;33m(\u001b[0m\u001b[1;34m\"Row undefined...\"\u001b[0m\u001b[1;33m)\u001b[0m\u001b[1;33m\u001b[0m\u001b[1;33m\u001b[0m\u001b[0m\n",
      "\u001b[1;31mIndexError\u001b[0m: list index out of range"
     ]
    }
   ],
   "source": [
    "rows = [[] for i in range(2)]\n",
    "\n",
    "if(rows[3]):\n",
    "    print(\"Row defined...\")\n",
    "else: print(\"Row undefined...\")"
   ]
  },
  {
   "cell_type": "code",
   "execution_count": 26,
   "metadata": {},
   "outputs": [
    {
     "data": {
      "text/plain": [
       "[['p', 'a', 'h', 'n'], ['a', 'p', 'l', 's', 'i', 'i', 'g'], ['y', 'i', 'r']]"
      ]
     },
     "execution_count": 26,
     "metadata": {},
     "output_type": "execute_result"
    }
   ],
   "source": [
    "test"
   ]
  },
  {
   "cell_type": "code",
   "execution_count": 32,
   "metadata": {},
   "outputs": [
    {
     "name": "stdout",
     "output_type": "stream",
     "text": [
      "pahnaplsiigyir\n"
     ]
    }
   ],
   "source": [
    "test2 = []\n",
    "for i in test:\n",
    "    test2.extend(i)\n",
    "\n",
    "c = \"\".join(test2)\n",
    "\n",
    "print(c)"
   ]
  },
  {
   "cell_type": "code",
   "execution_count": null,
   "metadata": {},
   "outputs": [],
   "source": []
  }
 ],
 "metadata": {
  "kernelspec": {
   "display_name": "Python 3",
   "language": "python",
   "name": "python3"
  },
  "language_info": {
   "codemirror_mode": {
    "name": "ipython",
    "version": 3
   },
   "file_extension": ".py",
   "mimetype": "text/x-python",
   "name": "python",
   "nbconvert_exporter": "python",
   "pygments_lexer": "ipython3",
   "version": "3.8.3"
  }
 },
 "nbformat": 4,
 "nbformat_minor": 4
}
