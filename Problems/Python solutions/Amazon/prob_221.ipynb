{
 "cells": [
  {
   "cell_type": "markdown",
   "metadata": {},
   "source": [
    "## Maximal square"
   ]
  },
  {
   "cell_type": "code",
   "execution_count": 153,
   "metadata": {},
   "outputs": [],
   "source": [
    "class Solution:\n",
    "    def maximalSquare(self, matrix):\n",
    "        max_len = 0\n",
    "        right_counter = 0\n",
    "        rowNum = len(matrix)\n",
    "        colNum = len(matrix[0])\n",
    "        for r in range(len(matrix)):\n",
    "            for c in range(len(matrix[0])):\n",
    "                if(matrix[r][c] == \"1\"):\n",
    "                    \n",
    "                    # Check how many horizontal steps can be taken\n",
    "                    right_counter = 0\n",
    "                    for col in range(colNum - c):\n",
    "                        if(matrix[r][c+col] == \"1\"):\n",
    "                            right_counter += 1\n",
    "                        else:\n",
    "                            break\n",
    "                    right_counter = min(rowNum - r, right_counter)\n",
    "                    \n",
    "                    if(right_counter == 0):\n",
    "                        max_len = 1\n",
    "                    \n",
    "                    #Check for validity of a square with given right_counter\n",
    "                    if(right_counter > max_len):\n",
    "                        side_counter = 0\n",
    "                        for i in range(right_counter-1, -1, -1):\n",
    "                            side_break = False\n",
    "                            for j in range(i, -1, -1):\n",
    "                                if(matrix[r+j][c+i] == \"1\" and matrix[r+i][c+j] == \"1\"):\n",
    "                                    continue\n",
    "                                else:\n",
    "                                    side_break = True\n",
    "                                    side_counter = 0\n",
    "                                    break\n",
    "                            if(side_break == False):\n",
    "                                side_counter += 1\n",
    "                        max_len = max(max_len, side_counter)\n",
    "\n",
    "        return max_len**2\n",
    "                        \n",
    "    def printBoard(self, matrix):\n",
    "        for r in range(len(matrix)):\n",
    "            print(\"\\n\")\n",
    "            for c in range(len(matrix[0])):\n",
    "                print(str(matrix[r][c]) + \"\\t\", end=\"\")"
   ]
  },
  {
   "cell_type": "code",
   "execution_count": 154,
   "metadata": {},
   "outputs": [
    {
     "name": "stdout",
     "output_type": "stream",
     "text": [
      "4\n"
     ]
    }
   ],
   "source": [
    "matrix = [[\"1\",\"0\",\"1\",\"0\",\"0\"],[\"1\",\"0\",\"1\",\"1\",\"1\"],[\"1\",\"1\",\"1\",\"1\",\"1\"],[\"1\",\"0\",\"0\",\"1\",\"0\"]]\n",
    "# matrix = [[\"0\", \"0\"], [\"0\", \"0\"]]\n",
    "# matrix = [[\"1\", \"1\"], [\"1\", \"1\"]]\n",
    "# matrix = [[\"1\"]]\n",
    "# matrix = [[\"0\"]]\n",
    "# matrix = [[\"1\",\"1\",\"1\",\"1\",\"1\",\"1\",\"1\",\"1\"],[\"1\",\"1\",\"1\",\"1\",\"1\",\"1\",\"1\",\"0\"],[\"1\",\"1\",\"1\",\"1\",\"1\",\"1\",\"1\",\"0\"],[\"1\",\"1\",\"1\",\"1\",\"1\",\"0\",\"0\",\"0\"],[\"0\",\"1\",\"1\",\"1\",\"1\",\"0\",\"0\",\"0\"]]\n",
    "# matrix = [[\"1\",\"0\",\"1\",\"1\",\"0\",\"1\"],[\"1\",\"1\",\"1\",\"1\",\"1\",\"1\"],[\"0\",\"1\",\"1\",\"0\",\"1\",\"1\"],[\"1\",\"1\",\"1\",\"0\",\"1\",\"0\"],[\"0\",\"1\",\"1\",\"1\",\"1\",\"1\"],[\"1\",\"1\",\"0\",\"1\",\"1\",\"1\"]]\n",
    "\n",
    "a= Solution()\n",
    "# print(a.printBoard(matrix))\n",
    "print(a.maximalSquare(matrix))"
   ]
  },
  {
   "cell_type": "code",
   "execution_count": 155,
   "metadata": {},
   "outputs": [
    {
     "name": "stdout",
     "output_type": "stream",
     "text": [
      "0\n"
     ]
    }
   ],
   "source": [
    "for i in range(0, -1, -1):\n",
    "    print(i)"
   ]
  },
  {
   "cell_type": "code",
   "execution_count": 156,
   "metadata": {},
   "outputs": [
    {
     "name": "stdout",
     "output_type": "stream",
     "text": [
      "[['0', '0', '0', '0', '0'], ['0', '0', '0', '0', '0'], ['0', '0', '0', '1', '0'], ['0', '0', '0', '0', '0']]\n"
     ]
    }
   ],
   "source": [
    "rowNum = len(matrix)\n",
    "colNum = len(matrix[0])\n",
    "\n",
    "new_array = [[\"0\" for i in range(colNum)] for j in range(rowNum)]\n",
    "new_array[2][3] = \"1\"\n",
    "print(new_array)"
   ]
  },
  {
   "cell_type": "markdown",
   "metadata": {},
   "source": [
    "## Dynamic Programming"
   ]
  },
  {
   "cell_type": "code",
   "execution_count": 159,
   "metadata": {},
   "outputs": [],
   "source": [
    "class Solution:\n",
    "    def maximalSquare(self, matrix):\n",
    "        rowNum = len(matrix)\n",
    "        colNum = len(matrix[0])\n",
    "        max_length = 0\n",
    "        \n",
    "        dp = [[0 for i in range(colNum)] for j in range(rowNum)]\n",
    "        \n",
    "        for r in range(rowNum):\n",
    "            for c in range(colNum):\n",
    "                if(matrix[r][c] == \"1\"):\n",
    "                    if(r>0 and c>0):\n",
    "                        dp[r][c] = min(dp[r-1][c-1], dp[r-1][c], dp[r][c-1]) + 1\n",
    "                    else:\n",
    "                        dp[r][c] = 1\n",
    "                    max_length = max(dp[r][c], max_length)\n",
    "        return max_length**2"
   ]
  },
  {
   "cell_type": "code",
   "execution_count": 160,
   "metadata": {},
   "outputs": [
    {
     "name": "stdout",
     "output_type": "stream",
     "text": [
      "1\n"
     ]
    }
   ],
   "source": [
    "# matrix = [[\"1\",\"0\",\"1\",\"0\",\"0\"],[\"1\",\"0\",\"1\",\"1\",\"1\"],[\"1\",\"1\",\"1\",\"1\",\"1\"],[\"1\",\"0\",\"0\",\"1\",\"0\"]]\n",
    "# matrix = [[\"0\", \"0\"], [\"0\", \"0\"]]\n",
    "# matrix = [[\"1\", \"1\"], [\"1\", \"1\"]]\n",
    "# matrix = [[\"1\"]]\n",
    "# matrix = [[\"0\"]]\n",
    "# matrix = [[\"1\",\"1\",\"1\",\"1\",\"1\",\"1\",\"1\",\"1\"],[\"1\",\"1\",\"1\",\"1\",\"1\",\"1\",\"1\",\"0\"],[\"1\",\"1\",\"1\",\"1\",\"1\",\"1\",\"1\",\"0\"],[\"1\",\"1\",\"1\",\"1\",\"1\",\"0\",\"0\",\"0\"],[\"0\",\"1\",\"1\",\"1\",\"1\",\"0\",\"0\",\"0\"]]\n",
    "# matrix = [[\"1\",\"0\",\"1\",\"1\",\"0\",\"1\"],[\"1\",\"1\",\"1\",\"1\",\"1\",\"1\"],[\"0\",\"1\",\"1\",\"0\",\"1\",\"1\"],[\"1\",\"1\",\"1\",\"0\",\"1\",\"0\"],[\"0\",\"1\",\"1\",\"1\",\"1\",\"1\"],[\"1\",\"1\",\"0\",\"1\",\"1\",\"1\"]]\n",
    "matrix = [[\"0\"],[\"1\"]]\n",
    "\n",
    "a= Solution()\n",
    "# print(a.printBoard(matrix))\n",
    "print(a.maximalSquare(matrix))"
   ]
  },
  {
   "cell_type": "code",
   "execution_count": null,
   "metadata": {},
   "outputs": [],
   "source": []
  }
 ],
 "metadata": {
  "kernelspec": {
   "display_name": "Python 3",
   "language": "python",
   "name": "python3"
  },
  "language_info": {
   "codemirror_mode": {
    "name": "ipython",
    "version": 3
   },
   "file_extension": ".py",
   "mimetype": "text/x-python",
   "name": "python",
   "nbconvert_exporter": "python",
   "pygments_lexer": "ipython3",
   "version": "3.8.3"
  }
 },
 "nbformat": 4,
 "nbformat_minor": 4
}
