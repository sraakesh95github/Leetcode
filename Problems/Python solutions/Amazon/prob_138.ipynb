{
 "cells": [
  {
   "cell_type": "markdown",
   "metadata": {},
   "source": [
    "## Copy list with random pointer"
   ]
  },
  {
   "cell_type": "code",
   "execution_count": null,
   "metadata": {},
   "outputs": [],
   "source": []
  },
  {
   "cell_type": "code",
   "execution_count": 8,
   "metadata": {},
   "outputs": [],
   "source": [
    "# Linked List sample\n",
    "class Node:\n",
    "    \n",
    "    def __init__(self, x=0, next=None, random=None):\n",
    "        self.val = int(x)\n",
    "        self.next = next\n",
    "        self.random = random\n",
    "\n",
    "class LinkedList:\n",
    "    \n",
    "    def listToNode(self, List):\n",
    "        head = Node()\n",
    "        n = head\n",
    "        for ele in List:\n",
    "            n.val = ele[0]\n",
    "            n.next = Node()\n",
    "            n = n.next\n",
    "        n.next = None\n",
    "        \n",
    "        m = head\n",
    "        for ele in List:\n",
    "            if(ele[1] is not None):\n",
    "#                 print(\"Number of iterations required: \" + str(ele[1]))\n",
    "                n = head\n",
    "                for i in range(ele[1]):\n",
    "                    n = n.next\n",
    "            else:\n",
    "                n = None\n",
    "            m.random = n\n",
    "            m=m.next\n",
    "            \n",
    "        return head\n",
    "        \n",
    "    def linkedListToList(self, head):\n",
    "        n = head\n",
    "        List = []\n",
    "        while(n.next != None):\n",
    "            if(n.random is not None):\n",
    "                List.append((n.val, n.random.val))\n",
    "            else:\n",
    "                List.append((n.val, None))\n",
    "            n=n.next\n",
    "        return List\n",
    "    \n",
    "    def copyRandomList(self, head):\n",
    "        n = head\n",
    "        head2 = Node()\n",
    "        m = head2\n",
    "        while(n.next is not None):\n",
    "            m.val = n.val\n",
    "            m.next = Node()\n",
    "            m = m.next\n",
    "            n = n.next\n",
    "        \n",
    "        m = head2\n",
    "        n = head\n",
    "        while(m is not None):\n",
    "            if(n.random is not None):\n",
    "                m_temp = head2\n",
    "                while(m_temp.val != n.random.val):\n",
    "                    m_temp = m_temp.next\n",
    "                m.random = m_temp\n",
    "            else:\n",
    "                m.random = None\n",
    "            m = m.next\n",
    "            n = n.next\n",
    "        return head2\n",
    "                \n",
    "#     def listToNodeSub(self, val, node, random):\n",
    "#         node.val = val\n",
    "#         node.next = Node()\n",
    "#         node.random = "
   ]
  },
  {
   "cell_type": "code",
   "execution_count": 9,
   "metadata": {},
   "outputs": [
    {
     "name": "stdout",
     "output_type": "stream",
     "text": [
      "7\n",
      "[(7, None), (13, 7), (11, 1), (10, 11), (1, 7)]\n"
     ]
    }
   ],
   "source": [
    "linked_list = [[7,None],[13,0],[11,4],[10,2],[1,0]]\n",
    "head = Node()\n",
    "\n",
    "a = LinkedList()\n",
    "head = a.listToNode(linked_list)\n",
    "print(head.val)\n",
    "head2 = a.copyRandomList(head)\n",
    "print(a.linkedListToList(head2))\n",
    "# print(a.linkedListToList(head))"
   ]
  },
  {
   "cell_type": "markdown",
   "metadata": {},
   "source": [
    "## Recursive appraoch as in leetcode"
   ]
  },
  {
   "cell_type": "code",
   "execution_count": 23,
   "metadata": {},
   "outputs": [],
   "source": [
    "# Linked List sample\n",
    "class Node:\n",
    "    \n",
    "    def __init__(self, x=0, next=None, random=None):\n",
    "        self.val = int(x)\n",
    "        self.next = next\n",
    "        self.random = random\n",
    "\n",
    "class LinkedList:\n",
    "    \n",
    "    def listToNode(self, List):\n",
    "        head = Node()\n",
    "        n = head\n",
    "        for ele in List:\n",
    "            n.val = ele[0]\n",
    "            n.next = Node()\n",
    "            n = n.next\n",
    "        n.next = None\n",
    "        \n",
    "        m = head\n",
    "        for ele in List:\n",
    "            if(ele[1] is not None):\n",
    "#                 print(\"Number of iterations required: \" + str(ele[1]))\n",
    "                n = head\n",
    "                for i in range(ele[1]):\n",
    "                    n = n.next\n",
    "            else:\n",
    "                n = None\n",
    "            m.random = n\n",
    "            m=m.next\n",
    "            \n",
    "        return head\n",
    "        \n",
    "    def linkedListToList(self, head):\n",
    "        n = head\n",
    "        List = []\n",
    "        while(n.next != None):\n",
    "            if(n.random is not None):\n",
    "                List.append((n.val, n.random.val))\n",
    "            else:\n",
    "                List.append((n.val, None))\n",
    "            n=n.next\n",
    "        return List\n",
    "    \n",
    "\"\"\"\n",
    "# Definition for a Node.\n",
    "class Node:\n",
    "    def __init__(self, x: int, next: 'Node' = None, random: 'Node' = None):\n",
    "        self.val = int(x)\n",
    "        self.next = next\n",
    "        self.random = random\n",
    "\"\"\"\n",
    "\n",
    "class Solution:\n",
    "    \n",
    "    def __init__(self):\n",
    "        self.visitedDict = {}\n",
    "        \n",
    "    def copyRandomList(self, head):\n",
    "\n",
    "        if(head == None):\n",
    "            return None\n",
    "        \n",
    "        if(head in self.visitedDict):\n",
    "            return self.visitedDict[head]\n",
    "            \n",
    "        node = Node(head.val, None, None)\n",
    "        \n",
    "        self.visitedDict[head] = node\n",
    "        \n",
    "        node.next = self.copyRandomList(head.next)\n",
    "        node.random = self.copyRandomList(head.random)\n",
    "        \n",
    "        return node"
   ]
  },
  {
   "cell_type": "code",
   "execution_count": 24,
   "metadata": {},
   "outputs": [
    {
     "name": "stdout",
     "output_type": "stream",
     "text": [
      "[(7, None), (13, 10), (11, 1), (10, 11), (1, 7)]\n"
     ]
    }
   ],
   "source": [
    "linked_list = [[7,None],[13,3],[11,4],[10,2],[1,0]]\n",
    "head = Node()\n",
    "\n",
    "a = LinkedList()\n",
    "head = a.listToNode(linked_list)\n",
    "\n",
    "l = Solution()\n",
    "copied_head = l.copyRandomList(head)\n",
    "\n",
    "print(a.linkedListToList(copied_head))"
   ]
  },
  {
   "cell_type": "code",
   "execution_count": null,
   "metadata": {},
   "outputs": [],
   "source": []
  }
 ],
 "metadata": {
  "kernelspec": {
   "display_name": "Python 3",
   "language": "python",
   "name": "python3"
  },
  "language_info": {
   "codemirror_mode": {
    "name": "ipython",
    "version": 3
   },
   "file_extension": ".py",
   "mimetype": "text/x-python",
   "name": "python",
   "nbconvert_exporter": "python",
   "pygments_lexer": "ipython3",
   "version": "3.8.3"
  }
 },
 "nbformat": 4,
 "nbformat_minor": 4
}
