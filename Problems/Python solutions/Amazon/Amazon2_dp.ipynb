{
 "cells": [
  {
   "cell_type": "markdown",
   "metadata": {},
   "source": [
    "## Problem Statement"
   ]
  },
  {
   "cell_type": "markdown",
   "metadata": {},
   "source": [
    "Given a string s and an int k, return an int representing the number of substrings (not unique) of s with exactly k distinct characters. If the given string doesn't have k distinct characters, return 0.\n",
    "https://leetcode.com/problems/subarrays-with-k-different-integers\n",
    "\n",
    "Example 1:\n",
    "\n",
    "Input: s = \"pqpqs\", k = 2\n",
    "Output: 7\n",
    "Explanation: [\"pq\", \"pqp\", \"pqpq\", \"qp\", \"qpq\", \"pq\", \"qs\"]\n",
    "Example 2:\n",
    "\n",
    "Input: s = \"aabab\", k = 3\n",
    "Output: 0\n",
    "Constraints:\n",
    "\n",
    "The input string consists of only lowercase English letters [a-z]\n",
    "0 ≤ k ≤ 26"
   ]
  },
  {
   "cell_type": "markdown",
   "metadata": {},
   "source": [
    "## Brute force (Brute Force)"
   ]
  },
  {
   "cell_type": "code",
   "execution_count": null,
   "metadata": {},
   "outputs": [],
   "source": [
    "class Solution():\n",
    "\n",
    "    def k_distinct(self, string, k):\n",
    "        lst = list(string)\n",
    "        if(self.check_distinct(lst) < k):\n",
    "            return 0\n",
    "        else:\n",
    "            final_string_lst = []\n",
    "            n = len(lst)\n",
    "            for i in range(n - k + 1):\n",
    "                output_string = []\n",
    "                temp_lst = []\n",
    "                temp_lst_full = False\n",
    "#                 print(\"Input list: \" + str(lst[i:n]))\n",
    "                for char in lst[i:n]:\n",
    "#                     print(char)\n",
    "                    if(temp_lst_full == False):\n",
    "                        if(len(temp_lst) < k):\n",
    "                            \n",
    "                            if(char not in temp_lst):\n",
    "                                temp_lst.append(char)\n",
    "#                                 print(\"temp_lst: \" + str(temp_lst))\n",
    "                        else:\n",
    "                            temp_lst_full = True\n",
    "\n",
    "                    if(char in temp_lst):\n",
    "#                         print(\"Append string: \" + char)\n",
    "                        output_string.append(char)\n",
    "                        \n",
    "                    else:\n",
    "#                         print(\"output_string: \" + str(output_string))\n",
    "                        final_string_lst.append(''.join(output_string))\n",
    "                        break\n",
    "                        \n",
    "            return final_string_lst\n",
    "                       \n",
    "    def check_distinct(self, lst):\n",
    "        check_lst = []\n",
    "        for char in lst:\n",
    "            if(char not in check_lst):\n",
    "                check_lst.append(char)\n",
    "        count = len(check_lst)\n",
    "        return count\n",
    "                "
   ]
  },
  {
   "cell_type": "code",
   "execution_count": null,
   "metadata": {},
   "outputs": [],
   "source": [
    "s = \"pqpqs\"\n",
    "k = 2\n",
    "a = Solution()\n",
    "print(a.k_distinct(s, 2))"
   ]
  },
  {
   "cell_type": "markdown",
   "metadata": {},
   "source": [
    "## Problem Statement 2"
   ]
  },
  {
   "cell_type": "code",
   "execution_count": null,
   "metadata": {},
   "outputs": [],
   "source": []
  }
 ],
 "metadata": {
  "kernelspec": {
   "display_name": "Python 3",
   "language": "python",
   "name": "python3"
  },
  "language_info": {
   "codemirror_mode": {
    "name": "ipython",
    "version": 3
   },
   "file_extension": ".py",
   "mimetype": "text/x-python",
   "name": "python",
   "nbconvert_exporter": "python",
   "pygments_lexer": "ipython3",
   "version": "3.7.6"
  }
 },
 "nbformat": 4,
 "nbformat_minor": 4
}
