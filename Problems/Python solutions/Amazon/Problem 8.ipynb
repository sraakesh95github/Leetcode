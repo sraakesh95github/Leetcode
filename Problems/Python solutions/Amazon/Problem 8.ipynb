{
 "cells": [
  {
   "cell_type": "markdown",
   "metadata": {},
   "source": [
    "### Problem Statement (String to Integer)\n",
    "\n",
    "The function first discards as many whitespace characters as necessary until the first non-whitespace character is found. Then, starting from this character, takes an optional initial plus or minus sign followed by as many numerical digits as possible, and interprets them as a numerical value.\n",
    "\n",
    "The string can contain additional characters after those that form the integral number, which are ignored and have no effect on the behavior of this function.\n",
    "\n",
    "If the first sequence of non-whitespace characters in str is not a valid integral number, or if no such sequence exists because either str is empty or it contains only whitespace characters, no conversion is performed.\n",
    "\n",
    "If no valid conversion could be performed, a zero value is returned.\n",
    "\n",
    "Note:\n",
    "\n",
    "Only the space character ' ' is considered as whitespace character.\n",
    "Assume we are dealing with an environment which could only store integers within the 32-bit signed integer range: [−231,  231 − 1]. If the numerical value is out of the range of representable values, INT_MAX (231 − 1) or INT_MIN (−231) is returned.\n",
    "Example 1:\n",
    "\n",
    "Input: \"42\"\n",
    "Output: 42\n",
    "Example 2:\n",
    "\n",
    "Input: \"   -42\"\n",
    "Output: -42\n",
    "Explanation: The first non-whitespace character is '-', which is the minus sign.\n",
    "             Then take as many numerical digits as possible, which gets 42.\n",
    "Example 3:\n",
    "\n",
    "Input: \"4193 with words\"\n",
    "Output: 4193\n",
    "Explanation: Conversion stops at digit '3' as the next character is not a numerical digit.\n",
    "Example 4:\n",
    "\n",
    "Input: \"words and 987\"\n",
    "Output: 0\n",
    "Explanation: The first non-whitespace character is 'w', which is not a numerical \n",
    "             digit or a +/- sign. Therefore no valid conversion could be performed.\n",
    "Example 5:\n",
    "\n",
    "Input: \"-91283472332\"\n",
    "Output: -2147483648\n",
    "Explanation: The number \"-91283472332\" is out of the range of a 32-bit signed integer.\n",
    "             Thefore INT_MIN (−231) is returned."
   ]
  },
  {
   "cell_type": "markdown",
   "metadata": {},
   "source": [
    "### Using RegEx"
   ]
  },
  {
   "cell_type": "code",
   "execution_count": null,
   "metadata": {},
   "outputs": [],
   "source": [
    "import re\n",
    "\n",
    "def atoi_usr(s):\n",
    "    a = re.match(r'\\s*((\\-|\\+)?\\d+)[\\s|\\w]*', s)\n",
    "    if a:\n",
    "        print(a.group(1))\n",
    "    else:\n",
    "        print(\"No match found\")"
   ]
  },
  {
   "cell_type": "code",
   "execution_count": 8,
   "metadata": {},
   "outputs": [
    {
     "name": "stdout",
     "output_type": "stream",
     "text": [
      "-234\n"
     ]
    }
   ],
   "source": [
    "atoi_usr('  -234uio')"
   ]
  },
  {
   "cell_type": "code",
   "execution_count": 3,
   "metadata": {},
   "outputs": [],
   "source": [
    "import re\n",
    "\n",
    "class Solution:\n",
    "    def myAtoi(self, N: str) -> int:\n",
    "        g = re.match(r'\\s*((\\-|\\+)?\\d+)[\\s|\\w]*', N)\n",
    "        if g:\n",
    "            i = int(g.group(1))\n",
    "            i = max(min(i, 2147483647), -2147483648)\n",
    "            return i\n",
    "        else:\n",
    "            return 0"
   ]
  },
  {
   "cell_type": "code",
   "execution_count": 5,
   "metadata": {},
   "outputs": [
    {
     "data": {
      "text/plain": [
       "0"
      ]
     },
     "execution_count": 5,
     "metadata": {},
     "output_type": "execute_result"
    }
   ],
   "source": [
    "a = Solution()\n",
    "a.myAtoi(' ioa-234klj')"
   ]
  },
  {
   "cell_type": "markdown",
   "metadata": {},
   "source": [
    "### Using Array Manipulation"
   ]
  },
  {
   "cell_type": "code",
   "execution_count": null,
   "metadata": {},
   "outputs": [],
   "source": [
    "# Can regex be used for this question?\n",
    "\n",
    "class Solution:\n",
    "    def myAtoi(self, str: str) -> int:\n",
    "        start = False\n",
    "        length = len(str)\n",
    "        count = 0\n",
    "        int_list = []\n",
    "        num_list = ['0','1','2','3','4','5','6','7','8','9','+','-']\n",
    "        final = 0\n",
    "        upper_limit = 2**31\n",
    "        lower_limit = -2**31\n",
    "        \n",
    "        for i in str:\n",
    "            count = count + 1\n",
    "            if(start == False):\n",
    "                if(i == ' '):\n",
    "                    pass\n",
    "                elif(i not in num_list):\n",
    "                    final = 0\n",
    "                    break\n",
    "                else:\n",
    "                    start = True\n",
    "                    int_list.append(i)\n",
    "                    if(''.join(int_list).isnumeric()):\n",
    "                        final = int(''.join(int_list))\n",
    "            else:\n",
    "                if(i not in num_list):\n",
    "                    final = int(''.join(int_list))\n",
    "                    break\n",
    "                else:\n",
    "                    int_list.append(i)\n",
    "                    if(count == length):\n",
    "                        final = int(''.join(int_list))\n",
    "                        break\n",
    "        \n",
    "        if(final > upper_limit):\n",
    "            return uupper_limit\n",
    "        elif(final < lower_limit):\n",
    "            return lower_limit\n",
    "        else:\n",
    "            return final"
   ]
  }
 ],
 "metadata": {
  "kernelspec": {
   "display_name": "Python 3",
   "language": "python",
   "name": "python3"
  },
  "language_info": {
   "codemirror_mode": {
    "name": "ipython",
    "version": 3
   },
   "file_extension": ".py",
   "mimetype": "text/x-python",
   "name": "python",
   "nbconvert_exporter": "python",
   "pygments_lexer": "ipython3",
   "version": "3.7.6"
  }
 },
 "nbformat": 4,
 "nbformat_minor": 4
}
