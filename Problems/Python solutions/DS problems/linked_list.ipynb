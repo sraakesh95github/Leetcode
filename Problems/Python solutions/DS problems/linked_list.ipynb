{
 "cells": [
  {
   "cell_type": "markdown",
   "metadata": {},
   "source": [
    "## Linked list"
   ]
  },
  {
   "cell_type": "markdown",
   "metadata": {},
   "source": [
    "### Create a Linked list"
   ]
  },
  {
   "cell_type": "code",
   "execution_count": 34,
   "metadata": {},
   "outputs": [],
   "source": [
    "class Node():\n",
    "    def __init__(self, data):\n",
    "        self.val = data\n",
    "        self.next = None\n",
    "            \n",
    "class LinkedList():\n",
    "    \n",
    "    def __init__(self):\n",
    "        self.head = None\n",
    "        \n",
    "    def print_all(self):\n",
    "        if(self.head is not None):\n",
    "            node = self.head\n",
    "            while(node is not None):\n",
    "                print(node.val)\n",
    "                node=node.next\n",
    "            \n",
    "    def search(self, ele):\n",
    "        count = -1\n",
    "        if(self.head is not None):\n",
    "            node = self.head\n",
    "            while(node is not None):\n",
    "                count+=1\n",
    "                if(node.val == ele):\n",
    "                    return count\n",
    "                    break\n",
    "                else:\n",
    "                    if(node.next is not None):\n",
    "                        node=node.next\n",
    "                    else:\n",
    "                        break \n",
    "            return -1\n",
    "        \n",
    "    def insert_front(self, node):\n",
    "        if(self.head is not None):\n",
    "            node.next = self.head\n",
    "            self.head = node\n",
    "        else:\n",
    "            self.head = node\n",
    "        \n",
    "    def insert_end(self, node):\n",
    "        if(self.head is not None):\n",
    "            temp_node = self.head\n",
    "            while(temp_node.next is not None):\n",
    "                temp_node = temp_node.next\n",
    "            temp_node.next = node\n",
    "        else:\n",
    "            self.head = node\n",
    "            \n",
    "    def insert_after(self, exist_node, insert_node):\n",
    "        insert_node.next = exist_node.next\n",
    "        exist_node.next = insert_node\n",
    "    \n",
    "    def delete_key(self, key):\n",
    "        if(self.head is not None):\n",
    "            node = self.head\n",
    "            \n",
    "            # Handle the head case\n",
    "            if(node.val == key):\n",
    "                temp_node = self.head\n",
    "                self.head = self.head.next\n",
    "                temp_node = None\n",
    "                return True\n",
    "            \n",
    "            # Handle the other cases\n",
    "            prev_node = node\n",
    "            node = node.next\n",
    "            while(node is not None):\n",
    "                if(node.val == key):\n",
    "                    temp_node = node\n",
    "                    prev_node.next = node.next\n",
    "                    temp_node = None\n",
    "                    return True\n",
    "                else:\n",
    "                    prev_node = node\n",
    "                    node = node.next\n",
    "            return False"
   ]
  },
  {
   "cell_type": "code",
   "execution_count": 35,
   "metadata": {},
   "outputs": [
    {
     "name": "stdout",
     "output_type": "stream",
     "text": [
      "a\n",
      "b\n",
      "c\n"
     ]
    }
   ],
   "source": [
    "lst = LinkedList()\n",
    "a = Node('a')\n",
    "b = Node('b')\n",
    "c = Node('c')\n",
    "a1 = Node('a1')\n",
    "a2 = Node('a2')\n",
    "z2 = Node('z2')\n",
    "z1 = Node('z1')\n",
    "\n",
    "a.next = b\n",
    "b.next = c\n",
    "lst.head = a\n",
    "lst.print_all()\n",
    "# print(lst.search('d'))"
   ]
  },
  {
   "cell_type": "code",
   "execution_count": 36,
   "metadata": {},
   "outputs": [
    {
     "name": "stdout",
     "output_type": "stream",
     "text": [
      "a2\n",
      "a1\n",
      "a\n",
      "b\n",
      "c\n",
      "z1\n",
      "z2\n"
     ]
    }
   ],
   "source": [
    "lst.insert_front(a1)\n",
    "lst.insert_front(a2)\n",
    "lst.insert_end(z1)\n",
    "lst.insert_end(z2)\n",
    "lst.print_all()"
   ]
  },
  {
   "cell_type": "code",
   "execution_count": 37,
   "metadata": {},
   "outputs": [
    {
     "name": "stdout",
     "output_type": "stream",
     "text": [
      "After deleting a middle element...\n",
      "a2\n",
      "a1\n",
      "a\n",
      "b\n",
      "z1\n",
      "z2\n",
      "\n",
      "After deleting the front and the end elements...\n",
      "a1\n",
      "a\n",
      "b\n",
      "z1\n"
     ]
    }
   ],
   "source": [
    "print(\"After deleting a middle element...\")\n",
    "lst.delete_key('c')\n",
    "lst.print_all()\n",
    "\n",
    "print(\"\\nAfter deleting the front and the end elements...\")\n",
    "lst.delete_key('a2')\n",
    "lst.delete_key('z2')\n",
    "lst.print_all()"
   ]
  },
  {
   "cell_type": "code",
   "execution_count": null,
   "metadata": {},
   "outputs": [],
   "source": []
  },
  {
   "cell_type": "code",
   "execution_count": null,
   "metadata": {},
   "outputs": [],
   "source": []
  }
 ],
 "metadata": {
  "kernelspec": {
   "display_name": "Python 3",
   "language": "python",
   "name": "python3"
  },
  "language_info": {
   "codemirror_mode": {
    "name": "ipython",
    "version": 3
   },
   "file_extension": ".py",
   "mimetype": "text/x-python",
   "name": "python",
   "nbconvert_exporter": "python",
   "pygments_lexer": "ipython3",
   "version": "3.7.6"
  }
 },
 "nbformat": 4,
 "nbformat_minor": 4
}
