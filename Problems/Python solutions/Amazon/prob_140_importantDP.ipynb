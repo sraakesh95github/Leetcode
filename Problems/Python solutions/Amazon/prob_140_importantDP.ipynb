{
 "cells": [
  {
   "cell_type": "code",
   "execution_count": 27,
   "metadata": {},
   "outputs": [],
   "source": [
    "## Word Break II\n",
    "class Solution:\n",
    "    def wordBreak(self, s, wordDict):\n",
    "        List = []\n",
    "        for letter in s:\n",
    "            self.wordBreakSub()\n",
    "            \n",
    "    def wordBreakSub(self, s, wordDict):\n",
    "        word = ''\n",
    "        if(s != ''):\n",
    "            for (index, letter) in enumerate(s):\n",
    "    #             print(letter)\n",
    "                word = word + letter\n",
    "                print(word)\n",
    "                if(word in wordDict):\n",
    "                    return word + ' ' + self.wordBreakSub(s[index+1:], wordDict)\n",
    "        else:\n",
    "            return ''"
   ]
  },
  {
   "cell_type": "code",
   "execution_count": 28,
   "metadata": {},
   "outputs": [
    {
     "name": "stdout",
     "output_type": "stream",
     "text": [
      "c\n",
      "ca\n",
      "cat\n",
      "s\n",
      "sa\n",
      "san\n",
      "sand\n",
      "d\n",
      "do\n",
      "dog\n",
      "cat sand dog  \n"
     ]
    }
   ],
   "source": [
    "s = \"catsanddog\"\n",
    "wordDict = [\"cat\", \"cats\", \"and\", \"sand\", \"dog\"]\n",
    "\n",
    "a = Solution()\n",
    "print(a.wordBreakSub(s, wordDict))"
   ]
  },
  {
   "cell_type": "markdown",
   "metadata": {},
   "source": [
    "## Dp solution from Leetcode"
   ]
  },
  {
   "cell_type": "code",
   "execution_count": 29,
   "metadata": {},
   "outputs": [],
   "source": [
    "class Solution:\n",
    "    def wordBreak(self, s, wordDict):\n",
    "        wordSet = set(wordDict)\n",
    "        print(wordSet)"
   ]
  },
  {
   "cell_type": "code",
   "execution_count": 31,
   "metadata": {},
   "outputs": [
    {
     "name": "stdout",
     "output_type": "stream",
     "text": [
      "{'dog', 'sand', 'and', 'cat', 'cats'}\n"
     ]
    }
   ],
   "source": [
    "dictionary = [\"cat\", \"cats\", \"and\", \"sand\", \"dog\"]\n",
    "s = 'catsanddog'\n",
    "\n",
    "a = Solution()\n",
    "a.wordBreak(s, dictionary)"
   ]
  },
  {
   "cell_type": "code",
   "execution_count": 35,
   "metadata": {},
   "outputs": [
    {
     "name": "stdout",
     "output_type": "stream",
     "text": [
      "['cat', 'sand', 'dog']\n"
     ]
    }
   ],
   "source": [
    "test = [\"cat\"] + [\"sand\"] + [\"dog\"]\n",
    "print(test)"
   ]
  },
  {
   "cell_type": "code",
   "execution_count": 36,
   "metadata": {},
   "outputs": [
    {
     "name": "stdout",
     "output_type": "stream",
     "text": [
      "cat cats and sand dog\n"
     ]
    }
   ],
   "source": [
    "print(\" \".join(dictionary))"
   ]
  },
  {
   "cell_type": "code",
   "execution_count": 37,
   "metadata": {},
   "outputs": [
    {
     "name": "stdout",
     "output_type": "stream",
     "text": [
      "[]\n"
     ]
    }
   ],
   "source": [
    "List = [[]]\n",
    "\n",
    "for i in List:\n",
    "    print(i)"
   ]
  },
  {
   "cell_type": "code",
   "execution_count": 5,
   "metadata": {},
   "outputs": [],
   "source": [
    "from collections import defaultdict\n",
    "\n",
    "class Solution:\n",
    "    def wordBreak(self, s, wordDict):\n",
    "        wordSet = set(wordDict)\n",
    "        memo = defaultdict(list)\n",
    "        \n",
    "        def _word_break(s):\n",
    "            \n",
    "            if not s:\n",
    "                return [[]]\n",
    "            \n",
    "            if s in memo:\n",
    "                return memo[s]\n",
    "            \n",
    "            for endIndex in range(1, len(s)+1):\n",
    "                word = s[:endIndex]\n",
    "                if(word in wordSet):\n",
    "                    for subsentence in _word_break(s[endIndex:]):\n",
    "                        memo[s].append([word] + subsentence)\n",
    "                        \n",
    "            return memo[s]\n",
    "        \n",
    "        intermediate_list = _word_break(s)\n",
    "        \n",
    "        final_list = [\" \".join(List) for List in intermediate_list]\n",
    "        \n",
    "        return final_list"
   ]
  },
  {
   "cell_type": "code",
   "execution_count": 6,
   "metadata": {},
   "outputs": [
    {
     "name": "stdout",
     "output_type": "stream",
     "text": [
      "['cat sand dog', 'cats and dog']\n"
     ]
    }
   ],
   "source": [
    "s = \"catsanddog\"\n",
    "wordDict = [\"cat\", \"cats\", \"and\", \"sand\", \"dog\"]\n",
    "\n",
    "a = Solution()\n",
    "print(a.wordBreak(s, wordDict))"
   ]
  },
  {
   "cell_type": "markdown",
   "metadata": {},
   "source": [
    "## Solution 2 - Memoization"
   ]
  },
  {
   "cell_type": "code",
   "execution_count": null,
   "metadata": {},
   "outputs": [],
   "source": []
  }
 ],
 "metadata": {
  "kernelspec": {
   "display_name": "Python 3",
   "language": "python",
   "name": "python3"
  },
  "language_info": {
   "codemirror_mode": {
    "name": "ipython",
    "version": 3
   },
   "file_extension": ".py",
   "mimetype": "text/x-python",
   "name": "python",
   "nbconvert_exporter": "python",
   "pygments_lexer": "ipython3",
   "version": "3.8.3"
  }
 },
 "nbformat": 4,
 "nbformat_minor": 4
}
