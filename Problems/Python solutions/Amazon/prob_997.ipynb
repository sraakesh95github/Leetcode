{
 "cells": [
  {
   "cell_type": "markdown",
   "metadata": {},
   "source": [
    "## Problem 997 "
   ]
  },
  {
   "cell_type": "code",
   "execution_count": 38,
   "metadata": {},
   "outputs": [],
   "source": [
    "import numpy as np\n",
    "\n",
    "class Solution:\n",
    "    def findJudge(self, N, trust):\n",
    "        trust_condition1_list = []\n",
    "        trust_condition2_dict = {}\n",
    "        if(N==1):\n",
    "            return 1\n",
    "        else:\n",
    "            for edg in trust:\n",
    "                if(edg[0] not in trust_condition1_list):\n",
    "                    trust_condition1_list.append(edg[0])\n",
    "                if(edg[1] not in trust_condition2_dict):\n",
    "                    trust_condition2_dict[edg[1]] = [edg[0]]\n",
    "                else:\n",
    "                    if(edg[0] not in trust_condition2_dict[edg[1]]):\n",
    "                        trust_condition2_dict[edg[1]].append(edg[0])\n",
    "        \n",
    "            for person in trust_condition2_dict:\n",
    "                if len(trust_condition2_dict[person]) == N-1 and person not in trust_condition1_list:\n",
    "                    return person\n",
    "\n",
    "            return -1"
   ]
  },
  {
   "cell_type": "code",
   "execution_count": 39,
   "metadata": {},
   "outputs": [
    {
     "name": "stdout",
     "output_type": "stream",
     "text": [
      "{3: [1, 2], 1: [3]}\n",
      "-1\n"
     ]
    }
   ],
   "source": [
    "sample =[[1,3],[2,3],[3,1]]\n",
    "\n",
    "a = Solution()\n",
    "print(a.findJudge(3, sample))"
   ]
  },
  {
   "cell_type": "code",
   "execution_count": 24,
   "metadata": {},
   "outputs": [
    {
     "name": "stdout",
     "output_type": "stream",
     "text": [
      "{'a': 'b', 'c': 'd'}\n"
     ]
    }
   ],
   "source": [
    "d = {'a': 'b'}\n",
    "d['c'] = 'd'\n",
    "print(d)"
   ]
  },
  {
   "cell_type": "code",
   "execution_count": null,
   "metadata": {},
   "outputs": [],
   "source": []
  }
 ],
 "metadata": {
  "kernelspec": {
   "display_name": "Python 3",
   "language": "python",
   "name": "python3"
  },
  "language_info": {
   "codemirror_mode": {
    "name": "ipython",
    "version": 3
   },
   "file_extension": ".py",
   "mimetype": "text/x-python",
   "name": "python",
   "nbconvert_exporter": "python",
   "pygments_lexer": "ipython3",
   "version": "3.8.3"
  }
 },
 "nbformat": 4,
 "nbformat_minor": 4
}
