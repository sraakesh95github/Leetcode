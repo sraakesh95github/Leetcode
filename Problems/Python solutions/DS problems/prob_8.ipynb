{
 "cells": [
  {
   "cell_type": "code",
   "execution_count": 189,
   "metadata": {},
   "outputs": [],
   "source": [
    "class Solution:\n",
    "    def myAtoi(self, s) -> int:\n",
    "        sign = 1\n",
    "        number_detect = False\n",
    "        zero_flag = False\n",
    "        result = 0\n",
    "        while(s):\n",
    "            if(number_detect == False):\n",
    "                if(s[:1] == ' '):\n",
    "                    pass\n",
    "                elif(s[:1] == '-'):\n",
    "                    if(zero_flag):\n",
    "                        return result\n",
    "                    sign = -1\n",
    "                    number_detect = True\n",
    "                elif(s[:1] == '+'):\n",
    "                    if(zero_flag):\n",
    "                        return result\n",
    "                    number_detect = True\n",
    "                elif((ord(s[:1]) - ord('0')) > 9 or (ord(s[:1]) - ord('0')) < 0):\n",
    "                    break\n",
    "                elif(s[:1] == '0'):\n",
    "                    zero_flag = True\n",
    "                    number_detect = True\n",
    "                else:\n",
    "                    result = result * 10 + (ord(s[:1]) - ord('0'))\n",
    "                    number_detect = True\n",
    "            else:\n",
    "                if((ord(s[:1]) - ord('0')) > 9 or (ord(s[:1]) - ord('0')) < 0):\n",
    "                    break\n",
    "                else:\n",
    "                    result = result * 10 + (ord(s[:1]) - ord('0'))\n",
    "            s = s[1:]\n",
    "        result = result * sign\n",
    "        if(result < 0):\n",
    "            if(result < -pow(2, 31)):\n",
    "                return -pow(2, 31)\n",
    "            else:\n",
    "                return result\n",
    "        else:\n",
    "            if(result > pow(2, 31)-1):\n",
    "                return pow(2, 31)-1\n",
    "            else:\n",
    "                return result"
   ]
  },
  {
   "cell_type": "code",
   "execution_count": 190,
   "metadata": {},
   "outputs": [
    {
     "name": "stdout",
     "output_type": "stream",
     "text": [
      "0\n"
     ]
    }
   ],
   "source": [
    "a = Solution()\n",
    "\n",
    "# test = '-123'\n",
    "# test = '23400'\n",
    "# test = '  -345234234234'\n",
    "# test = '345234234234'\n",
    "# test = \"4193 with words\"\n",
    "# test = \"words and 987\"\n",
    "# test = \"      -42\"\n",
    "# test = \"3.142\"\n",
    "# test = \"+23\"\n",
    "# test = \"+-23\"\n",
    "# test = \"-+123\"\n",
    "# test = \"00000-42a1234\"\n",
    "# test = \"  -42a234\"\n",
    "# test = \"  -000042a234\"\n",
    "# test = \"0000-042sd434\"\n",
    "# test = \"   +0 123\"\n",
    "test = \"0 123\"\n",
    "\n",
    "print(a.myAtoi(test))"
   ]
  },
  {
   "cell_type": "code",
   "execution_count": 40,
   "metadata": {},
   "outputs": [
    {
     "name": "stdout",
     "output_type": "stream",
     "text": [
      "1\n"
     ]
    }
   ],
   "source": [
    "print(ord('b') - ord('a'))"
   ]
  },
  {
   "cell_type": "code",
   "execution_count": 19,
   "metadata": {},
   "outputs": [
    {
     "name": "stdout",
     "output_type": "stream",
     "text": [
      "2147483648\n"
     ]
    }
   ],
   "source": [
    "print(pow(2, 31)-1)"
   ]
  },
  {
   "cell_type": "code",
   "execution_count": 120,
   "metadata": {},
   "outputs": [],
   "source": [
    "# Python discussion solution\n"
   ]
  },
  {
   "cell_type": "code",
   "execution_count": null,
   "metadata": {},
   "outputs": [],
   "source": []
  }
 ],
 "metadata": {
  "kernelspec": {
   "display_name": "Python 3",
   "language": "python",
   "name": "python3"
  },
  "language_info": {
   "codemirror_mode": {
    "name": "ipython",
    "version": 3
   },
   "file_extension": ".py",
   "mimetype": "text/x-python",
   "name": "python",
   "nbconvert_exporter": "python",
   "pygments_lexer": "ipython3",
   "version": "3.8.3"
  }
 },
 "nbformat": 4,
 "nbformat_minor": 4
}
