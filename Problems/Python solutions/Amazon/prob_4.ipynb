{
 "cells": [
  {
   "cell_type": "markdown",
   "metadata": {},
   "source": [
    "## Median of 2 sorted arrays"
   ]
  },
  {
   "cell_type": "markdown",
   "metadata": {},
   "source": [
    "### Brute Force"
   ]
  },
  {
   "cell_type": "code",
   "execution_count": 32,
   "metadata": {},
   "outputs": [],
   "source": [
    "import numpy as np\n",
    "\n",
    "class Solution:\n",
    "    def findMedianSortedArrays(self, nums1, nums2):\n",
    "        nums1.extend(nums2)\n",
    "        median = 0\n",
    "        nums1.sort()\n",
    "        print(nums1)\n",
    "        length = int(np.floor(len(nums1)/2))\n",
    "        print(length)\n",
    "        if(len(nums1)%2 == 0):\n",
    "            median = (nums1[length-1] + nums1[length]) / 2\n",
    "        else:\n",
    "            median = nums1[length]\n",
    "            \n",
    "        return median"
   ]
  },
  {
   "cell_type": "code",
   "execution_count": 34,
   "metadata": {},
   "outputs": [
    {
     "name": "stdout",
     "output_type": "stream",
     "text": [
      "[1, 2, 3, 5]\n",
      "2\n"
     ]
    },
    {
     "data": {
      "text/plain": [
       "2.5"
      ]
     },
     "execution_count": 34,
     "metadata": {},
     "output_type": "execute_result"
    }
   ],
   "source": [
    "a = Solution()\n",
    "num1 = [1, 3]\n",
    "num2 = [2, 5]\n",
    "a.findMedianSortedArrays(num1, num2)"
   ]
  },
  {
   "cell_type": "markdown",
   "metadata": {},
   "source": [
    "## Binary Search"
   ]
  },
  {
   "cell_type": "code",
   "execution_count": 21,
   "metadata": {},
   "outputs": [],
   "source": [
    "def binary_search_inner(lst, start, end, ele):\n",
    "    i = int((start + end) / 2)\n",
    "    if(lst[i] == ele):\n",
    "        return i\n",
    "    else:\n",
    "        if(lst[i] < ele):\n",
    "            if(start <= end):\n",
    "                start = i + 1\n",
    "                return binary_search_inner(lst, start, end, ele)\n",
    "            else:\n",
    "                return -1\n",
    "        else:\n",
    "            if(start <= end):\n",
    "                end = i - 1\n",
    "                return binary_search_inner(lst, start, end, ele)\n",
    "            else:\n",
    "                return -1\n",
    "            \n",
    "def binary_search(lst, ele):\n",
    "    print(binary_search_inner(lst, 0, len(lst)-1, ele))"
   ]
  },
  {
   "cell_type": "code",
   "execution_count": 22,
   "metadata": {},
   "outputs": [
    {
     "name": "stdout",
     "output_type": "stream",
     "text": [
      "1\n"
     ]
    }
   ],
   "source": [
    "lst = [4, 6, 7, 9, 10, 23, 45, 67]\n",
    "# print(binary_search(lst, 6))\n",
    "binary_search(lst, 6)"
   ]
  },
  {
   "cell_type": "markdown",
   "metadata": {},
   "source": [
    "## Leetcode Solution (Timing: O(log(m+n)))"
   ]
  },
  {
   "cell_type": "code",
   "execution_count": 55,
   "metadata": {},
   "outputs": [],
   "source": [
    "import numpy as np\n",
    "\n",
    "class Solution:\n",
    "    def findMedianSortedArrays(self, nums1, nums2):\n",
    "        if(len(nums1) == 0):\n",
    "            index = int(len(nums2) / 2)\n",
    "            if(len(nums2)%2 == 0):\n",
    "                return (nums2[index-1] + nums2[index]) / 2\n",
    "            else:\n",
    "                return nums2[index]\n",
    "        if(len(nums2) == 0):\n",
    "            index = int(len(nums1) / 2)\n",
    "            if(len(nums1)%2 == 0):\n",
    "                return (nums1[index-1] + nums1[index]) / 2\n",
    "            else:\n",
    "                return nums1[index]\n",
    "        if(len(nums1) > len(nums2)):\n",
    "            m = len(nums2)\n",
    "            n = len(nums1)\n",
    "            return self.binary_search_inner(nums2, nums1, 0, m, m, n)\n",
    "        else:\n",
    "            m = len(nums1)\n",
    "            n = len(nums2)\n",
    "            return self.binary_search_inner(nums1, nums2, 0, m, m, n)\n",
    "            \n",
    "            \n",
    "    def binary_search_inner(self, A, B, start, end, m, n):\n",
    "        i = int((start + end) / 2)\n",
    "        j = int(np.floor((m+n+1) / 2) - i)\n",
    "        condition1 = True\n",
    "        condition2 = True\n",
    "        condition3 = False\n",
    "        condition4 = False\n",
    "    \n",
    "#         print(\"i: \" + str(i))\n",
    "#         print(\"j: \" + str(j))\n",
    "        \n",
    "        if(j>=n or i>=m):\n",
    "            if(j>=n):\n",
    "#                 print(\"Entered base B[j-1] <= A[i]...\")\n",
    "                min_val = A[i]\n",
    "                if(B[j-1] > A[i]):\n",
    "                    condition2 = False\n",
    "            if(i>=m):\n",
    "                min_val = B[j]\n",
    "                if(A[i-1] > B[j]):\n",
    "#                     print(\"Entered case A[i-1] > B[j]...\")\n",
    "                    condition1 = False\n",
    "        else:\n",
    "            min_val = min(A[i], B[j])\n",
    "            \n",
    "        if(i<=0 or j<=0):\n",
    "            if(i<=0):\n",
    "                condition3 = True\n",
    "                max_val = B[j-1]\n",
    "            if(j<=0):\n",
    "                condition4 = True\n",
    "                max_val = A[i-1]\n",
    "        else:\n",
    "            max_val = max(A[i-1], B[j-1])\n",
    "            \n",
    "#         print(\"Min val: \" + str(min_val))\n",
    "#         print(\"Max val: \" + str(max_val))\n",
    "        \n",
    "        if(condition1 and condition2):\n",
    "            if(i>0):\n",
    "                if(A[i-1] <= B[j]):\n",
    "                    condition3 = True\n",
    "            if(j>0):\n",
    "                if(B[j-1] <= A[i-1]):\n",
    "                    condition4 = True\n",
    "            if(condition3 and condition4):\n",
    "                if(((m+n)%2) == 0):\n",
    "                    return (max_val + min_val) / 2\n",
    "                else:\n",
    "                    return max_val\n",
    "                \n",
    "            else:\n",
    "                if(not(condition1)):\n",
    "                    print(\"Entered the decrement case...\")\n",
    "                    end = i - 1\n",
    "                    return self.binary_search_inner(A, B, start, end, m, n)\n",
    "\n",
    "                else:\n",
    "                    print(\"Entered the increment case...\")\n",
    "                    start = i + 1\n",
    "                    return self.binary_search_inner(A, B, start, end, m, n)\n",
    "            \n",
    "        else:\n",
    "            if(not(condition1)):\n",
    "                print(\"Entered the decrement case...\")\n",
    "                end = i - 1\n",
    "                return self.binary_search_inner(A, B, start, end, m, n)\n",
    "\n",
    "            else:\n",
    "                print(\"Entered the increment case...\")\n",
    "                start = i + 1\n",
    "                return self.binary_search_inner(A, B, start, end, m, n)"
   ]
  },
  {
   "cell_type": "code",
   "execution_count": 59,
   "metadata": {},
   "outputs": [
    {
     "name": "stdout",
     "output_type": "stream",
     "text": [
      "i: 1\n",
      "j: 4\n",
      "Entered the increment case...\n",
      "i: 2\n",
      "j: 3\n",
      "7.5\n"
     ]
    }
   ],
   "source": [
    "a = Solution()\n",
    "lst1 = [1, 3, 5, 9, 10, 11, 12] # i\n",
    "lst2 = [2, 7, 8] # j\n",
    "print(a.findMedianSortedArrays(lst1, lst2))"
   ]
  },
  {
   "cell_type": "markdown",
   "metadata": {},
   "source": [
    "## Solution by keetcode"
   ]
  },
  {
   "cell_type": "code",
   "execution_count": 33,
   "metadata": {},
   "outputs": [],
   "source": [
    "class Solution:\n",
    "    def findMedianSortedArrays(self, nums1, nums2):\n",
    "        m, n = len(nums1), len(nums2)\n",
    "        A, B = nums1, nums2\n",
    "        if(m > n):\n",
    "            A, B, m, n = B, A, n, m\n",
    "        if(n == 0):\n",
    "            return ValueError\n",
    "        \n",
    "        imin = 0\n",
    "        imax = m\n",
    "        print(\"m: \" + str(m))\n",
    "        half_length = int((m+n+1) / 2) \n",
    "        print(half_length)\n",
    "        \n",
    "        while(imin <= imax):\n",
    "            i = int((imin + imax) / 2)\n",
    "            print(\"i: \" + str(i))\n",
    "            j = half_length - i\n",
    "            print(\"j: \" + str(j))\n",
    "            \n",
    "            if(i<m and B[j-1]>A[i]):\n",
    "                imin=imin+1\n",
    "            elif(i>0 and A[i-1]>B[j]):\n",
    "                imax=imax-1\n",
    "            else:  \n",
    "                if(i==0):\n",
    "                    max_left = B[j-1]\n",
    "                elif(j==0):\n",
    "                    max_left = A[i-1]\n",
    "                else:\n",
    "                    max_left = max(A[i-1], B[j-1])\n",
    "\n",
    "                if((m+n)%2 == 1):\n",
    "                    print(\"Entered odd case...\")\n",
    "                    return max_left\n",
    "\n",
    "                if(i==m):\n",
    "                    min_right = B[j]\n",
    "                elif(j==n):\n",
    "                    min_right = A[i]\n",
    "                else:\n",
    "                    min_right = min(A[i], B[j])\n",
    "\n",
    "                print(\"Max left: \" + str(max_left))\n",
    "                print(\"Min right: \" + str(min_right))\n",
    "                return (max_left + min_right) / 2"
   ]
  },
  {
   "cell_type": "code",
   "execution_count": 40,
   "metadata": {},
   "outputs": [
    {
     "name": "stdout",
     "output_type": "stream",
     "text": [
      "m: 0\n",
      "1\n",
      "i: 0\n",
      "j: 1\n",
      "Max left: 1\n",
      "Min right: 5\n",
      "3.0\n"
     ]
    }
   ],
   "source": [
    "a = Solution()\n",
    "lst2 = [1, 5] # i\n",
    "lst1 = [] # j\n",
    "print(a.findMedianSortedArrays(lst1, lst2))"
   ]
  },
  {
   "cell_type": "code",
   "execution_count": null,
   "metadata": {},
   "outputs": [],
   "source": []
  }
 ],
 "metadata": {
  "kernelspec": {
   "display_name": "Python 3",
   "language": "python",
   "name": "python3"
  },
  "language_info": {
   "codemirror_mode": {
    "name": "ipython",
    "version": 3
   },
   "file_extension": ".py",
   "mimetype": "text/x-python",
   "name": "python",
   "nbconvert_exporter": "python",
   "pygments_lexer": "ipython3",
   "version": "3.8.3"
  }
 },
 "nbformat": 4,
 "nbformat_minor": 4
}
