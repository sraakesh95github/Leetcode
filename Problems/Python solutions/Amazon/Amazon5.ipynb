{
 "cells": [
  {
   "cell_type": "markdown",
   "metadata": {},
   "source": [
    "## Amazon Question\n",
    "### (Valid anagram ; Group shifted strings)"
   ]
  },
  {
   "cell_type": "markdown",
   "metadata": {},
   "source": [
    "### Problem Statement:\n",
    "Given an array of strings, group anagrams together.\n",
    "\n",
    "Example:\n",
    "\n",
    "Input: [\"eat\", \"tea\", \"tan\", \"ate\", \"nat\", \"bat\"],\n",
    "Output:\n",
    "[\n",
    "  [\"ate\",\"eat\",\"tea\"],\n",
    "  [\"nat\",\"tan\"],\n",
    "  [\"bat\"]\n",
    "]\n",
    "Note:\n",
    "\n",
    "All inputs will be in lowercase.\n",
    "The order of your output does not matter."
   ]
  },
  {
   "cell_type": "markdown",
   "metadata": {},
   "source": [
    "#### Brute Force Method\n",
    "##### Time complexity: O(n)\n",
    "##### Space complexity: O(n)"
   ]
  },
  {
   "cell_type": "code",
   "execution_count": 84,
   "metadata": {},
   "outputs": [],
   "source": [
    "class Solution:\n",
    "    def groupAnagrams(self, strs):\n",
    "        anagram_count = []\n",
    "        anagram_strings = []\n",
    "        if(len(strs) != 0):\n",
    "            for string in strs:\n",
    "                temp_count = Counter(string)\n",
    "                if(len(anagram_count) == 0):\n",
    "                    anagram_count.append(temp_count)\n",
    "                    anagram_strings.append([string])\n",
    "                else:\n",
    "                    for i in range(len(anagram_count)):\n",
    "                        if(temp_count == anagram_count[i]):\n",
    "                            if(len(anagram_count) > len(anagram_strings)):\n",
    "                                anagram_strings.append([string])\n",
    "                            else:\n",
    "                                anagram_strings[i].append(string)\n",
    "                            break\n",
    "\n",
    "                        # Check for the last anagram counter, if thats not\n",
    "                        # equal, then append to the existing list as a new \n",
    "                        # Counter object\n",
    "                        # Also, add that particular string to the existing \n",
    "                        # set of strings or create a new list\n",
    "                        elif(i == (len(anagram_count)-1)):\n",
    "                            anagram_count.append(temp_count)\n",
    "                            if(len(anagram_count) > len(anagram_strings)):\n",
    "                                anagram_strings.append([string])\n",
    "                            else:\n",
    "                                anagram_strings[i].append(string)\n",
    "        \n",
    "        return anagram_strings"
   ]
  },
  {
   "cell_type": "code",
   "execution_count": 85,
   "metadata": {},
   "outputs": [
    {
     "name": "stdout",
     "output_type": "stream",
     "text": [
      "[['eat', 'tea', 'ate'], ['tan', 'nat'], ['bat']]\n"
     ]
    }
   ],
   "source": [
    "strs = [\"eat\",\"tea\",\"tan\",\"ate\",\"nat\",\"bat\"]\n",
    "a = Solution()\n",
    "print(a.groupAnagrams(strs))"
   ]
  },
  {
   "cell_type": "markdown",
   "metadata": {},
   "source": [
    "#### Approach 1: Categorize by Sorted String\n",
    "Intuition\n",
    "\n",
    "Two strings are anagrams if and only if their sorted strings are equal.\n",
    "\n",
    "Algorithm\n",
    "\n",
    "Maintain a map ans : {String -> List} where each key \\text{K}K is a sorted string, and each value is the list of strings from the initial input that when sorted, are equal to \\text{K}K.\n",
    "\n",
    "In Java, we will store the key as a string, eg. code. In Python, we will store the key as a hashable tuple, eg. ('c', 'o', 'd', 'e').\n",
    "\n",
    "##### Time complexity: O(NKlogK)\n",
    "##### Space complexity: O(NK)\n",
    "##### where N = number of strings <br> K = length of strings"
   ]
  },
  {
   "cell_type": "code",
   "execution_count": 88,
   "metadata": {},
   "outputs": [],
   "source": [
    "from collections import defaultdict\n",
    "\n",
    "class Solution:\n",
    "    def groupAnagrams(self, strs):\n",
    "        hash_t = defaultdict(list)\n",
    "        for s in strs:\n",
    "            hash_t[tuple(sorted(s))].append(s)\n",
    "        return hash_t.values()"
   ]
  },
  {
   "cell_type": "code",
   "execution_count": 89,
   "metadata": {},
   "outputs": [
    {
     "name": "stdout",
     "output_type": "stream",
     "text": [
      "dict_values([['eat', 'tea', 'ate'], ['tan', 'nat'], ['bat']])\n"
     ]
    }
   ],
   "source": [
    "strs = [\"eat\",\"tea\",\"tan\",\"ate\",\"nat\",\"bat\"]\n",
    "a = Solution()\n",
    "print(a.groupAnagrams(strs))"
   ]
  },
  {
   "cell_type": "code",
   "execution_count": null,
   "metadata": {},
   "outputs": [],
   "source": []
  }
 ],
 "metadata": {
  "kernelspec": {
   "display_name": "Python 3",
   "language": "python",
   "name": "python3"
  },
  "language_info": {
   "codemirror_mode": {
    "name": "ipython",
    "version": 3
   },
   "file_extension": ".py",
   "mimetype": "text/x-python",
   "name": "python",
   "nbconvert_exporter": "python",
   "pygments_lexer": "ipython3",
   "version": "3.8.3"
  }
 },
 "nbformat": 4,
 "nbformat_minor": 4
}
