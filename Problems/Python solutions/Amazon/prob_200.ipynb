{
 "cells": [
  {
   "cell_type": "markdown",
   "metadata": {},
   "source": [
    "## Number of Islands"
   ]
  },
  {
   "cell_type": "markdown",
   "metadata": {},
   "source": [
    "## Using DFS"
   ]
  },
  {
   "cell_type": "code",
   "execution_count": 59,
   "metadata": {},
   "outputs": [],
   "source": [
    "class Solution:\n",
    "    def numIslands(self, grid):\n",
    "        count = 0\n",
    "        grid = self.padding(grid)\n",
    "        for i in range(len(grid)):\n",
    "            for j in range(len(grid[0])):\n",
    "                if(grid[i][j] == \"1\"):\n",
    "                    count = count + self.kernel(grid, (i, j))\n",
    "        return count\n",
    "\n",
    "    def kernel(self, canvas, start):\n",
    "        x = start[1] # Column-wise\n",
    "        y = start[0] # Row-wise\n",
    "        if(canvas[y][x-1] == \"0\"):\n",
    "            canvas[y][x] = \"0\"\n",
    "            if(x < len(canvas[0])):\n",
    "                if(canvas[y][x+1]== \"1\"):\n",
    "                    self.kernel(canvas, (y, x+1))\n",
    "            if(y < len(canvas)):\n",
    "                if(canvas[y+1][x] == \"1\"):\n",
    "                    self.kernel(canvas, (y+1, x))\n",
    "            if(y > 0):\n",
    "                if(canvas[y-1][x] == \"1\"):\n",
    "                    self.kernel(canvas, (y-1, x))\n",
    "            if(canvas[y+1][x] == \"0\" and canvas[y][x+1] == \"0\" and canvas[y-1][x] == \"0\"):\n",
    "                return 1\n",
    "\n",
    "        else:\n",
    "            self.kernel(canvas, (y, x-1))\n",
    "\n",
    "    def padding(self, canvas):\n",
    "        pad_canvas = []\n",
    "        for row in canvas:\n",
    "            pad_canvas.append([\"0\"] + row + [\"0\"])\n",
    "        vertical_pad = [\"0\" for i in range(len(pad_canvas[0]))]\n",
    "        pad_canvas = [vertical_pad] + pad_canvas + [vertical_pad]\n",
    "        return pad_canvas"
   ]
  },
  {
   "cell_type": "code",
   "execution_count": 60,
   "metadata": {},
   "outputs": [
    {
     "name": "stdout",
     "output_type": "stream",
     "text": [
      "1\n"
     ]
    }
   ],
   "source": [
    "List = [[\"1\",\"0\",\"1\",\"1\",\"1\"],[\"1\",\"0\",\"1\",\"0\",\"1\"],[\"1\",\"1\",\"1\",\"0\",\"1\"]]\n",
    "\n",
    "a = Solution()\n",
    "print(a.numIslands(List))"
   ]
  },
  {
   "cell_type": "code",
   "execution_count": null,
   "metadata": {},
   "outputs": [],
   "source": []
  }
 ],
 "metadata": {
  "kernelspec": {
   "display_name": "Python 3",
   "language": "python",
   "name": "python3"
  },
  "language_info": {
   "codemirror_mode": {
    "name": "ipython",
    "version": 3
   },
   "file_extension": ".py",
   "mimetype": "text/x-python",
   "name": "python",
   "nbconvert_exporter": "python",
   "pygments_lexer": "ipython3",
   "version": "3.8.3"
  }
 },
 "nbformat": 4,
 "nbformat_minor": 4
}
