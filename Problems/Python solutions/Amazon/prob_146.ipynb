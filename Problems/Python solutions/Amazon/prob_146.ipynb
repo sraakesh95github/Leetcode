{
 "cells": [
  {
   "cell_type": "code",
   "execution_count": 23,
   "metadata": {},
   "outputs": [],
   "source": [
    "from queue import Queue \n",
    "\n",
    "class LRUCache:\n",
    "    \n",
    "    def __init__(self, capacity):\n",
    "        self.capacity = capacity\n",
    "        self.lruQueue = []\n",
    "        self.Dict = {}\n",
    "        \n",
    "    def get(self, key):\n",
    "        if(key in self.Dict):\n",
    "            self.lruQueue.remove(key)\n",
    "            self.lruQueue.insert(0, key)\n",
    "#             print(self.Dict)\n",
    "            return self.Dict[key]\n",
    "        else:\n",
    "            return -1\n",
    "        \n",
    "    def put(self, key, value):\n",
    "        if(key in self.Dict):\n",
    "            self.Dict[key] = value\n",
    "            self.lruQueue.remove(key)\n",
    "            self.lruQueue.insert(0, key)\n",
    "        else:\n",
    "            if(len(self.Dict) == self.capacity):\n",
    "                lruKey = self.lruQueue.pop()\n",
    "                self.lruQueue.insert(0, key)\n",
    "                del self.Dict[lruKey]\n",
    "                self.Dict[key] = value\n",
    "#                 print(self.Dict)\n",
    "            else:\n",
    "                self.Dict[key] = value\n",
    "                self.lruQueue.insert(0, key)"
   ]
  },
  {
   "cell_type": "code",
   "execution_count": 25,
   "metadata": {},
   "outputs": [
    {
     "name": "stdout",
     "output_type": "stream",
     "text": [
      "{'c': 3, 'b': 2, 'a': 9}\n",
      "{'b': 2, 'a': 9, 'd': 5}\n",
      "{'b': 2, 'd': 5, 'e': 7}\n",
      "{'b': 2, 'd': 5, 'e': 7}\n"
     ]
    },
    {
     "data": {
      "text/plain": [
       "7"
      ]
     },
     "execution_count": 25,
     "metadata": {},
     "output_type": "execute_result"
    }
   ],
   "source": [
    "l = LRUCache(3)\n",
    "l.put('c', 3)\n",
    "l.put('b', 2)\n",
    "l.put('a', 9)\n",
    "l.get('b')\n",
    "l.put('d', 5)\n",
    "l.get('c')\n",
    "l.put('e', 7)\n",
    "l.get('e')"
   ]
  },
  {
   "cell_type": "code",
   "execution_count": 2,
   "metadata": {},
   "outputs": [
    {
     "name": "stdout",
     "output_type": "stream",
     "text": [
      "{'name': 'Raakesh'}\n"
     ]
    }
   ],
   "source": [
    "a = {}\n",
    "a['name'] = \"Raakesh\"\n",
    "\n",
    "print(a)"
   ]
  },
  {
   "cell_type": "code",
   "execution_count": 3,
   "metadata": {},
   "outputs": [
    {
     "name": "stdout",
     "output_type": "stream",
     "text": [
      "a\n"
     ]
    }
   ],
   "source": [
    "from queue import Queue\n",
    "\n",
    "q = Queue()\n",
    "q.put('a')\n",
    "q.put('b')\n",
    "print(q.get())"
   ]
  },
  {
   "cell_type": "code",
   "execution_count": 5,
   "metadata": {},
   "outputs": [
    {
     "name": "stdout",
     "output_type": "stream",
     "text": [
      "{'name': 'Raakesh'}\n"
     ]
    }
   ],
   "source": [
    "a = 'name'\n",
    "b='Raakesh'\n",
    "my_dict = {}\n",
    "my_dict[a] = b\n",
    "print(my_dict)"
   ]
  },
  {
   "cell_type": "code",
   "execution_count": 26,
   "metadata": {},
   "outputs": [
    {
     "name": "stdout",
     "output_type": "stream",
     "text": [
      "[2, 5, 7, 8, 9]\n",
      "9\n"
     ]
    }
   ],
   "source": [
    "List = [2, 5, 7, 8]\n",
    "List.append(9)\n",
    "print(List)\n",
    "print(List.pop())"
   ]
  },
  {
   "cell_type": "code",
   "execution_count": null,
   "metadata": {},
   "outputs": [],
   "source": []
  }
 ],
 "metadata": {
  "kernelspec": {
   "display_name": "Python 3",
   "language": "python",
   "name": "python3"
  },
  "language_info": {
   "codemirror_mode": {
    "name": "ipython",
    "version": 3
   },
   "file_extension": ".py",
   "mimetype": "text/x-python",
   "name": "python",
   "nbconvert_exporter": "python",
   "pygments_lexer": "ipython3",
   "version": "3.8.3"
  }
 },
 "nbformat": 4,
 "nbformat_minor": 4
}
