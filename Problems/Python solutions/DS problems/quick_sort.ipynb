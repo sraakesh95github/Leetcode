{
 "cells": [
  {
   "cell_type": "markdown",
   "metadata": {},
   "source": [
    "## Quick Sort"
   ]
  },
  {
   "cell_type": "markdown",
   "metadata": {},
   "source": [
    "### My Implementation"
   ]
  },
  {
   "cell_type": "code",
   "execution_count": 5,
   "metadata": {},
   "outputs": [],
   "source": [
    "def partition(lst, low, high):\n",
    "    \n",
    "    pivot = low\n",
    "    \n",
    "    i = low + 1\n",
    "    j = high\n",
    "    \n",
    "    CONST_HIGH = 99999999\n",
    "    \n",
    "    lst.append(CONST_HIGH)\n",
    "    print(lst)\n",
    "    \n",
    "    while(i <= j):\n",
    "        \n",
    "        # Check if the ith element is greater than the pivot\n",
    "        while(lst[i] < lst[pivot] and i < len(lst)):\n",
    "            i+=1\n",
    "        \n",
    "        # Check if jth element is less than the pivot\n",
    "        while(lst[j] > lst[pivot] and j > 0):\n",
    "            j-=1\n",
    "        \n",
    "        # Swap the numbers\n",
    "        if(i < j):\n",
    "            lst[i], lst[j] = lst[j], lst[i]\n",
    "    \n",
    "    lst[pivot], lst[j] = lst[j], lst[pivot]\n",
    "    lst.remove(CONST_HIGH)\n",
    "    return j, lst\n",
    "\n",
    "\n",
    "def quick_sort(lst, low, high):\n",
    "    \n",
    "    if(low < high):\n",
    "        \n",
    "        j, lst = partition(lst, low, high)\n",
    "        print(lst)\n",
    "        quick_sort(lst, low, j-1)\n",
    "        quick_sort(lst, j+1, high)\n",
    "        \n",
    "    else:\n",
    "        \n",
    "        return lst"
   ]
  },
  {
   "cell_type": "code",
   "execution_count": 6,
   "metadata": {},
   "outputs": [
    {
     "name": "stdout",
     "output_type": "stream",
     "text": [
      "Test\n",
      "[5, 3, 8, 2, 1, 10, 4, 99999999]\n",
      "[1, 3, 4, 2, 5, 10, 8]\n",
      "[1, 3, 4, 2, 5, 10, 8, 99999999]\n",
      "[1, 3, 4, 2, 5, 10, 8]\n",
      "[1, 3, 4, 2, 5, 10, 8, 99999999]\n",
      "[1, 2, 3, 4, 5, 10, 8]\n",
      "[1, 2, 3, 4, 5, 10, 8, 99999999]\n",
      "[1, 2, 3, 4, 5, 8, 10]\n",
      "None\n"
     ]
    }
   ],
   "source": [
    "list1 = [5, 3, 8, 2, 1, 10, 4]\n",
    "print(\"Test\")\n",
    "print(quick_sort(list1, 0, len(list1)))"
   ]
  },
  {
   "cell_type": "code",
   "execution_count": null,
   "metadata": {},
   "outputs": [],
   "source": []
  },
  {
   "cell_type": "code",
   "execution_count": null,
   "metadata": {},
   "outputs": [],
   "source": []
  }
 ],
 "metadata": {
  "kernelspec": {
   "display_name": "Python 3",
   "language": "python",
   "name": "python3"
  },
  "language_info": {
   "codemirror_mode": {
    "name": "ipython",
    "version": 3
   },
   "file_extension": ".py",
   "mimetype": "text/x-python",
   "name": "python",
   "nbconvert_exporter": "python",
   "pygments_lexer": "ipython3",
   "version": "3.7.6"
  }
 },
 "nbformat": 4,
 "nbformat_minor": 4
}
