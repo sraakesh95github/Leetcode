{
 "cells": [
  {
   "cell_type": "code",
   "execution_count": 78,
   "metadata": {},
   "outputs": [],
   "source": [
    "# Definition for singly-linked list.\n",
    "class ListNode:\n",
    "    def __init__(self, val=0, next=None):\n",
    "        self.val = val\n",
    "        self.next = next\n",
    "    \n",
    "class Solution:\n",
    "    def addTwoNumbers(self, l1, l2):\n",
    "        \n",
    "        # Perform the addition until the last before element\n",
    "        l_sum = ListNode(0)\n",
    "        l_temp = l_sum\n",
    "        carry=0\n",
    "        while(l1.next is not None and l2.next is not None):\n",
    "            l_temp.val = int((l1.val + l2.val + carry) % 10)\n",
    "            l_temp.next = ListNode(0)\n",
    "            l_temp = l_temp.next\n",
    "            carry = (l1.val + l2.val + carry) // 10\n",
    "            l1 = l1.next\n",
    "            l2 = l2.next\n",
    "            \n",
    "        # Calculation for the last digits\n",
    "        l_temp.val = (l1.val + l2.val + carry) % 10\n",
    "        carry = (l1.val + l2.val + carry) // 10\n",
    "        \n",
    "        if(carry!=0):\n",
    "            l_temp.next = ListNode(1)\n",
    "        \n",
    "        if(l1.next is not None or l2.next is not None):\n",
    "            # Case where the number of digits are not the same\n",
    "            if(l1.next is None):\n",
    "                while(l2.next is not None):\n",
    "                    l_temp.next = ListNode((l2.next.val + carry)%10)\n",
    "                    if((l2.next.val + carry) != 10):\n",
    "                        carry = 0\n",
    "                    else:\n",
    "                        carry = 1\n",
    "                    l2 = l2.next\n",
    "                    l_temp=l_temp.next\n",
    "                if(carry == 1):\n",
    "                    l_temp.next = ListNode(1)\n",
    "    \n",
    "            elif(l2.next is None):\n",
    "                while(l1.next is not None):\n",
    "                    l_temp.next = ListNode((l1.next.val + carry)%10)\n",
    "                    if((l1.next.val + carry) != 10):\n",
    "                        carry = 0\n",
    "                    else:\n",
    "                        carry = 1\n",
    "                    l1 = l1.next\n",
    "                    l_temp = l_temp.next\n",
    "                if(carry == 1):\n",
    "                    l_temp.next = ListNode(1)\n",
    "            \n",
    "        return l_sum"
   ]
  },
  {
   "cell_type": "code",
   "execution_count": 79,
   "metadata": {},
   "outputs": [
    {
     "name": "stdout",
     "output_type": "stream",
     "text": [
      "2899998999\n",
      "812\n"
     ]
    }
   ],
   "source": [
    "def build_a_num_from_list(lst):\n",
    "    head = ListNode(lst[0])\n",
    "    temp = head\n",
    "    for i in lst[1:]:\n",
    "        temp.next = ListNode(i)\n",
    "        temp = temp.next\n",
    "    return head\n",
    "\n",
    "def disp_ll(linked_list):\n",
    "    while(linked_list.next is not None):\n",
    "        print(linked_list.val, end=\"\")\n",
    "        linked_list = linked_list.next\n",
    "    print(str(linked_list.val) + \"\\n\", end=\"\")\n",
    "\n",
    "lst1 = [2,8,9,9,9,9,8,9,9,9]\n",
    "lst2 = [8,1,2]\n",
    "\n",
    "ll1 = build_a_num_from_list(lst1)\n",
    "ll2 = build_a_num_from_list(lst2)\n",
    "\n",
    "disp_ll(ll1)\n",
    "disp_ll(ll2)"
   ]
  },
  {
   "cell_type": "code",
   "execution_count": 80,
   "metadata": {},
   "outputs": [
    {
     "name": "stdout",
     "output_type": "stream",
     "text": [
      "Entered l2 condition...\n",
      "0\n",
      "0\n",
      "2\n",
      "0\n",
      "0\n",
      "0\n",
      "9\n",
      "9\n",
      "9\n",
      "9\n"
     ]
    }
   ],
   "source": [
    "# l1 = ListNode(2)\n",
    "# l1.next = ListNode(8)\n",
    "# l1.next.next = ListNode(9)\n",
    "\n",
    "# l2 = ListNode(9)\n",
    "# l2.next = ListNode(2)\n",
    "# l2.next.next = ListNode(6)\n",
    "\n",
    "a = Solution()\n",
    "l3 = a.addTwoNumbers(ll1, ll2)\n",
    "while(l3.next is not None):\n",
    "    print(l3.val)\n",
    "    l3=l3.next\n",
    "print(l3.val)"
   ]
  },
  {
   "cell_type": "markdown",
   "metadata": {},
   "source": [
    "Failed testcases: \n",
    "lst1 = [1, 8]\n",
    "lst2 = [0]\n",
    "\n",
    "lst1 = [9, 8]\n",
    "lst2 = [1]\n",
    "\n",
    "lst1 = [3, 7]\n",
    "lst2 = [9, 2]\n",
    "\n",
    "[2,8,9,9,9,9,8,9,9,9]\n",
    "[8,1,2]"
   ]
  },
  {
   "cell_type": "code",
   "execution_count": null,
   "metadata": {},
   "outputs": [],
   "source": []
  }
 ],
 "metadata": {
  "kernelspec": {
   "display_name": "Python 3",
   "language": "python",
   "name": "python3"
  },
  "language_info": {
   "codemirror_mode": {
    "name": "ipython",
    "version": 3
   },
   "file_extension": ".py",
   "mimetype": "text/x-python",
   "name": "python",
   "nbconvert_exporter": "python",
   "pygments_lexer": "ipython3",
   "version": "3.7.6"
  }
 },
 "nbformat": 4,
 "nbformat_minor": 4
}
