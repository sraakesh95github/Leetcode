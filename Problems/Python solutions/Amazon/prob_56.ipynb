{
 "cells": [
  {
   "cell_type": "code",
   "execution_count": 66,
   "metadata": {},
   "outputs": [],
   "source": [
    "class Solution:\n",
    "    \n",
    "    def merge(self, intervals):\n",
    "        intervals.sort()\n",
    "        return self.sub_merge(intervals)\n",
    "    \n",
    "    def sub_merge(self, intervals):\n",
    "        for index in range(len(intervals)):\n",
    "#             print(intervals)\n",
    "            if(index < len(intervals) - 1):\n",
    "                prv = intervals[index]\n",
    "                nxt = intervals[index + 1]\n",
    "                if(nxt[0] >= prv[0] and nxt[0] <= prv[1]):\n",
    "                    intervals[index+1] = [prv[0], max(prv[1], nxt[1])]\n",
    "                    del intervals[index]\n",
    "                    return self.merge(intervals)\n",
    "            else:\n",
    "                return intervals  "
   ]
  },
  {
   "cell_type": "code",
   "execution_count": 67,
   "metadata": {},
   "outputs": [],
   "source": [
    "lst = [[1,4],[2,3]]"
   ]
  },
  {
   "cell_type": "code",
   "execution_count": 68,
   "metadata": {},
   "outputs": [
    {
     "data": {
      "text/plain": [
       "[[1, 4]]"
      ]
     },
     "execution_count": 68,
     "metadata": {},
     "output_type": "execute_result"
    }
   ],
   "source": [
    "a = Solution()\n",
    "a.merge(lst)"
   ]
  },
  {
   "cell_type": "code",
   "execution_count": 22,
   "metadata": {},
   "outputs": [
    {
     "name": "stdout",
     "output_type": "stream",
     "text": [
      "0\n",
      "1\n",
      "2\n",
      "3\n"
     ]
    }
   ],
   "source": [
    "for i in range(len(lst)):\n",
    "    print(i)"
   ]
  },
  {
   "cell_type": "code",
   "execution_count": 55,
   "metadata": {},
   "outputs": [
    {
     "name": "stdout",
     "output_type": "stream",
     "text": [
      "[[1, 2], [2, 9], [3, 6], [4, 7]]\n"
     ]
    }
   ],
   "source": [
    "lst2 = [[3, 6], [4, 7], [1, 2], [2, 9]]\n",
    "lst2.sort()\n",
    "print(lst2)"
   ]
  },
  {
   "cell_type": "code",
   "execution_count": null,
   "metadata": {},
   "outputs": [],
   "source": []
  }
 ],
 "metadata": {
  "kernelspec": {
   "display_name": "Python 3",
   "language": "python",
   "name": "python3"
  },
  "language_info": {
   "codemirror_mode": {
    "name": "ipython",
    "version": 3
   },
   "file_extension": ".py",
   "mimetype": "text/x-python",
   "name": "python",
   "nbconvert_exporter": "python",
   "pygments_lexer": "ipython3",
   "version": "3.8.3"
  }
 },
 "nbformat": 4,
 "nbformat_minor": 4
}
