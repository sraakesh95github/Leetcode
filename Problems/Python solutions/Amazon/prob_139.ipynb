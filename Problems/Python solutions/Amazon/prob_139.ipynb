{
 "cells": [
  {
   "cell_type": "markdown",
   "metadata": {},
   "source": [
    "# Dynamic Programming"
   ]
  },
  {
   "cell_type": "code",
   "execution_count": 24,
   "metadata": {},
   "outputs": [],
   "source": [
    "from collections import defaultdict\n",
    "\n",
    "class Solution:\n",
    "    def wordBreak(self, s, wordDict):\n",
    "        \n",
    "        def wordBreakSub(s, wordDict, start, memo):\n",
    "            if(start == len(s)):\n",
    "                return True\n",
    "            if(start in memo.keys()):\n",
    "                return memo[start]\n",
    "            else:\n",
    "                for end in range(start+1, len(s)+1):\n",
    "#                     print(\"Substring: \" + str(s[start:end]))\n",
    "#                     print(\"Word Dictionary: \" + str(wordDict))\n",
    "                    if(s[start:end] in wordDict and wordBreakSub(s, wordDict, end, memo)): \n",
    "                        memo[start] = True\n",
    "                        return True\n",
    "                return False\n",
    "            \n",
    "        memo = defaultdict(bool)\n",
    "        return wordBreakSub(s, wordDict, 0, memo)"
   ]
  },
  {
   "cell_type": "code",
   "execution_count": 26,
   "metadata": {},
   "outputs": [
    {
     "name": "stdout",
     "output_type": "stream",
     "text": [
      "True\n"
     ]
    }
   ],
   "source": [
    "wordDict = {'pen', 'apple'}\n",
    "string = 'applepenapple'\n",
    "\n",
    "a = Solution()\n",
    "print(a.wordBreak(string, wordDict))"
   ]
  },
  {
   "cell_type": "markdown",
   "metadata": {},
   "source": [
    "# DP Accepted Solution"
   ]
  },
  {
   "cell_type": "code",
   "execution_count": 32,
   "metadata": {},
   "outputs": [],
   "source": [
    "from functools import lru_cache\n",
    "\n",
    "class Solution:\n",
    "\n",
    "    def wordBreak(self, s, wordDict):\n",
    "        \n",
    "        @lru_cache(None)\n",
    "        def dp(index):\n",
    "            \n",
    "            if(index == len(s)):\n",
    "                return True\n",
    "            \n",
    "            res = False\n",
    "            \n",
    "            for j in range(index, len(s)):\n",
    "                if(s[index:j+1] in d):\n",
    "                    res |= dp(j+1)\n",
    "            \n",
    "            return res\n",
    "        \n",
    "        d = set(wordDict)\n",
    "        return dp(0)"
   ]
  },
  {
   "cell_type": "code",
   "execution_count": 34,
   "metadata": {},
   "outputs": [
    {
     "name": "stdout",
     "output_type": "stream",
     "text": [
      "True\n"
     ]
    }
   ],
   "source": [
    "wordDict = {'pen', 'apple'}\n",
    "string = 'applepenapple'\n",
    "\n",
    "a = Solution()\n",
    "print(a.wordBreak(string, wordDict))"
   ]
  },
  {
   "cell_type": "code",
   "execution_count": 48,
   "metadata": {},
   "outputs": [],
   "source": [
    "from collections import defaultdict\n",
    "\n",
    "class Solution:\n",
    "    def wordBreak(self, s, wordDict):\n",
    "        queue = []\n",
    "        visited = []\n",
    "        queue.append(0)\n",
    "        wd = set(wordDict)\n",
    "        \n",
    "        while(queue):\n",
    "            print(queue)\n",
    "            start = queue.pop(0)\n",
    "            if(start not in visited):\n",
    "                for end in range(start+1, len(s)+1):\n",
    "                    print(\"Substring: \" + str(s[start:end]))\n",
    "                    print(\"Start index: \" + str(start))\n",
    "                    if(s[start:end] in wd):\n",
    "                        queue.append(start)\n",
    "                        if(start == len(s)-1):\n",
    "                            return True\n",
    "            visited.append(start)\n",
    "            \n",
    "        return False"
   ]
  },
  {
   "cell_type": "code",
   "execution_count": 49,
   "metadata": {},
   "outputs": [
    {
     "name": "stdout",
     "output_type": "stream",
     "text": [
      "[0]\n",
      "Substring: a\n",
      "Start index: 0\n",
      "Substring: ap\n",
      "Start index: 0\n",
      "Substring: app\n",
      "Start index: 0\n",
      "Substring: appl\n",
      "Start index: 0\n",
      "Substring: apple\n",
      "Start index: 0\n",
      "Substring: applep\n",
      "Start index: 0\n",
      "Substring: applepe\n",
      "Start index: 0\n",
      "Substring: applepen\n",
      "Start index: 0\n",
      "Substring: applepena\n",
      "Start index: 0\n",
      "Substring: applepenap\n",
      "Start index: 0\n",
      "Substring: applepenapp\n",
      "Start index: 0\n",
      "Substring: applepenappl\n",
      "Start index: 0\n",
      "Substring: applepenapple\n",
      "Start index: 0\n",
      "[0]\n",
      "False\n"
     ]
    }
   ],
   "source": [
    "wordDict = {'pen', 'apple'}\n",
    "string = 'applepenapple'\n",
    "\n",
    "a = Solution()\n",
    "print(a.wordBreak(string, wordDict))"
   ]
  },
  {
   "cell_type": "code",
   "execution_count": 40,
   "metadata": {},
   "outputs": [
    {
     "data": {
      "text/plain": [
       "'a'"
      ]
     },
     "execution_count": 40,
     "metadata": {},
     "output_type": "execute_result"
    }
   ],
   "source": [
    "q = ['a', 'b', 'c', 'd']\n",
    "q.pop(0)"
   ]
  },
  {
   "cell_type": "code",
   "execution_count": 38,
   "metadata": {},
   "outputs": [],
   "source": [
    "class Solution:\n",
    "    def wordBreak(self, s, wordDict):\n",
    "        wd = set(wordDict)\n",
    "        dp = [False for i in range(len(s)+1)]\n",
    "        dp[0] = True\n",
    "        \n",
    "        for i in range(1, len(s)+1):\n",
    "#             print(dp)\n",
    "            for j in range(0, i):\n",
    "#                 print(\"Substring: \" + s[j:i+1])\n",
    "                if(dp[j] and s[j:i] in wd):\n",
    "#                     print(\"Found word \" + s[j:i+1] + \" in dictionary\")\n",
    "                    dp[i] = True\n",
    "                    if(i == len(s)):\n",
    "                        return True\n",
    "                    break\n",
    "        return False"
   ]
  },
  {
   "cell_type": "code",
   "execution_count": 39,
   "metadata": {},
   "outputs": [
    {
     "name": "stdout",
     "output_type": "stream",
     "text": [
      "[True, False]\n",
      "Substring: a\n",
      "True\n"
     ]
    }
   ],
   "source": [
    "# wordDict = {'pen', 'apple'}\n",
    "wordDict = {'a'}\n",
    "\n",
    "string = 'a'\n",
    "# string = 'applepenapple'\n",
    "\n",
    "a = Solution()\n",
    "print(a.wordBreak(string, wordDict))"
   ]
  },
  {
   "cell_type": "code",
   "execution_count": null,
   "metadata": {},
   "outputs": [],
   "source": []
  }
 ],
 "metadata": {
  "kernelspec": {
   "display_name": "Python 3",
   "language": "python",
   "name": "python3"
  },
  "language_info": {
   "codemirror_mode": {
    "name": "ipython",
    "version": 3
   },
   "file_extension": ".py",
   "mimetype": "text/x-python",
   "name": "python",
   "nbconvert_exporter": "python",
   "pygments_lexer": "ipython3",
   "version": "3.8.3"
  }
 },
 "nbformat": 4,
 "nbformat_minor": 4
}
