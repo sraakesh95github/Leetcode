{
 "cells": [
  {
   "cell_type": "markdown",
   "metadata": {},
   "source": [
    "## Leetcode\n",
    "#### Problem Statement\n",
    "\n",
    "Given two non-empty binary trees s and t, check whether tree t has exactly the same structure and node values with a subtree of s. A subtree of s is a tree consists of a node in s and all of this node's descendants. The tree s could also be considered as a subtree of itself.\n",
    "\n",
    "Example 1:\n",
    "Given tree s:\n",
    "\n",
    "     3\n",
    "    / \\\n",
    "   4   5\n",
    "  / \\\n",
    " 1   2\n",
    "Given tree t:\n",
    "   4 \n",
    "  / \\\n",
    " 1   2\n",
    "Return true, because t has the same structure and node values with a subtree of s.\n",
    " \n",
    "\n",
    "Example 2:\n",
    "Given tree s:\n",
    "\n",
    "     3\n",
    "    / \\\n",
    "   4   5\n",
    "  / \\\n",
    " 1   2\n",
    "    /\n",
    "   0\n",
    "Given tree t:\n",
    "   4\n",
    "  / \\\n",
    " 1   2\n",
    "Return false."
   ]
  },
  {
   "cell_type": "markdown",
   "metadata": {},
   "source": [
    "#### Solution 1: Naive Approach (Implementation by me)"
   ]
  },
  {
   "cell_type": "code",
   "execution_count": 59,
   "metadata": {},
   "outputs": [],
   "source": [
    "class BTNode:\n",
    "    def __init__(self, val=0, left=None, right=None):\n",
    "        self.val = val\n",
    "        self.left = left\n",
    "        self.right = right\n",
    "        \n",
    "    def preorder(self):\n",
    "        print(self.val)\n",
    "        if(self.left):\n",
    "            self.left.preorder()\n",
    "        if(self.right):\n",
    "            self.right.preorder()\n",
    "        \n",
    "class Solution:\n",
    "    \n",
    "    def isMatch(self, s, t):\n",
    "        if(not(s and t)):\n",
    "#             print(\"Entered 1st return in isMatch()...\")\n",
    "            return (s is t)\n",
    "#         print(\"Entered 2nd return in isMatch()...\")\n",
    "        return (s.val==t.val\n",
    "                and self.isMatch(s.left, t.left)\n",
    "                and self.isMatch(s.right, t.right))\n",
    "    \n",
    "    def checkNode(self, s, t):\n",
    "        if(self.isMatch(s, t)): return True\n",
    "        elif(not s): return False\n",
    "        else: return ((self.checkNode(s.left, t)) or \n",
    "                      (self.checkNode(s.right, t)))\n",
    "#         else:\n",
    "#         print(\"s: \" + str(s) + str(s.val))\n",
    "#         print(\"t: \" + str(t) + str(t.val))\n",
    "#         if(s.val != t.val):\n",
    "#             return ((self.checkNode(s.left, t)) or (self.checkNode(s.right, t)))\n",
    "#         else:\n",
    "#             return self.isMatch(s, t)"
   ]
  },
  {
   "cell_type": "code",
   "execution_count": 61,
   "metadata": {},
   "outputs": [
    {
     "name": "stdout",
     "output_type": "stream",
     "text": [
      "True\n"
     ]
    }
   ],
   "source": [
    "#### Test\n",
    "# Contains the subtree\n",
    "a1 = BTNode(3)\n",
    "a1.left = BTNode(4) \n",
    "a1.right = BTNode(5)\n",
    "a1.left.left = BTNode(1)\n",
    "a1.left.right = BTNode(2)\n",
    "\n",
    "# Doesn't contain the subtree\n",
    "a2 = BTNode(3)\n",
    "a2.left = BTNode(4)\n",
    "a2.right = BTNode(5)\n",
    "a2.left.left = BTNode(1)\n",
    "a2.left.right = BTNode(2)\n",
    "a2.left.right.left = BTNode(0)\n",
    "\n",
    "b = BTNode(4)\n",
    "b.left = BTNode(1)\n",
    "b.right = BTNode(2)\n",
    "\n",
    "# a.preorder()\n",
    "sol = Solution()\n",
    "print(sol.checkNode(a1, b))"
   ]
  },
  {
   "cell_type": "code",
   "execution_count": 53,
   "metadata": {},
   "outputs": [
    {
     "name": "stdout",
     "output_type": "stream",
     "text": [
      "False\n"
     ]
    }
   ],
   "source": [
    "c = BTNode(4)\n",
    "c.left = BTNode(1)\n",
    "c.right = BTNode(2)\n",
    "print(c is b)\n",
    "# b.preorder()\n",
    "# c.preorder()"
   ]
  },
  {
   "cell_type": "markdown",
   "metadata": {},
   "source": [
    "#### Solution 2: Naive Approach (Online solution)\n",
    "##### Link: https://leetcode.com/problems/subtree-of-another-tree/discuss/102741/Python-Straightforward-with-Explanation-(O(ST)-and-O(S%2BT)-approaches)"
   ]
  },
  {
   "cell_type": "code",
   "execution_count": 36,
   "metadata": {},
   "outputs": [],
   "source": [
    "class Solution2():\n",
    "    \n",
    "    def isMatch(self, s, t):\n",
    "        if not(s and t):\n",
    "            return s is t\n",
    "        return (s.val == t.val and \n",
    "                self.isMatch(s.left, t.left) and \n",
    "                self.isMatch(s.right, t.right))\n",
    "\n",
    "    def isSubtree(self, s, t):\n",
    "        if self.isMatch(s, t): return True\n",
    "        if not s: return False\n",
    "        return self.isSubtree(s.left, t) or self.isSubtree(s.right, t)"
   ]
  },
  {
   "cell_type": "code",
   "execution_count": 39,
   "metadata": {},
   "outputs": [
    {
     "name": "stdout",
     "output_type": "stream",
     "text": [
      "False\n"
     ]
    }
   ],
   "source": [
    "sol2 = Solution2()\n",
    "print(sol2.isSubtree(a2, b))"
   ]
  },
  {
   "cell_type": "code",
   "execution_count": null,
   "metadata": {},
   "outputs": [],
   "source": []
  }
 ],
 "metadata": {
  "kernelspec": {
   "display_name": "Python 3",
   "language": "python",
   "name": "python3"
  },
  "language_info": {
   "codemirror_mode": {
    "name": "ipython",
    "version": 3
   },
   "file_extension": ".py",
   "mimetype": "text/x-python",
   "name": "python",
   "nbconvert_exporter": "python",
   "pygments_lexer": "ipython3",
   "version": "3.7.6"
  }
 },
 "nbformat": 4,
 "nbformat_minor": 4
}
