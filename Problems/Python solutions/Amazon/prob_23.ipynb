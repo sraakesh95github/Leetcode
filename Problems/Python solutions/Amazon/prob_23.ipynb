{
 "cells": [
  {
   "cell_type": "markdown",
   "metadata": {},
   "source": [
    "## K-Sorted Linked List"
   ]
  },
  {
   "cell_type": "code",
   "execution_count": 1,
   "metadata": {},
   "outputs": [],
   "source": [
    "# Definition for singly-linked list.\n",
    "class ListNode:\n",
    "    def __init__(self, val=0, next=None):\n",
    "        self.val = val\n",
    "        self.next = next\n",
    "        \n",
    "class Solution:\n",
    "    def mergeKLists(self, lists):\n",
    "        final_list = []\n",
    "        final_head = ListNode()\n",
    "        temp_list = []\n",
    "        for listObj in lists:\n",
    "            temp_list = self.LLToList(listObj)\n",
    "            final_list.extend(temp_list)\n",
    "        final_list.sort()\n",
    "        final_head = self.listToLL(final_list)\n",
    "        return final_head\n",
    "    \n",
    "    def LLToList(self, head):\n",
    "        if(head is None):\n",
    "            return []\n",
    "        else:\n",
    "            return self.LLToListFunc(head, [])\n",
    "\n",
    "    def LLToListFunc(self, current_node, final_list):\n",
    "        if(current_node.next is not None):\n",
    "            final_list.append(current_node.val)\n",
    "            return self.LLToListFunc(current_node.next, final_list)\n",
    "        else:\n",
    "            final_list.append(current_node.val)\n",
    "            return final_list\n",
    "        \n",
    "    def listToLL(self, listItems):\n",
    "        if(len(listItems) != 0):\n",
    "            new_node = ListNode()\n",
    "            return self.listToLLFunc(listItems, True, new_node, new_node)\n",
    "        else:\n",
    "            return None\n",
    "        \n",
    "    def listToLLFunc(self, listItems, first_iteration, current_item, head):\n",
    "    #     print(head.val)\n",
    "        if(first_iteration):\n",
    "            head.val = listItems[0]\n",
    "            next_item = ListNode()\n",
    "            head.next = next_item\n",
    "            return self.listToLLFunc(listItems[1:], False, next_item, head)\n",
    "        else:\n",
    "            if(len(listItems) == 1):\n",
    "                current_item.val = listItems[0]\n",
    "                current_item.next = None\n",
    "                return head\n",
    "            else:\n",
    "                current_item.val = listItems[0]\n",
    "                next_item = ListNode()\n",
    "                current_item.next = next_item\n",
    "                return self.listToLLFunc(listItems[1:], False, next_item, head)\n",
    "        "
   ]
  },
  {
   "cell_type": "markdown",
   "metadata": {},
   "source": [
    "## Leetcode Solution"
   ]
  },
  {
   "cell_type": "code",
   "execution_count": 2,
   "metadata": {},
   "outputs": [],
   "source": [
    " \n",
    "class Solution:\n",
    "    def mergeKLists(self, lists):\n",
    "        head = pointer = ListNode(0)\n",
    "        list_obj = []\n",
    "        if(lists):\n",
    "            for l in lists:\n",
    "                print(l.val)\n",
    "                while l:\n",
    "                    list_obj.append(l.val)\n",
    "                    l=l.next\n",
    "#         print(list_obj)\n",
    "        \n",
    "        for x in sorted(list_obj):\n",
    "            pointer.next = ListNode(x)\n",
    "            pointer = pointer.next\n",
    "#         print(head)\n",
    "#         print(head.next)\n",
    "        return head.next"
   ]
  },
  {
   "cell_type": "code",
   "execution_count": 3,
   "metadata": {},
   "outputs": [
    {
     "name": "stdout",
     "output_type": "stream",
     "text": [
      "1\n",
      "1\n",
      "2\n",
      "<__main__.ListNode object at 0x00000136D80B01F0>\n",
      "1\n",
      "1\n",
      "2\n",
      "3\n",
      "4\n",
      "4\n",
      "5\n",
      "6\n"
     ]
    }
   ],
   "source": [
    "def listToLL(listItems):\n",
    "    if(len(listItems) != 0):\n",
    "        new_node = ListNode()\n",
    "        return listToLLFunc(listItems, True, new_node, new_node)\n",
    "    else:\n",
    "        return None\n",
    "\n",
    "def listToLLFunc(listItems, first_iteration, current_item, head):\n",
    "#     print(head.val)\n",
    "    if(first_iteration):\n",
    "        head.val = listItems[0]\n",
    "        next_item = ListNode()\n",
    "        head.next = next_item\n",
    "        return listToLLFunc(listItems[1:], False, next_item, head)\n",
    "    else:\n",
    "        if(len(listItems) == 1):\n",
    "            current_item.val = listItems[0]\n",
    "            current_item.next = None\n",
    "            return head\n",
    "        else:\n",
    "            current_item.val = listItems[0]\n",
    "            next_item = ListNode()\n",
    "            current_item.next = next_item\n",
    "            return listToLLFunc(listItems[1:], False, next_item, head)\n",
    "\n",
    "listItems = [[1,4,5],[1,3,4],[2,6]]\n",
    "\n",
    "final_list = []\n",
    "\n",
    "for l in listItems:\n",
    "    final_list.append(listToLL(l))\n",
    "    \n",
    "# print(final_list)\n",
    "# print(final_list[0].val)\n",
    "\n",
    "a = Solution()\n",
    "head_list = a.mergeKLists(final_list)\n",
    "print(head_list)\n",
    "while head_list:\n",
    "    print(head_list.val)\n",
    "    head_list = head_list.next"
   ]
  },
  {
   "cell_type": "markdown",
   "metadata": {},
   "source": [
    "## Using Priority Queues"
   ]
  },
  {
   "cell_type": "code",
   "execution_count": 22,
   "metadata": {},
   "outputs": [],
   "source": [
    "from queue import PriorityQueue\n",
    "\n",
    "# class ListNode:\n",
    "def __init__(self, val=0, next=None):\n",
    "    self.val = val\n",
    "    self.next = next\n",
    "    \n",
    "class Solution:\n",
    "    def mergeKLists(self, lists):\n",
    "        \n",
    "        head = pointer = ListNode(0)\n",
    "        \n",
    "        class Wrapper:\n",
    "            def __init__(self, node):\n",
    "                self.node = node\n",
    "            def __lt__(self, other):\n",
    "                return self.node.val < other.node.val\n",
    "        \n",
    "        pq = PriorityQueue()\n",
    "        for l in lists:\n",
    "            if(l):\n",
    "                print(l)\n",
    "                pq.put(Wrapper(l))\n",
    "                print(Wrapper(l))\n",
    "                \n",
    "        while not pq.empty():\n",
    "            node = pq.get().node\n",
    "            pointer.next = node\n",
    "            pointer = pointer.next\n",
    "            node = node.next\n",
    "            if node:\n",
    "                pq.put(Wrapper(node))\n",
    "        \n",
    "        return head.next"
   ]
  },
  {
   "cell_type": "code",
   "execution_count": 23,
   "metadata": {},
   "outputs": [
    {
     "name": "stdout",
     "output_type": "stream",
     "text": [
      "<__main__.ListNode object at 0x00000136D814B0A0>\n",
      "<__main__.Solution.mergeKLists.<locals>.Wrapper object at 0x00000136D81519D0>\n",
      "<__main__.ListNode object at 0x00000136D814BE80>\n",
      "<__main__.Solution.mergeKLists.<locals>.Wrapper object at 0x00000136D8151AF0>\n",
      "<__main__.ListNode object at 0x00000136D814B070>\n",
      "<__main__.Solution.mergeKLists.<locals>.Wrapper object at 0x00000136D8151C40>\n",
      "1\n",
      "1\n",
      "2\n",
      "3\n",
      "4\n",
      "4\n",
      "5\n",
      "6\n"
     ]
    }
   ],
   "source": [
    "a = Solution()\n",
    "\n",
    "listItems = [[1,4,5],[1,3,4],[2,6]]\n",
    "\n",
    "final_list = []\n",
    "\n",
    "for l in listItems:\n",
    "    final_list.append(listToLL(l))\n",
    "    \n",
    "head = ListNode()\n",
    "head = a.mergeKLists(final_list)\n",
    "while(head):\n",
    "    print(head.val)\n",
    "    head=head.next"
   ]
  },
  {
   "cell_type": "code",
   "execution_count": null,
   "metadata": {},
   "outputs": [],
   "source": []
  }
 ],
 "metadata": {
  "kernelspec": {
   "display_name": "Python 3",
   "language": "python",
   "name": "python3"
  },
  "language_info": {
   "codemirror_mode": {
    "name": "ipython",
    "version": 3
   },
   "file_extension": ".py",
   "mimetype": "text/x-python",
   "name": "python",
   "nbconvert_exporter": "python",
   "pygments_lexer": "ipython3",
   "version": "3.8.3"
  }
 },
 "nbformat": 4,
 "nbformat_minor": 4
}
