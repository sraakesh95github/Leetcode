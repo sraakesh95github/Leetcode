{
 "cells": [
  {
   "cell_type": "markdown",
   "metadata": {},
   "source": [
    "### Problem 11\n",
    "\n",
    "#### Problem Statement (Container With Most Water):\n",
    "\n",
    "##### Link: https://leetcode.com/problems/container-with-most-water/\n",
    "\n",
    "Given n non-negative integers a1, a2, ..., an , where each represents a point at coordinate (i, ai). n vertical lines are drawn such that the two endpoints of line i is at (i, ai) and (i, 0). Find two lines, which together with x-axis forms a container, such that the container contains the most water.\n",
    "\n",
    "Note: You may not slant the container and n is at least 2.\n",
    "\n",
    "The above vertical lines are represented by array [1,8,6,2,5,4,8,3,7]. In this case, the max area of water (blue section) the container can contain is 49.\n",
    "\n",
    "Example:\n",
    "\n",
    "Input: [1,8,6,2,5,4,8,3,7]\n",
    "Output: 49"
   ]
  },
  {
   "cell_type": "markdown",
   "metadata": {},
   "source": [
    "##### Solution 1: Brute Force\n",
    "Time complexity: O(n**2) <br>\n",
    "<font color=\"red\">This method results in runtime error</font>\n"
   ]
  },
  {
   "cell_type": "code",
   "execution_count": 22,
   "metadata": {},
   "outputs": [],
   "source": [
    "import numpy as np\n",
    "\n",
    "class Solution:\n",
    "    def maxArea(self, height):\n",
    "        min_ele = 0\n",
    "        length = len(height)\n",
    "        area = np.zeros((length, length))\n",
    "        \n",
    "        for ele1_ind, ele1 in enumerate(height[0:length-1]):\n",
    "            ele2_start_ind = ele1_ind + 1\n",
    "            \n",
    "            for ele2_ind, ele2 in enumerate(height[ele2_start_ind:]):\n",
    "                # print(\"Entered for loop...\")\n",
    "                # ele2 = height[ele2_ind]\n",
    "                ele2_ind = ele2_ind + ele2_start_ind\n",
    "                min_ele = min(ele1, ele2)\n",
    "                ind_diff = np.abs(ele2_ind - ele1_ind)\n",
    "                area[ele1_ind][ele2_ind] = ind_diff * min_ele\n",
    "                # print(\"\\nEle1: \" + str(ele1))\n",
    "                # print(\"Ele2: \" + str(ele2))\n",
    "                # print(\"Area: \" + str(ind_diff * min_ele))\n",
    "        \n",
    "        result = int(np.max(area))\n",
    "        \n",
    "        return result"
   ]
  },
  {
   "cell_type": "markdown",
   "metadata": {},
   "source": [
    "##### Solution 2 (Dynamic programming)\n",
    "Time complexity: O(n)"
   ]
  },
  {
   "cell_type": "code",
   "execution_count": 2,
   "metadata": {},
   "outputs": [],
   "source": [
    "class Solution():\n",
    "    def maxArea(self, height):\n",
    "        \n",
    "        # Init the variables\n",
    "        maxArea, start, end = 0, 0, len(height)-1\n",
    "        \n",
    "        while(start < end):\n",
    "            \n",
    "            # Get one of the parameters for area\n",
    "            param1 = end - start\n",
    "            \n",
    "            if(height[start] < height[end]):\n",
    "                param2 = height[start]\n",
    "                maxArea = max(maxArea, param1 * param2)\n",
    "                start+=1\n",
    "            else:\n",
    "                param2 = height[end]\n",
    "                maxArea = max(maxArea, param1 * param2)\n",
    "                end-=1\n",
    "        \n",
    "        return maxArea"
   ]
  },
  {
   "cell_type": "code",
   "execution_count": null,
   "metadata": {},
   "outputs": [],
   "source": []
  },
  {
   "cell_type": "code",
   "execution_count": 3,
   "metadata": {},
   "outputs": [
    {
     "data": {
      "text/plain": [
       "49"
      ]
     },
     "execution_count": 3,
     "metadata": {},
     "output_type": "execute_result"
    }
   ],
   "source": [
    "a = Solution()\n",
    "a.maxArea([1,8,6,2,5,4,8,3,7])"
   ]
  },
  {
   "cell_type": "code",
   "execution_count": null,
   "metadata": {},
   "outputs": [],
   "source": []
  }
 ],
 "metadata": {
  "kernelspec": {
   "display_name": "Python 3",
   "language": "python",
   "name": "python3"
  },
  "language_info": {
   "codemirror_mode": {
    "name": "ipython",
    "version": 3
   },
   "file_extension": ".py",
   "mimetype": "text/x-python",
   "name": "python",
   "nbconvert_exporter": "python",
   "pygments_lexer": "ipython3",
   "version": "3.7.6"
  }
 },
 "nbformat": 4,
 "nbformat_minor": 4
}
