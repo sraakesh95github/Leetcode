{
 "cells": [
  {
   "cell_type": "markdown",
   "metadata": {},
   "source": [
    "## Insertion Sort"
   ]
  },
  {
   "cell_type": "markdown",
   "metadata": {},
   "source": [
    "#### Divided into \"Sorted\" and \"Unsorted\" sublist\n",
    "#### Default A[0] is sorted\n",
    "#### Start sorting from A[1]\n",
    "#### Maintain a temporary variable until an appropriate position is found in the sorted list"
   ]
  },
  {
   "cell_type": "code",
   "execution_count": 11,
   "metadata": {},
   "outputs": [],
   "source": [
    "def insertion_sort(lst):\n",
    "    n = len(lst)\n",
    "    for i in range(n)[1:n]:\n",
    "        temp = lst[i]\n",
    "        for j in reversed(range(i)):\n",
    "            if(temp < lst[j]):\n",
    "                lst[j+1] = lst[j]\n",
    "                lst[j] = temp\n",
    "    return lst"
   ]
  },
  {
   "cell_type": "code",
   "execution_count": 12,
   "metadata": {},
   "outputs": [
    {
     "name": "stdout",
     "output_type": "stream",
     "text": [
      "[1, 2, 4, 5, 6, 10]\n"
     ]
    }
   ],
   "source": [
    "lst = [5, 4, 10, 1, 6, 2]\n",
    "print(insertion_sort(lst))"
   ]
  }
 ],
 "metadata": {
  "kernelspec": {
   "display_name": "Python 3",
   "language": "python",
   "name": "python3"
  },
  "language_info": {
   "codemirror_mode": {
    "name": "ipython",
    "version": 3
   },
   "file_extension": ".py",
   "mimetype": "text/x-python",
   "name": "python",
   "nbconvert_exporter": "python",
   "pygments_lexer": "ipython3",
   "version": "3.7.6"
  }
 },
 "nbformat": 4,
 "nbformat_minor": 4
}
