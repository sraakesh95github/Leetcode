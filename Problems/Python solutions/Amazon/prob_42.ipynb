{
 "cells": [
  {
   "cell_type": "markdown",
   "metadata": {},
   "source": [
    "## Rainwater Trapping"
   ]
  },
  {
   "cell_type": "markdown",
   "metadata": {},
   "source": [
    "## Brute Force and Dynamic Programming"
   ]
  },
  {
   "cell_type": "code",
   "execution_count": 34,
   "metadata": {},
   "outputs": [],
   "source": [
    "class Solution:\n",
    "    \n",
    "    def trap(self, height):\n",
    "        \n",
    "        n = len(height)\n",
    "        water_supp_height = 0\n",
    "        water_fin_height = 0\n",
    "        \n",
    "        for index, i in enumerate(height):\n",
    "#             print(index)\n",
    "\n",
    "            if(index == 0):\n",
    "                max_left = 0\n",
    "            else:\n",
    "                max_left = max(height[:index])\n",
    "                \n",
    "            if(index == n-1):\n",
    "                max_right = 0\n",
    "            else:\n",
    "                max_right = max(height[index:])\n",
    "                \n",
    "            max_left = max(max_left, i)\n",
    "            max_right = max(max_right, i)\n",
    "                \n",
    "            water_supp_height = min(max_left, max_right) - i\n",
    "            \n",
    "            water_fin_height = water_fin_height + water_supp_height\n",
    "            \n",
    "        return water_fin_height\n",
    "    \n",
    "    def dyn_trap(self, height):\n",
    "        \n",
    "        left_max = []\n",
    "        left_max_temp = 0;\n",
    "        right_max = []\n",
    "        right_max_temp = 0;\n",
    "#         water_height_supp = 0\n",
    "        water_height_final = 0\n",
    "        \n",
    "        for index, i in enumerate(height):\n",
    "            left_max_temp = max(left_max_temp, i)\n",
    "            left_max.append(left_max_temp)\n",
    "            \n",
    "        height_reversed = height[::-1]\n",
    "        \n",
    "        for index, i in enumerate(height_reversed):\n",
    "            right_max_temp = max(right_max_temp, i)\n",
    "            right_max.append(right_max_temp)\n",
    "            \n",
    "        right_max = right_max[::-1]\n",
    "#         print(left_max)\n",
    "#         print(right_max)\n",
    "            \n",
    "        for index, i in enumerate(height):\n",
    "            water_height_final = water_height_final + (min(left_max[index], right_max[index]) - i)\n",
    "            \n",
    "        return water_height_final"
   ]
  },
  {
   "cell_type": "code",
   "execution_count": 36,
   "metadata": {},
   "outputs": [
    {
     "name": "stdout",
     "output_type": "stream",
     "text": [
      "9\n"
     ]
    }
   ],
   "source": [
    "lst1 = [0,1,0,2,1,0,1,3,2,1,2,1]\n",
    "lst2 = [4, 2, 0, 3, 2, 5]\n",
    "\n",
    "a = Solution()\n",
    "\n",
    "# Brute force\n",
    "# a.trap(lst1)\n",
    "\n",
    "# Dynamix programming\n",
    "print(a.dyn_trap(lst2))"
   ]
  },
  {
   "cell_type": "markdown",
   "metadata": {},
   "source": [
    "## Dynamic Programming"
   ]
  },
  {
   "cell_type": "code",
   "execution_count": 9,
   "metadata": {},
   "outputs": [
    {
     "name": "stdout",
     "output_type": "stream",
     "text": [
      "[]\n"
     ]
    }
   ],
   "source": []
  },
  {
   "cell_type": "code",
   "execution_count": null,
   "metadata": {},
   "outputs": [],
   "source": []
  }
 ],
 "metadata": {
  "kernelspec": {
   "display_name": "Python 3",
   "language": "python",
   "name": "python3"
  },
  "language_info": {
   "codemirror_mode": {
    "name": "ipython",
    "version": 3
   },
   "file_extension": ".py",
   "mimetype": "text/x-python",
   "name": "python",
   "nbconvert_exporter": "python",
   "pygments_lexer": "ipython3",
   "version": "3.8.3"
  }
 },
 "nbformat": 4,
 "nbformat_minor": 4
}
