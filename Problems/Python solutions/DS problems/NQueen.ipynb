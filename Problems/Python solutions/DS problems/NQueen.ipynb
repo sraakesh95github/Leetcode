{
 "cells": [
  {
   "cell_type": "markdown",
   "metadata": {},
   "source": [
    "## Queen Backtrack Geeksforgeeks"
   ]
  },
  {
   "cell_type": "code",
   "execution_count": 1,
   "metadata": {},
   "outputs": [
    {
     "ename": "SyntaxError",
     "evalue": "unexpected EOF while parsing (<ipython-input-1-3c2c422b139d>, line 4)",
     "output_type": "error",
     "traceback": [
      "\u001b[1;36m  File \u001b[1;32m\"<ipython-input-1-3c2c422b139d>\"\u001b[1;36m, line \u001b[1;32m4\u001b[0m\n\u001b[1;33m    \u001b[0m\n\u001b[1;37m    ^\u001b[0m\n\u001b[1;31mSyntaxError\u001b[0m\u001b[1;31m:\u001b[0m unexpected EOF while parsing\n"
     ]
    }
   ],
   "source": [
    "def backtrack(n):\n",
    "    positions = []\n",
    "    for i in n:\n",
    "        "
   ]
  },
  {
   "cell_type": "code",
   "execution_count": 14,
   "metadata": {},
   "outputs": [
    {
     "name": "stdout",
     "output_type": "stream",
     "text": [
      "[[1, 3], [5, 7]]\n",
      "2\n"
     ]
    }
   ],
   "source": [
    "for i in range(2, -1, -1):\n",
    "#     print(i)\n",
    "    pass\n",
    "    \n",
    "for j in range(4, 4, 1):\n",
    "    print(j)\n",
    "    \n",
    "board= [[1, 3],[5, 7]]\n",
    "print(board)\n",
    "print(len(board))"
   ]
  },
  {
   "cell_type": "code",
   "execution_count": 89,
   "metadata": {},
   "outputs": [],
   "source": [
    "def isSafe(board, row, col):\n",
    "        \n",
    "    for i in range(row):\n",
    "        if(board[i][col] == 1):\n",
    "            return False\n",
    "        \n",
    "    for i, j in zip(range(row, -1, -1), range(col, -1, -1)):\n",
    "        if(board[i][j] == 1):\n",
    "            return False\n",
    "        \n",
    "    for i, j in zip(range(row, len(board), 1), range(col, len(board), 1)):\n",
    "        if(board[i][j] == 1):\n",
    "            return False\n",
    "        \n",
    "    return True\n",
    "\n",
    "def NQUtil(board, row):\n",
    "    \n",
    "    N = len(board)\n",
    "    \n",
    "    if(row >= N):\n",
    "        return True\n",
    "    \n",
    "    for i in range(N):\n",
    "        if(isSafe(board, row, i) == True):\n",
    "            \n",
    "            board[row][i] = 1\n",
    "        \n",
    "            if(NQUtil(board, row+1) == True):\n",
    "                return True\n",
    "            \n",
    "            board[row][i] = 0\n",
    "        \n",
    "    return False\n",
    "\n",
    "def NQSoln(N):\n",
    "    \n",
    "    board = [[0 for i in range(N)] for i in range(N)]\n",
    "    \n",
    "    if(NQUtil(board, 0) == False):\n",
    "        print(\"No solution found...\")\n",
    "    else:\n",
    "        PrintBoard(board)\n",
    "        \n",
    "def PrintBoard(board):\n",
    "    print(\"\\n\\n\")\n",
    "    for i in range(len(board)):\n",
    "        print(\"\\n\")\n",
    "        for j in range(len(board)):\n",
    "            print(\" \" + str(board[i][j]), end=\"\")"
   ]
  },
  {
   "cell_type": "code",
   "execution_count": 91,
   "metadata": {},
   "outputs": [
    {
     "name": "stdout",
     "output_type": "stream",
     "text": [
      "\n",
      "\n",
      "\n",
      "\n",
      "\n",
      " 1 0 0 0 0 0 0 0\n",
      "\n",
      " 0 0 1 0 0 0 0 0\n",
      "\n",
      " 0 0 0 0 0 1 0 0\n",
      "\n",
      " 0 0 0 0 0 0 0 1\n",
      "\n",
      " 0 0 0 0 0 0 1 0\n",
      "\n",
      " 0 0 0 1 0 0 0 0\n",
      "\n",
      " 0 1 0 0 0 0 0 0\n",
      "\n",
      " 0 0 0 0 1 0 0 0"
     ]
    }
   ],
   "source": [
    "NQSoln(8)"
   ]
  },
  {
   "cell_type": "code",
   "execution_count": 77,
   "metadata": {},
   "outputs": [
    {
     "name": "stdout",
     "output_type": "stream",
     "text": [
      "[[0, 0, 0], [0, 0, 0], [0, 0, 0]]\n",
      "[0, 0, 0]\n",
      "[[0, 0, 0], [1, 0, 0], [0, 0, 0]]\n"
     ]
    }
   ],
   "source": [
    "board = [[0, 0, 0, 0], [0, 0, 0, 0], [0, 0, 0, 0], [0, 0, 0, 0]]\n",
    "# board = [[3, 4, 6], [5, 1, 2]]\n",
    "# board = [[0, 0, 0], [0, 0, 0], [0, 0, 0]]\n",
    "print(board)\n",
    "board[1][0] = 1\n",
    "print(board[0])\n",
    "print(board)"
   ]
  },
  {
   "cell_type": "code",
   "execution_count": 86,
   "metadata": {},
   "outputs": [
    {
     "name": "stdout",
     "output_type": "stream",
     "text": [
      "[[0, 0, 0, 0], [0, 0, 0, 0], [0, 0, 0, 0], [0, 0, 0, 0]]\n"
     ]
    }
   ],
   "source": [
    "board = [[0 for i in range(4)] for i in range(4)]\n",
    "print(board)"
   ]
  },
  {
   "cell_type": "code",
   "execution_count": null,
   "metadata": {},
   "outputs": [],
   "source": []
  }
 ],
 "metadata": {
  "kernelspec": {
   "display_name": "Python 3",
   "language": "python",
   "name": "python3"
  },
  "language_info": {
   "codemirror_mode": {
    "name": "ipython",
    "version": 3
   },
   "file_extension": ".py",
   "mimetype": "text/x-python",
   "name": "python",
   "nbconvert_exporter": "python",
   "pygments_lexer": "ipython3",
   "version": "3.8.3"
  }
 },
 "nbformat": 4,
 "nbformat_minor": 4
}
