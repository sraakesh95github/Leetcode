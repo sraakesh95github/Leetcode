{
 "cells": [
  {
   "cell_type": "markdown",
   "metadata": {},
   "source": [
    "## Leetcode method"
   ]
  },
  {
   "cell_type": "markdown",
   "metadata": {},
   "source": [
    "## Approach I: Topological sort (DFS)"
   ]
  },
  {
   "cell_type": "code",
   "execution_count": 1,
   "metadata": {},
   "outputs": [],
   "source": [
    "from collections import defaultdict\n",
    "\n",
    "class Solution:\n",
    "    def findOrder(self, numCourses, prerequisites):\n",
    "        final_stack = []\n",
    "        adjacency_dict = self.createAdjacencyDict(prerequisites)\n",
    "        visited = [False] * numCourses\n",
    "        recStack = [False] * numCourses\n",
    "        for node in range(numCourses):\n",
    "            if(visited[node] == False):\n",
    "                if(self.dfs(adjacency_dict, node, final_stack, visited, recStack) == True):\n",
    "                    return []\n",
    "        return final_stack[::-1]\n",
    "        \n",
    "    def createAdjacencyDict(self, prerequisites):\n",
    "        Dict = defaultdict(list)\n",
    "        for edge in prerequisites:\n",
    "            Dict[edge[1]].append(edge[0])\n",
    "        return Dict\n",
    "    \n",
    "    def dfs(self, adjc_dict, node, final_stack, visited, recStack): # The visited and recStart are used to check if there exists a cycle in the graph\n",
    "        visited[node] = True\n",
    "        recStack[node] = True\n",
    "        for neighbor in adjc_dict[node]:\n",
    "            if(visited[neighbor] == False):\n",
    "                if(self.dfs(adjc_dict, neighbor, final_stack, visited, recStack) == True):\n",
    "                    return True\n",
    "            elif(recStack[neighbor] == True):\n",
    "                return True\n",
    "        if(node not in final_stack):\n",
    "            final_stack.append(node)\n",
    "        recStack[node] = False\n",
    "#         print(\"Entered the false case...\")\n",
    "        return False"
   ]
  },
  {
   "cell_type": "code",
   "execution_count": 2,
   "metadata": {},
   "outputs": [
    {
     "data": {
      "text/plain": [
       "[0, 2, 1, 3]"
      ]
     },
     "execution_count": 2,
     "metadata": {},
     "output_type": "execute_result"
    }
   ],
   "source": [
    "List = [[1, 0], [2, 0], [3, 1], [3, 2]] \n",
    "# List = []\n",
    "# List = [[0,1],[1,0]]\n",
    "\n",
    "a = Solution()\n",
    "a.findOrder(len(List), List)"
   ]
  },
  {
   "cell_type": "code",
   "execution_count": 3,
   "metadata": {},
   "outputs": [
    {
     "name": "stdout",
     "output_type": "stream",
     "text": [
      "defaultdict(<class 'list'>, {})\n",
      "defaultdict(<class 'list'>, {'a': ['b']})\n"
     ]
    }
   ],
   "source": [
    "from collections import defaultdict\n",
    "\n",
    "d = defaultdict(list)\n",
    "print(d)\n",
    "d['a'] = ['b']\n",
    "print(d)"
   ]
  },
  {
   "cell_type": "code",
   "execution_count": 4,
   "metadata": {},
   "outputs": [
    {
     "name": "stdout",
     "output_type": "stream",
     "text": [
      "['a']\n",
      "['a', 'b']\n",
      "b\n"
     ]
    }
   ],
   "source": [
    "# Stack representation\n",
    "s = []\n",
    "s.append('a')\n",
    "print(s)\n",
    "s.append('b')\n",
    "print(s)\n",
    "print(s.pop())"
   ]
  },
  {
   "cell_type": "markdown",
   "metadata": {},
   "source": [
    "## Approach II : Node Indegree"
   ]
  },
  {
   "cell_type": "code",
   "execution_count": 72,
   "metadata": {},
   "outputs": [],
   "source": [
    "from collections import defaultdict\n",
    "from queue import Queue\n",
    "\n",
    "class Solution:\n",
    "    def findOrder(self, numCourses, prerequisites):\n",
    "        adj_dict = {}\n",
    "        indg_map = {}\n",
    "        final_list = []\n",
    "        zero_indg_q = []\n",
    "        top_order_list = []\n",
    "        (adj_dict, indg_map) = self.createAdjacencyDictIndegreeMap(numCourses, prerequisites)\n",
    "        top_order_list = self.indegreeTraverse(numCourses, adj_dict, indg_map, zero_indg_q, final_list)\n",
    "        return top_order_list[::-1]\n",
    "    \n",
    "    def createAdjacencyDictIndegreeMap(self, numCourses, prerequisites):\n",
    "        adjacencyDictDirected = defaultdict(list)\n",
    "        adjacencyDictUndirect = defaultdict(list)\n",
    "        indegreeMap = defaultdict(int)\n",
    "        for edge in prerequisites:\n",
    "            adjacencyDictDirected[edge[1]].append(edge[0])\n",
    "            adjacencyDictUndirect[edge[1]].append(edge[0])\n",
    "            adjacencyDictUndirect[edge[0]].append(edge[1])\n",
    "        for i in range(numCourses):\n",
    "            indegreeMap[i] = len(adjacencyDictDirected[i])\n",
    "        return (adjacencyDictUndirect, indegreeMap)\n",
    "    \n",
    "    def indegreeTraverse(self, numCourses, adj_dict, indg_map, zero_indg_q, final_list):\n",
    "        if(len(final_list) < numCourses): \n",
    "#             print(len(zero_indg_q))\n",
    "            zero_indg_q.extend([k for (k, v) in indg_map.items() if v == 0])\n",
    "#             print(zero_indg_q)\n",
    "#             print(indg_map)\n",
    "#             print(adj_dict)\n",
    "            if(len(zero_indg_q) != 0):# Check for cycles by checking if there is a node without zero in-degrees left\n",
    "                for i in zero_indg_q:\n",
    "                    del indg_map[i]\n",
    "                while(len(zero_indg_q) != 0):\n",
    "#                     print(len(zero_indg_q))\n",
    "                    current_node = zero_indg_q.pop(0)\n",
    "#                     print(\"Current node: \" + str(adj_dict[current_node]))\n",
    "                    final_list.append(current_node)\n",
    "                    for neighbor in adj_dict[current_node]:\n",
    "                        adj_dict[neighbor].remove(current_node)\n",
    "#                         adj_dict[current_node].remove(neighbor)\n",
    "#                         print(neighbor)\n",
    "                        indg_map[neighbor] -= 1\n",
    "                    del adj_dict[current_node]\n",
    "                if(len(self.indegreeTraverse(numCourses, adj_dict, indg_map, zero_indg_q, final_list)) == 0):\n",
    "#                     final_list = []\n",
    "                    return []\n",
    "                else:\n",
    "                    return final_list\n",
    "            else: \n",
    "#                 print(\"Entered the cycle case...\")\n",
    "                return []\n",
    "        else:\n",
    "#             print(\"Final else case...\" + str(final_list))\n",
    "            return final_list"
   ]
  },
  {
   "cell_type": "code",
   "execution_count": 71,
   "metadata": {},
   "outputs": [
    {
     "name": "stdout",
     "output_type": "stream",
     "text": [
      "[]\n"
     ]
    }
   ],
   "source": [
    "# List = [[1, 0], [2, 0], [3, 1], [3, 2]] \n",
    "# List = []\n",
    "# List = [[0,1],[1,0]]\n",
    "List = [[0,2],[1,2],[2,0]]\n",
    "\n",
    "a = Solution()\n",
    "print(a.findOrder(len(List), List))"
   ]
  },
  {
   "cell_type": "code",
   "execution_count": 32,
   "metadata": {},
   "outputs": [
    {
     "name": "stdout",
     "output_type": "stream",
     "text": [
      "{0: 1, 1: 2, 2: 1, 3: 0}\n"
     ]
    }
   ],
   "source": [
    "Dict = {0: 1, 1: 2, 2: 1, 3: 0}\n",
    "print(Dict)"
   ]
  },
  {
   "cell_type": "code",
   "execution_count": 13,
   "metadata": {},
   "outputs": [
    {
     "name": "stdout",
     "output_type": "stream",
     "text": [
      "[3]\n"
     ]
    }
   ],
   "source": [
    "print([k for (k, v) in Dict.items() if v == 0])"
   ]
  },
  {
   "cell_type": "code",
   "execution_count": null,
   "metadata": {},
   "outputs": [],
   "source": []
  }
 ],
 "metadata": {
  "kernelspec": {
   "display_name": "Python 3",
   "language": "python",
   "name": "python3"
  },
  "language_info": {
   "codemirror_mode": {
    "name": "ipython",
    "version": 3
   },
   "file_extension": ".py",
   "mimetype": "text/x-python",
   "name": "python",
   "nbconvert_exporter": "python",
   "pygments_lexer": "ipython3",
   "version": "3.8.3"
  }
 },
 "nbformat": 4,
 "nbformat_minor": 4
}
