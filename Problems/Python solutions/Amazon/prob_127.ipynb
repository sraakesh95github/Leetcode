{
 "cells": [
  {
   "cell_type": "markdown",
   "metadata": {},
   "source": [
    "## Word Ladder"
   ]
  },
  {
   "cell_type": "code",
   "execution_count": 84,
   "metadata": {},
   "outputs": [],
   "source": [
    "class Solution:\n",
    "    def ladderLength(self, beginWord, endWord, wordList):\n",
    "        length = len(beginWord)\n",
    "        tempWord = ''\n",
    "        counter = 0\n",
    "        secondaryLoopExit = False\n",
    "        for i in range(length + 2):\n",
    "            if(i==0):\n",
    "                if(beginWord in wordList):\n",
    "                    counter = counter + 1\n",
    "            elif(i==length + 1):\n",
    "                if(endWord in wordList):\n",
    "                    return counter+1\n",
    "            else:\n",
    "#             print(tempWord)\n",
    "#             print(\"Next iter...\")\n",
    "                for j in range(length):\n",
    "                    checkedWord = beginWord[0:j] + beginWord[j+1:]\n",
    "                    print(\"Checked Word: \" + checkedWord)\n",
    "                    for index, wrd in enumerate(wordList):\n",
    "                        checkWord = wrd[0:j] + wrd[j+1:]\n",
    "                        print(\"Check Word: \" + checkWord)\n",
    "                        if(checkedWord == checkWord):\n",
    "                            counter = counter + 1\n",
    "                            beginWord = wrd\n",
    "                            print(\"Begin Word: \" + beginWord)\n",
    "                            wordList.remove(beginWord)\n",
    "                            secondaryLoopExit = True\n",
    "                            break\n",
    "                        else:\n",
    "                            if(index == len(wordList) - 1):\n",
    "                                if(j == length-1):\n",
    "                                    return 0\n",
    "\n",
    "                    if(secondaryLoopExit):\n",
    "                        secondaryLoopExit = False\n",
    "                        break\n",
    "        return counter"
   ]
  },
  {
   "cell_type": "code",
   "execution_count": 85,
   "metadata": {},
   "outputs": [
    {
     "name": "stdout",
     "output_type": "stream",
     "text": [
      "Checked Word: it\n",
      "Check Word: ot\n",
      "Check Word: ot\n",
      "Check Word: og\n",
      "Check Word: ot\n",
      "Check Word: og\n",
      "Check Word: og\n",
      "Checked Word: ht\n",
      "Check Word: ht\n",
      "Begin Word: hot\n",
      "Checked Word: ot\n",
      "Check Word: ot\n",
      "Begin Word: dot\n",
      "Checked Word: ot\n",
      "Check Word: og\n",
      "Check Word: ot\n",
      "Begin Word: lot\n",
      "4\n"
     ]
    }
   ],
   "source": [
    "startWord = 'hit'\n",
    "endWord = 'cog'\n",
    "wordList = [\"hot\",\"dot\",\"dog\",\"lot\",\"log\",\"cog\"]\n",
    "\n",
    "a = Solution()\n",
    "b = a.ladderLength(startWord, endWord, wordList)\n",
    "print(b)"
   ]
  },
  {
   "cell_type": "code",
   "execution_count": 44,
   "metadata": {},
   "outputs": [
    {
     "name": "stdout",
     "output_type": "stream",
     "text": [
      "b\n"
     ]
    }
   ],
   "source": [
    "print(chr(98))"
   ]
  },
  {
   "cell_type": "code",
   "execution_count": 58,
   "metadata": {},
   "outputs": [
    {
     "name": "stdout",
     "output_type": "stream",
     "text": [
      "est\n"
     ]
    }
   ],
   "source": [
    "a = list('test')\n",
    "del a[0]\n",
    "print(''.join(a))"
   ]
  },
  {
   "cell_type": "code",
   "execution_count": 61,
   "metadata": {},
   "outputs": [
    {
     "name": "stdout",
     "output_type": "stream",
     "text": [
      "bi\n"
     ]
    }
   ],
   "source": [
    "a = \"bit\"\n",
    "b = \"git\"\n",
    "print(a[0:2])"
   ]
  },
  {
   "cell_type": "code",
   "execution_count": 39,
   "metadata": {},
   "outputs": [],
   "source": [
    "class Solution:\n",
    "    def ladderLength(self, beginWord, endWord, wordList):\n",
    "        maxCounter = 0\n",
    "        for i in range(len(beginWord)):\n",
    "            tempWord = beginWord[0:i] + beginWord[i+1:]\n",
    "            for wrd in wordList:\n",
    "                tempDictWord = wrd[0:i] + wrd[i+1:]\n",
    "                if(tempWord == tempDictWord):\n",
    "                    wordList.remove(wrd)\n",
    "                    (counter, foundSequence) = self.recSeq(wrd, endWord, wordList)\n",
    "                    print(foundSequence)\n",
    "                    if(foundSequence):\n",
    "                        maxCounter = max(maxCounter, counter)\n",
    "        return maxCounter\n",
    "        \n",
    "    def recSeq(self, beginWord, endWord, wordList):\n",
    "        if(beginWord == endWord):\n",
    "            return (1, True)\n",
    "        else: \n",
    "            for i in range(len(beginWord)):\n",
    "                tempWord = beginWord[0:i] + beginWord[i+1:]\n",
    "                print(tempWord)\n",
    "                for wrd in wordList:\n",
    "                    tempDictWord = wrd[0:i] + wrd[i+1:]\n",
    "                    print(tempDictWord)\n",
    "                    if(tempWord == tempDictWord):\n",
    "                        print(\"tempWord: \" + tempWord)\n",
    "                        print(\"Selected word: \" + wrd)\n",
    "                        wordList.remove(wrd)\n",
    "                        (counter, foundSequence) = self.recSeq(wrd, endWord, wordList) \n",
    "                        return (counter + 1, foundSequence)\n",
    "            return (0, False)"
   ]
  },
  {
   "cell_type": "code",
   "execution_count": 40,
   "metadata": {},
   "outputs": [
    {
     "name": "stdout",
     "output_type": "stream",
     "text": [
      "ot\n",
      "ot\n",
      "tempWord: ot\n",
      "Selected word: dot\n",
      "ot\n",
      "og\n",
      "ot\n",
      "tempWord: ot\n",
      "Selected word: lot\n",
      "ot\n",
      "og\n",
      "og\n",
      "og\n",
      "lt\n",
      "dg\n",
      "cg\n",
      "lg\n",
      "lo\n",
      "do\n",
      "co\n",
      "lo\n",
      "tempWord: lo\n",
      "Selected word: log\n",
      "og\n",
      "og\n",
      "tempWord: og\n",
      "Selected word: dog\n",
      "og\n",
      "og\n",
      "tempWord: og\n",
      "Selected word: cog\n",
      "True\n",
      "6\n"
     ]
    }
   ],
   "source": [
    "startWord = 'hit'\n",
    "endWord = 'cog'\n",
    "wordList = [\"hot\",\"dot\",\"dog\",\"lot\",\"cog\",\"log\"]\n",
    "\n",
    "a = Solution()\n",
    "b = a.ladderLength(startWord, endWord, wordList)\n",
    "print(b)"
   ]
  },
  {
   "cell_type": "code",
   "execution_count": 27,
   "metadata": {},
   "outputs": [
    {
     "name": "stdout",
     "output_type": "stream",
     "text": [
      "[2, 6]\n"
     ]
    }
   ],
   "source": [
    "lst = [2, 5, 6]\n",
    "lst.remove(5)\n",
    "print(lst)"
   ]
  },
  {
   "cell_type": "markdown",
   "metadata": {},
   "source": [
    "## BFS as given in Leetcode"
   ]
  },
  {
   "cell_type": "code",
   "execution_count": null,
   "metadata": {},
   "outputs": [],
   "source": [
    "List = [[]]\n",
    "for i in List:\n",
    "    print"
   ]
  }
 ],
 "metadata": {
  "kernelspec": {
   "display_name": "Python 3",
   "language": "python",
   "name": "python3"
  },
  "language_info": {
   "codemirror_mode": {
    "name": "ipython",
    "version": 3
   },
   "file_extension": ".py",
   "mimetype": "text/x-python",
   "name": "python",
   "nbconvert_exporter": "python",
   "pygments_lexer": "ipython3",
   "version": "3.8.3"
  }
 },
 "nbformat": 4,
 "nbformat_minor": 4
}
