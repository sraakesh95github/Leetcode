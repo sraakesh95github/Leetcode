{
 "cells": [
  {
   "cell_type": "code",
   "execution_count": 56,
   "metadata": {},
   "outputs": [],
   "source": [
    "import numpy as np\n",
    "class Solution:\n",
    "    def intToRoman(self, num):\n",
    "        numMap = {\n",
    "            1000: 'M',\n",
    "            900: 'CM',\n",
    "            500: 'D',\n",
    "            400: 'CD',\n",
    "            100: 'C',\n",
    "            90: 'XC',\n",
    "            50: 'L',\n",
    "            40: 'XL',\n",
    "            10: 'X',\n",
    "            9: 'IX',\n",
    "            5: 'V',\n",
    "            4: 'IV',\n",
    "            1: 'I'\n",
    "        }\n",
    "        \n",
    "        roman = \"\"\n",
    "        for sym in numMap:\n",
    "            if(sym > num):\n",
    "                continue\n",
    "            sym_count = num // sym\n",
    "#             print(sym_count)\n",
    "            for i in range(sym_count):\n",
    "                roman = roman + numMap[sym]\n",
    "            num = num-(sym*sym_count)\n",
    "        \n",
    "        return roman"
   ]
  },
  {
   "cell_type": "code",
   "execution_count": 57,
   "metadata": {},
   "outputs": [],
   "source": [
    "digits = [(1000, \"M\"), (900, \"CM\"), (500, \"D\"), (400, \"CD\"), (100, \"C\"), (90, \"XC\"), \n",
    "          (50, \"L\"), (40, \"XL\"), (10, \"X\"), (9, \"IX\"), (5, \"V\"), (4, \"IV\"), (1, \"I\")]\n",
    "\n",
    "def intToRoman2(num):\n",
    "    roman_digits = []\n",
    "    # Loop through each symbol.\n",
    "    for value, symbol in digits:\n",
    "        # We don't want to continue looping if we're done.\n",
    "        if num == 0: break\n",
    "        count, num = divmod(num, value)\n",
    "        # Append \"count\" copies of \"symbol\" to roman_digits.\n",
    "        roman_digits.append(symbol * count)\n",
    "    return \"\".join(roman_digits)"
   ]
  },
  {
   "cell_type": "code",
   "execution_count": 58,
   "metadata": {},
   "outputs": [
    {
     "name": "stdout",
     "output_type": "stream",
     "text": [
      "IV\n"
     ]
    }
   ],
   "source": [
    "# test = 451\n",
    "# test = 1\n",
    "test = 4\n",
    "\n",
    "a = Solution()\n",
    "print(a.intToRoman(test))\n",
    "# print(intToRoman2(test))"
   ]
  },
  {
   "cell_type": "code",
   "execution_count": 18,
   "metadata": {},
   "outputs": [],
   "source": [
    "class Solution:\n",
    "    def romanToInt(self, rom):\n",
    "        \n",
    "        # Convert the literal to a number\n",
    "        def cvtNum(c):\n",
    "            if(c == 'I'):\n",
    "                return 1\n",
    "            elif(c == 'V'):\n",
    "                return 5\n",
    "            elif(c == 'X'):\n",
    "                return 10\n",
    "            elif(c == 'L'):\n",
    "                return 50\n",
    "            elif(c == 'C'):\n",
    "                return 100\n",
    "            elif(c == 'D'):\n",
    "                return 500\n",
    "            else:\n",
    "                return 1000\n",
    "        \n",
    "        i = 0\n",
    "        sum = 0\n",
    "        while(i < len(rom)):\n",
    "            cur = cvtNum(rom[i])\n",
    "            if(i < len(rom)-1):\n",
    "                nxt = cvtNum(rom[i+1])\n",
    "                if(cur < nxt):\n",
    "                    sum = sum + (nxt - cur)\n",
    "                    i+=2\n",
    "                else:\n",
    "                    sum = sum + cur\n",
    "                    i+=1\n",
    "            else:\n",
    "                sum = sum + cur\n",
    "                i+=1\n",
    "        return sum"
   ]
  },
  {
   "cell_type": "code",
   "execution_count": 23,
   "metadata": {},
   "outputs": [
    {
     "data": {
      "text/plain": [
       "991"
      ]
     },
     "execution_count": 23,
     "metadata": {},
     "output_type": "execute_result"
    }
   ],
   "source": [
    "test = \"CMXCI\"\n",
    "\n",
    "a = Solution()\n",
    "a.romanToInt(test)"
   ]
  },
  {
   "cell_type": "code",
   "execution_count": null,
   "metadata": {},
   "outputs": [],
   "source": []
  }
 ],
 "metadata": {
  "kernelspec": {
   "display_name": "Python 3",
   "language": "python",
   "name": "python3"
  },
  "language_info": {
   "codemirror_mode": {
    "name": "ipython",
    "version": 3
   },
   "file_extension": ".py",
   "mimetype": "text/x-python",
   "name": "python",
   "nbconvert_exporter": "python",
   "pygments_lexer": "ipython3",
   "version": "3.8.3"
  }
 },
 "nbformat": 4,
 "nbformat_minor": 4
}
