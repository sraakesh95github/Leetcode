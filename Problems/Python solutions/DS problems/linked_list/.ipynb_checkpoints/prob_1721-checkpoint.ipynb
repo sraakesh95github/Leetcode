{
 "cells": [
  {
   "cell_type": "code",
   "execution_count": 81,
   "metadata": {},
   "outputs": [],
   "source": [
    "# prob 1721\n",
    "# Definition for singly-linked list.\n",
    "class ListNode:\n",
    "    def __init__(self, val=0, next=None):\n",
    "        self.val = val\n",
    "        self.next = next\n",
    "        \n",
    "class Solution:\n",
    "    def swapNodes(self, head, k):\n",
    "        \n",
    "        node = head\n",
    "        listLength = 0\n",
    "        while(node):\n",
    "            listLength+=1\n",
    "            node = node.next\n",
    "#             print(node)\n",
    "#             print(head)\n",
    "        \n",
    "        count = 0\n",
    "        front_node = head\n",
    "#         print(front_node)\n",
    "        while(count < k-1):\n",
    "#             print(count)\n",
    "            count+=1\n",
    "            front_node = front_node.next\n",
    "            \n",
    "        count = 0\n",
    "        rear_node = head\n",
    "        while(count < listLength - k):\n",
    "            count+=1\n",
    "            rear_node = rear_node.next\n",
    "        \n",
    "        front_node.val, rear_node.val = rear_node.val, front_node.val\n",
    "        \n",
    "        print(\"\\n\")\n",
    "        traverseLL(head)\n",
    "        \n",
    "        print(\"Front node value: \" + str(front_node.val))\n",
    "        print(\"Rear node value: \" + str(rear_node.val))\n",
    "        \n",
    "        return head"
   ]
  },
  {
   "cell_type": "code",
   "execution_count": 82,
   "metadata": {},
   "outputs": [
    {
     "name": "stdout",
     "output_type": "stream",
     "text": [
      "\n",
      "\n",
      "4\n",
      "2\n",
      "8\n",
      "7\n",
      "6\n",
      "3\n",
      "Front node value: 2\n",
      "Rear node value: 6\n",
      "4\n",
      "2\n",
      "8\n",
      "7\n",
      "6\n",
      "3\n"
     ]
    }
   ],
   "source": [
    "test_lst = [4, 6, 2, 7, 8, 3]\n",
    "\n",
    "def listToLL(lst):\n",
    "    head = ListNode(lst[0])\n",
    "    head.next = ListNode()\n",
    "    n = head.next\n",
    "    for index, i in enumerate(lst[1:]):\n",
    "        n.val = i\n",
    "        if(index < len(lst)-2):\n",
    "            n.next = ListNode()\n",
    "            n = n.next\n",
    "    n = None\n",
    "    return head\n",
    "\n",
    "def traverseLL(head):\n",
    "    node = head\n",
    "    while(node):\n",
    "        print(node.val)\n",
    "        node = node.next\n",
    "\n",
    "a = Solution()\n",
    "h1 = listToLL(test_lst)\n",
    "# traverseLL(b)\n",
    "\n",
    "h2 = a.swapNodes(b, 2)\n",
    "traverseLL(h2)"
   ]
  },
  {
   "cell_type": "code",
   "execution_count": null,
   "metadata": {},
   "outputs": [],
   "source": []
  }
 ],
 "metadata": {
  "kernelspec": {
   "display_name": "Python 3",
   "language": "python",
   "name": "python3"
  },
  "language_info": {
   "codemirror_mode": {
    "name": "ipython",
    "version": 3
   },
   "file_extension": ".py",
   "mimetype": "text/x-python",
   "name": "python",
   "nbconvert_exporter": "python",
   "pygments_lexer": "ipython3",
   "version": "3.8.3"
  }
 },
 "nbformat": 4,
 "nbformat_minor": 4
}
