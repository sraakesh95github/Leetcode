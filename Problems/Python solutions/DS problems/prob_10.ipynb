{
 "cells": [
  {
   "cell_type": "markdown",
   "metadata": {},
   "source": [
    "# Recursion without Kleene star"
   ]
  },
  {
   "cell_type": "code",
   "execution_count": 6,
   "metadata": {},
   "outputs": [],
   "source": [
    "class Solution:\n",
    "    def isMatch(self, s, p):\n",
    "        if not p: return not s\n",
    "        first_str = bool(s) and p[0] in {s[0], '.'}\n",
    "        return first_str and self.isMatch(s[1:], p[1:])"
   ]
  },
  {
   "cell_type": "code",
   "execution_count": 7,
   "metadata": {},
   "outputs": [
    {
     "name": "stdout",
     "output_type": "stream",
     "text": [
      "False\n"
     ]
    }
   ],
   "source": [
    "s1 = \"test\"\n",
    "# p1 = \".est\"\n",
    "p1 = \"e.st\"\n",
    "\n",
    "a = Solution()\n",
    "print(a.isMatch(s1, p1))"
   ]
  },
  {
   "cell_type": "code",
   "execution_count": 47,
   "metadata": {},
   "outputs": [],
   "source": [
    "class Solution2:\n",
    "    def isMatch(self, t, p):\n",
    "        \n",
    "        # Checks for the completion of the entire string\n",
    "        if not p:\n",
    "            return not t\n",
    "        else:\n",
    "            first_str = bool(t) and p[0] in {t[0], '.'}\n",
    "            \n",
    "            if(len(p) >= 2 and p[1] == '*'):\n",
    "                return (self.isMatch(t, p[2:]) or (first_str and self.isMatch(t[1:], p)))\n",
    "            else:\n",
    "                return first_str and self.isMatch(t[1:], p[1:])"
   ]
  },
  {
   "cell_type": "code",
   "execution_count": 49,
   "metadata": {},
   "outputs": [
    {
     "data": {
      "text/plain": [
       "True"
      ]
     },
     "execution_count": 49,
     "metadata": {},
     "output_type": "execute_result"
    }
   ],
   "source": [
    "# s2 = \"Testyyy\"\n",
    "# p2 = \".esty*\"\n",
    "\n",
    "# s2 = \"Missi\"\n",
    "# p2 = \"Mis*i\"\n",
    "\n",
    "s2 = \"mississippi\"\n",
    "p2 = \"mis*is*ip*.\"\n",
    "\n",
    "# s2 = \"aabbb\"\n",
    "# p2 = \"c*a*b*\"\n",
    "\n",
    "b = Solution2()\n",
    "b.isMatch(s2, p2)"
   ]
  },
  {
   "cell_type": "code",
   "execution_count": null,
   "metadata": {},
   "outputs": [],
   "source": []
  }
 ],
 "metadata": {
  "kernelspec": {
   "display_name": "Python 3",
   "language": "python",
   "name": "python3"
  },
  "language_info": {
   "codemirror_mode": {
    "name": "ipython",
    "version": 3
   },
   "file_extension": ".py",
   "mimetype": "text/x-python",
   "name": "python",
   "nbconvert_exporter": "python",
   "pygments_lexer": "ipython3",
   "version": "3.8.3"
  }
 },
 "nbformat": 4,
 "nbformat_minor": 4
}
