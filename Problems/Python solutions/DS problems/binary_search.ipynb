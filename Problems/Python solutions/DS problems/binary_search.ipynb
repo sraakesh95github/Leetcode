{
 "cells": [
  {
   "cell_type": "markdown",
   "metadata": {},
   "source": [
    "### binary search"
   ]
  },
  {
   "cell_type": "code",
   "execution_count": 42,
   "metadata": {},
   "outputs": [],
   "source": [
    "def binary_search(lst, ele):\n",
    "    l = len(lst)\n",
    "    if(l%2):\n",
    "        middle = (l//2)\n",
    "    else:\n",
    "        middle = (l//2) - 1\n",
    "#     print(lst)\n",
    "    if(len(lst) != 0):\n",
    "        if(ele==lst[middle]):\n",
    "            #print(\"Found the element...\")\n",
    "            return True\n",
    "        elif(ele<lst[middle]):\n",
    "            return binary_search(lst[0:middle], ele)\n",
    "        elif(ele>lst[middle]):\n",
    "#             print(\"Entered greater case...\" + str(lst[middle+1]))\n",
    "            return binary_search(lst[middle+1:], ele)\n",
    "    else:\n",
    "        return False"
   ]
  },
  {
   "cell_type": "code",
   "execution_count": 43,
   "metadata": {},
   "outputs": [
    {
     "name": "stdout",
     "output_type": "stream",
     "text": [
      "True\n"
     ]
    }
   ],
   "source": [
    "lst = [1,2,3,4,5,9,12,13,15,21]\n",
    "print(binary_search(lst, 13))"
   ]
  },
  {
   "cell_type": "code",
   "execution_count": 41,
   "metadata": {},
   "outputs": [
    {
     "name": "stdout",
     "output_type": "stream",
     "text": [
      "Found...\n"
     ]
    }
   ],
   "source": [
    "lst2 = [[1,2,3], [4,5,6], [7,8,9]]\n",
    "if(4 in lst):\n",
    "    print(\"Found...\")\n",
    "else:\n",
    "    print(\"Not found...\")"
   ]
  },
  {
   "cell_type": "code",
   "execution_count": null,
   "metadata": {},
   "outputs": [],
   "source": []
  }
 ],
 "metadata": {
  "kernelspec": {
   "display_name": "Python 3",
   "language": "python",
   "name": "python3"
  },
  "language_info": {
   "codemirror_mode": {
    "name": "ipython",
    "version": 3
   },
   "file_extension": ".py",
   "mimetype": "text/x-python",
   "name": "python",
   "nbconvert_exporter": "python",
   "pygments_lexer": "ipython3",
   "version": "3.7.6"
  }
 },
 "nbformat": 4,
 "nbformat_minor": 4
}
