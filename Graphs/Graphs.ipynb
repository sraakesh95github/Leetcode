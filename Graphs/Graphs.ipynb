{
 "cells": [
  {
   "cell_type": "code",
   "execution_count": 47,
   "metadata": {},
   "outputs": [],
   "source": [
    "class Graph:\n",
    "    \n",
    "    graph = {}\n",
    "    \n",
    "    def __init___(self):\n",
    "        self.graph = {}\n",
    "    \n",
    "    def add_edge(self, node, neighbor):\n",
    "        if node not in self.graph:\n",
    "            self.graph[node] = [neighbor]\n",
    "        else:\n",
    "            if(neighbor not in self.graph[node]):\n",
    "                self.graph[node].append(neighbor)\n",
    "            \n",
    "    def show_edges(self):\n",
    "        for node in self.graph:\n",
    "            print(\"\\n\" + node + \" : \", end='')\n",
    "            print(self.graph[node])"
   ]
  },
  {
   "cell_type": "code",
   "execution_count": 48,
   "metadata": {},
   "outputs": [],
   "source": [
    "g = Graph()"
   ]
  },
  {
   "cell_type": "code",
   "execution_count": 49,
   "metadata": {},
   "outputs": [],
   "source": [
    "g.add_edge('a', 'b')\n",
    "g.add_edge('a', 'c')\n",
    "g.add_edge('a', 'd')\n",
    "g.add_edge('b', 'a')\n",
    "g.add_edge('b', 'd')"
   ]
  },
  {
   "cell_type": "code",
   "execution_count": 50,
   "metadata": {},
   "outputs": [
    {
     "name": "stdout",
     "output_type": "stream",
     "text": [
      "\n",
      "a : ['b', 'c']\n"
     ]
    }
   ],
   "source": [
    "g.show_edges()"
   ]
  },
  {
   "cell_type": "code",
   "execution_count": null,
   "metadata": {},
   "outputs": [],
   "source": []
  }
 ],
 "metadata": {
  "kernelspec": {
   "display_name": "Python 3",
   "language": "python",
   "name": "python3"
  },
  "language_info": {
   "codemirror_mode": {
    "name": "ipython",
    "version": 3
   },
   "file_extension": ".py",
   "mimetype": "text/x-python",
   "name": "python",
   "nbconvert_exporter": "python",
   "pygments_lexer": "ipython3",
   "version": "3.8.3"
  }
 },
 "nbformat": 4,
 "nbformat_minor": 4
}
